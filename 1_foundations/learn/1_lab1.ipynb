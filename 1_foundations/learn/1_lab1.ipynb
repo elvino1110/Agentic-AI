{
 "cells": [
  {
   "cell_type": "code",
   "execution_count": 1,
   "id": "5fd96f27",
   "metadata": {},
   "outputs": [],
   "source": [
    "# First let's do an import. If you get an Import Error, double check that your Kernel is correct..\n",
    "\n",
    "from dotenv import load_dotenv\n"
   ]
  },
  {
   "cell_type": "code",
   "execution_count": 2,
   "id": "c502bd14",
   "metadata": {},
   "outputs": [
    {
     "data": {
      "text/plain": [
       "True"
      ]
     },
     "execution_count": 2,
     "metadata": {},
     "output_type": "execute_result"
    }
   ],
   "source": [
    "# Next it's time to load the API keys into environment variables\n",
    "# If this returns false, see the next cell!\n",
    "\n",
    "load_dotenv(override=True)"
   ]
  },
  {
   "cell_type": "code",
   "execution_count": 3,
   "id": "a7bee7d5",
   "metadata": {},
   "outputs": [
    {
     "name": "stdout",
     "output_type": "stream",
     "text": [
      "OpenAI API Key exists and begins sk-proj-\n"
     ]
    }
   ],
   "source": [
    "# Check the key - if you're not using OpenAI, check whichever key you're using! Ollama doesn't need a key.\n",
    "\n",
    "import os\n",
    "openai_api_key = os.getenv('OPENAI_API_KEY')\n",
    "\n",
    "if openai_api_key:\n",
    "    print(f\"OpenAI API Key exists and begins {openai_api_key[:8]}\")\n",
    "else:\n",
    "    print(\"OpenAI API Key not set - please head to the troubleshooting guide in the setup folder\")\n",
    "    \n"
   ]
  },
  {
   "cell_type": "code",
   "execution_count": 4,
   "id": "3d63edb6",
   "metadata": {},
   "outputs": [],
   "source": [
    "from openai import OpenAI"
   ]
  },
  {
   "cell_type": "code",
   "execution_count": null,
   "id": "75e9e537",
   "metadata": {},
   "outputs": [],
   "source": [
    "# OpenAI is library to connect to the OpenAI API.\n",
    "openai = OpenAI()"
   ]
  },
  {
   "cell_type": "code",
   "execution_count": 7,
   "id": "ab08fd1b",
   "metadata": {},
   "outputs": [],
   "source": [
    "messages = [\n",
    "    {\n",
    "        \"role\": \"user\",\n",
    "        \"content\": \"What is 2 + 2\"\n",
    "    }\n",
    "]"
   ]
  },
  {
   "cell_type": "code",
   "execution_count": 8,
   "id": "4df58586",
   "metadata": {},
   "outputs": [],
   "source": [
    "response = openai.chat.completions.create(\n",
    "    model=\"gpt-4o-mini\",\n",
    "    messages=messages,\n",
    ")"
   ]
  },
  {
   "cell_type": "code",
   "execution_count": 9,
   "id": "90eb7dbe",
   "metadata": {},
   "outputs": [
    {
     "name": "stdout",
     "output_type": "stream",
     "text": [
      "2 + 2 equals 4.\n"
     ]
    }
   ],
   "source": [
    "print(response.choices[0].message.content)"
   ]
  },
  {
   "cell_type": "code",
   "execution_count": 11,
   "id": "eb319b02",
   "metadata": {},
   "outputs": [],
   "source": [
    "question = \"Please purpose a hard, challenging question to assess someone's IQ. Respond only with the question\"\n",
    "messages = [{\"role\": \"user\", \"content\": question}]"
   ]
  },
  {
   "cell_type": "code",
   "execution_count": 12,
   "id": "d46f6a1a",
   "metadata": {},
   "outputs": [],
   "source": [
    "response = openai.chat.completions.create(\n",
    "    model=\"gpt-4o-mini\",\n",
    "    messages=messages,\n",
    ")"
   ]
  },
  {
   "cell_type": "code",
   "execution_count": 13,
   "id": "c3fc6933",
   "metadata": {},
   "outputs": [
    {
     "name": "stdout",
     "output_type": "stream",
     "text": [
      "If a train leaves Station A traveling at 60 miles per hour and another train leaves Station B, 300 miles away, traveling towards Station A at 90 miles per hour, how far from Station A will they meet?\n"
     ]
    }
   ],
   "source": [
    "question = response.choices[0].message.content\n",
    "print(question)"
   ]
  },
  {
   "cell_type": "markdown",
   "id": "c23204e5",
   "metadata": {},
   "source": [
    "### Know try LLM to answer the question. It likes Agentic Pattern, cause like multiple calls to the LLM to solve bigger problems."
   ]
  },
  {
   "cell_type": "code",
   "execution_count": 15,
   "id": "76fa9703",
   "metadata": {},
   "outputs": [],
   "source": [
    "messages = [{\"role\": \"user\", \"content\": question}]"
   ]
  },
  {
   "cell_type": "code",
   "execution_count": 16,
   "id": "6be82286",
   "metadata": {},
   "outputs": [],
   "source": [
    "response = openai.chat.completions.create(\n",
    "    model=\"gpt-4o-mini\",\n",
    "    messages=messages,\n",
    ")"
   ]
  },
  {
   "cell_type": "code",
   "execution_count": 17,
   "id": "c217eed5",
   "metadata": {},
   "outputs": [],
   "source": [
    "answer = response.choices[0].message.content"
   ]
  },
  {
   "cell_type": "code",
   "execution_count": 19,
   "id": "7a39e334",
   "metadata": {},
   "outputs": [
    {
     "name": "stdout",
     "output_type": "stream",
     "text": [
      "To solve the problem, we can set up the equations based on the speeds of the trains and the distance between them.\n",
      "\n",
      "Let:\n",
      "- Train A (from Station A) travels at 60 miles per hour.\n",
      "- Train B (from Station B) travels at 90 miles per hour.\n",
      "- The distance between Station A and Station B is 300 miles.\n",
      "\n",
      "We need to find the time when both trains meet.\n",
      "\n",
      "Let \\( t \\) be the time in hours until they meet.\n",
      "\n",
      "The distance traveled by Train A is given by:\n",
      "\\[\n",
      "\\text{Distance by Train A} = 60t\n",
      "\\]\n",
      "\n",
      "The distance traveled by Train B is given by:\n",
      "\\[\n",
      "\\text{Distance by Train B} = 90t\n",
      "\\]\n",
      "\n",
      "Since the total distance between the trains is 300 miles, we can write the equation:\n",
      "\\[\n",
      "60t + 90t = 300\n",
      "\\]\n",
      "\n",
      "Combining the terms gives:\n",
      "\\[\n",
      "150t = 300\n",
      "\\]\n",
      "\n",
      "Now, solving for \\( t \\):\n",
      "\\[\n",
      "t = \\frac{300}{150} = 2 \\text{ hours}\n",
      "\\]\n",
      "\n",
      "Now we can find the distance from Station A where they meet. The distance traveled by Train A in 2 hours is:\n",
      "\\[\n",
      "\\text{Distance from Station A} = 60t = 60 \\times 2 = 120 \\text{ miles}\n",
      "\\]\n",
      "\n",
      "So, the trains meet 120 miles from Station A.\n"
     ]
    }
   ],
   "source": [
    "print(answer)"
   ]
  },
  {
   "cell_type": "code",
   "execution_count": 20,
   "id": "70f254c8",
   "metadata": {},
   "outputs": [
    {
     "data": {
      "text/markdown": [
       "### Question: If a train leaves Station A traveling at 60 miles per hour and another train leaves Station B, 300 miles away, traveling towards Station A at 90 miles per hour, how far from Station A will they meet?"
      ],
      "text/plain": [
       "<IPython.core.display.Markdown object>"
      ]
     },
     "metadata": {},
     "output_type": "display_data"
    },
    {
     "data": {
      "text/markdown": [
       "### Answer: To solve the problem, we can set up the equations based on the speeds of the trains and the distance between them.\n",
       "\n",
       "Let:\n",
       "- Train A (from Station A) travels at 60 miles per hour.\n",
       "- Train B (from Station B) travels at 90 miles per hour.\n",
       "- The distance between Station A and Station B is 300 miles.\n",
       "\n",
       "We need to find the time when both trains meet.\n",
       "\n",
       "Let \\( t \\) be the time in hours until they meet.\n",
       "\n",
       "The distance traveled by Train A is given by:\n",
       "\\[\n",
       "\\text{Distance by Train A} = 60t\n",
       "\\]\n",
       "\n",
       "The distance traveled by Train B is given by:\n",
       "\\[\n",
       "\\text{Distance by Train B} = 90t\n",
       "\\]\n",
       "\n",
       "Since the total distance between the trains is 300 miles, we can write the equation:\n",
       "\\[\n",
       "60t + 90t = 300\n",
       "\\]\n",
       "\n",
       "Combining the terms gives:\n",
       "\\[\n",
       "150t = 300\n",
       "\\]\n",
       "\n",
       "Now, solving for \\( t \\):\n",
       "\\[\n",
       "t = \\frac{300}{150} = 2 \\text{ hours}\n",
       "\\]\n",
       "\n",
       "Now we can find the distance from Station A where they meet. The distance traveled by Train A in 2 hours is:\n",
       "\\[\n",
       "\\text{Distance from Station A} = 60t = 60 \\times 2 = 120 \\text{ miles}\n",
       "\\]\n",
       "\n",
       "So, the trains meet 120 miles from Station A."
      ],
      "text/plain": [
       "<IPython.core.display.Markdown object>"
      ]
     },
     "metadata": {},
     "output_type": "display_data"
    }
   ],
   "source": [
    "from IPython.display import display, Markdown\n",
    "\n",
    "display(Markdown(f\"### Question: {question}\"))\n",
    "display(Markdown(f\"### Answer: {answer}\"))"
   ]
  },
  {
   "cell_type": "markdown",
   "id": "b18b1669",
   "metadata": {},
   "source": [
    "# Exercise"
   ]
  },
  {
   "cell_type": "markdown",
   "id": "8e044343",
   "metadata": {},
   "source": [
    "<table style=\"margin: 0; text-align: left; width:100%\">\n",
    "    <tr>\n",
    "        <td style=\"width: 150px; height: 150px; vertical-align: middle;\">\n",
    "            <img src=\"../assets/exercise.png\" width=\"150\" height=\"150\" style=\"display: block;\" />\n",
    "        </td>\n",
    "        <td>\n",
    "            <h2 style=\"color:#ff7800;\">Exercise</h2>\n",
    "            <span style=\"color:#ff7800;\">Now try this commercial application:<br/>\n",
    "            First ask the LLM to pick a business area that might be worth exploring for an Agentic AI opportunity.<br/>\n",
    "            Then ask the LLM to present a pain-point in that industry - something challenging that might be ripe for an Agentic solution.<br/>\n",
    "            Finally have 3 third LLM call propose the Agentic AI solution. <br/>\n",
    "            We will cover this at up-coming labs, so don't worry if you're unsure.. just give it a try!\n",
    "            </span>\n",
    "        </td>\n",
    "    </tr>\n",
    "</table>"
   ]
  },
  {
   "cell_type": "code",
   "execution_count": 26,
   "id": "104715d2",
   "metadata": {},
   "outputs": [],
   "source": [
    "messages = [{\"role\": \"user\", \"content\": \"Pick a business area that might be worth exploring for Agentic AI oppurtunity. Just pick the business area\"}]"
   ]
  },
  {
   "cell_type": "code",
   "execution_count": 27,
   "id": "4c5bb802",
   "metadata": {},
   "outputs": [],
   "source": [
    "response = openai.chat.completions.create(\n",
    "    model=\"gpt-4o-mini\",\n",
    "    messages=messages,\n",
    ")"
   ]
  },
  {
   "cell_type": "code",
   "execution_count": 28,
   "id": "db29dc13",
   "metadata": {},
   "outputs": [],
   "source": [
    "business_area = response.choices[0].message.content"
   ]
  },
  {
   "cell_type": "code",
   "execution_count": 29,
   "id": "b8bdf4db",
   "metadata": {},
   "outputs": [
    {
     "data": {
      "text/markdown": [
       "### Business Area: Healthcare."
      ],
      "text/plain": [
       "<IPython.core.display.Markdown object>"
      ]
     },
     "metadata": {},
     "output_type": "display_data"
    }
   ],
   "source": [
    "display(Markdown(f\"### Business Area: {business_area}\"))"
   ]
  },
  {
   "cell_type": "code",
   "execution_count": 35,
   "id": "d205fc7b",
   "metadata": {},
   "outputs": [],
   "source": [
    "messages = [{\"role\": \"user\", \"content\": f\"present a pain-point in the {business_area} that challenging and might be ripe for an Agentic solution. Just tell the paint points\"}]"
   ]
  },
  {
   "cell_type": "code",
   "execution_count": 36,
   "id": "bcbac31a",
   "metadata": {},
   "outputs": [],
   "source": [
    "response = openai.chat.completions.create(\n",
    "    model=\"gpt-4o-mini\",\n",
    "    messages=messages,\n",
    ")"
   ]
  },
  {
   "cell_type": "code",
   "execution_count": 37,
   "id": "3bbed3cf",
   "metadata": {},
   "outputs": [],
   "source": [
    "paint_point = response.choices[0].message.content"
   ]
  },
  {
   "cell_type": "code",
   "execution_count": 38,
   "id": "460d8c30",
   "metadata": {},
   "outputs": [
    {
     "data": {
      "text/markdown": [
       "### Pain Point: One significant pain point in healthcare is **care coordination among multiple providers**. Patients often see several specialists for different aspects of their health, leading to fragmented care. This can result in:\n",
       "\n",
       "- Inconsistent treatment plans \n",
       "- Duplicate tests \n",
       "- Miscommunication about medications \n",
       "- Delays in receiving care \n",
       "- Increased patient frustration and confusion \n",
       "\n",
       "Addressing this challenge is ripe for an agentic solution that can improve communication and streamline the care process among healthcare professionals, ensuring a more cohesive and holistic approach to patient health management."
      ],
      "text/plain": [
       "<IPython.core.display.Markdown object>"
      ]
     },
     "metadata": {},
     "output_type": "display_data"
    }
   ],
   "source": [
    "display(Markdown(f\"### Pain Point: {paint_point}\"))"
   ]
  },
  {
   "cell_type": "code",
   "execution_count": 39,
   "id": "8c9d3f47",
   "metadata": {},
   "outputs": [],
   "source": [
    "question = f\"From this pain point: {paint_point}, give me the solution for Agentic AI solution to solve them\""
   ]
  },
  {
   "cell_type": "code",
   "execution_count": 40,
   "id": "0add87c6",
   "metadata": {},
   "outputs": [],
   "source": [
    "messages = [{\"role\": \"user\", \"content\": question}]"
   ]
  },
  {
   "cell_type": "code",
   "execution_count": 41,
   "id": "b33d22ca",
   "metadata": {},
   "outputs": [],
   "source": [
    "response = openai.chat.completions.create(\n",
    "    model=\"gpt-4o-mini\",\n",
    "    messages=messages,\n",
    ")"
   ]
  },
  {
   "cell_type": "code",
   "execution_count": 42,
   "id": "bb9dab68",
   "metadata": {},
   "outputs": [],
   "source": [
    "solutions = response.choices[0].message.content"
   ]
  },
  {
   "cell_type": "code",
   "execution_count": 44,
   "id": "db6b488e",
   "metadata": {},
   "outputs": [
    {
     "data": {
      "text/markdown": [
       "### Solutions: To tackle the challenge of fragmented care coordination among multiple healthcare providers, an Agentic AI solution can be developed, referred to as **\"CareSync AI\"**. This comprehensive platform would leverage artificial intelligence and machine learning to create a seamless communication and coordination system among healthcare providers. Here’s a breakdown of its features and functionalities:\n",
       "\n",
       "### CareSync AI Features:\n",
       "\n",
       "1. **Unified Patient Health Record (PHR)**:\n",
       "   - **Integration with EHRs**: Pulls data from various electronic health records (EHRs) to create a single, unified health summary accessible to all authorized providers.\n",
       "   - **Real-time Updates**: Automatically updates information as new tests, treatments, or medications are entered by any provider, ensuring everyone has the latest data.\n",
       "\n",
       "2. **AI-Powered Care Plans**:\n",
       "   - **Personalized Treatment Plans**: Utilizes patient data and history to suggest cohesive and consistent treatment plans that incorporate inputs from all relevant specialists.\n",
       "   - **Collaboration Tools**: Allows providers to collaborate directly on treatment plans, discuss options, and document consensus decisions within the platform.\n",
       "\n",
       "3. **Medication Management**:\n",
       "   - **Medication Reconciliation**: Analyses prescriptions from all providers to identify potential conflicts, redundancies, and adverse interactions.\n",
       "   - **Patient Alerts**: Sends alerts to both patients and providers regarding medication changes, reminders for refills, and potential side effects.\n",
       "\n",
       "4. **Real-Time Communication Tools**:\n",
       "   - **Secure Messaging**: Offers HIPAA-compliant secure messaging channels for providers to communicate quickly and efficiently regarding patient care.\n",
       "   - **Telehealth Integrations**: Facilitates virtual consultations among providers and with patients to enhance access and reduce delays in care.\n",
       "\n",
       "5. **Appointment & Referral Management**:\n",
       "   - **Smart Scheduling**: Automatically suggests optimal scheduling for both providers and patients based on availability and urgency of care.\n",
       "   - **Referral Tracking**: Provides a transparent system for tracking referrals, ensuring patients are connected to the right specialists without unnecessary delays.\n",
       "\n",
       "6. **Patient Engagement Tools**:\n",
       "   - **Patient Portals**: Offers a user-friendly portal for patients to view their health records, communicate with providers, and access educational resources.\n",
       "   - **Feedback Mechanism**: Collects patient feedback on their care experience to identify and address points of confusion or frustration in real-time.\n",
       "\n",
       "7. **Data Analytics and Reporting**:\n",
       "   - **Performance Metrics**: Generates reports for healthcare providers to analyze treatment effectiveness, patient outcomes, and care coordination efficiency.\n",
       "   - **Population Health Insights**: Uses aggregated data to identify trends, gaps in care, and opportunities for improvement across populations.\n",
       "\n",
       "8. **Predictive Analytics**:\n",
       "   - **Risk Stratification**: Leverages historical data to predict which patients may need more intensive management and coordinates proactive outreach.\n",
       "   - **Outcome Monitoring**: Tracks patient outcomes over time to refine care strategies continuously and enhance overall healthcare quality.\n",
       "\n",
       "### Implementation Strategy:\n",
       "\n",
       "1. **Collaboration with Healthcare Systems**: Partner with hospitals, clinics, and health systems to ensure seamless integration with existing workflows.\n",
       "  \n",
       "2. **Regulatory Compliance**: Ensure all components of the system comply with regulations such as HIPAA to protect patient privacy and data security.\n",
       "\n",
       "3. **Training and Support**: Provide comprehensive training for healthcare providers and support staff to ensure effective usage and adoption of the system.\n",
       "\n",
       "4. **Pilot Program**: Initiate a pilot program within select healthcare facilities to gather feedback and optimize the platform before a broader rollout.\n",
       "\n",
       "5. **Continuous Improvement**: Establish mechanisms for ongoing feedback and updates to improve the platform based on user experiences and technological advancements.\n",
       "\n",
       "### Conclusion:\n",
       "\n",
       "CareSync AI addresses the significant pain point of care coordination by leveraging technology to enhance communication, streamline processes, and provide a holistic view of each patient’s journey. By implementing this solution, healthcare providers can deliver more cohesive, efficient, and effective care, leading to improved patient outcomes and satisfaction."
      ],
      "text/plain": [
       "<IPython.core.display.Markdown object>"
      ]
     },
     "metadata": {},
     "output_type": "display_data"
    }
   ],
   "source": [
    "display(Markdown(f\"### Solutions: {solutions}\"))"
   ]
  },
  {
   "cell_type": "code",
   "execution_count": null,
   "id": "19488eab",
   "metadata": {},
   "outputs": [],
   "source": []
  }
 ],
 "metadata": {
  "kernelspec": {
   "display_name": "agents",
   "language": "python",
   "name": "python3"
  },
  "language_info": {
   "codemirror_mode": {
    "name": "ipython",
    "version": 3
   },
   "file_extension": ".py",
   "mimetype": "text/x-python",
   "name": "python",
   "nbconvert_exporter": "python",
   "pygments_lexer": "ipython3",
   "version": "3.12.11"
  }
 },
 "nbformat": 4,
 "nbformat_minor": 5
}
