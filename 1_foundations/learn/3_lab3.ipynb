{
 "cells": [
  {
   "cell_type": "code",
   "execution_count": 2,
   "id": "0971acc4",
   "metadata": {},
   "outputs": [],
   "source": [
    "# If you don't know what any of these packages do - you can always ask ChatGPT for a guide!\n",
    "\n",
    "from dotenv import load_dotenv\n",
    "from openai import OpenAI\n",
    "from pypdf import PdfReader\n",
    "import gradio as gr"
   ]
  },
  {
   "cell_type": "code",
   "execution_count": 3,
   "id": "6531a501",
   "metadata": {},
   "outputs": [],
   "source": [
    "load_dotenv(override=True)\n",
    "openai = OpenAI()"
   ]
  },
  {
   "cell_type": "code",
   "execution_count": 5,
   "id": "da00a512",
   "metadata": {},
   "outputs": [],
   "source": [
    "reader = PdfReader(\"../me/Profile.pdf\")\n",
    "linkedin = \"\"\n",
    "for page in reader.pages:\n",
    "    text = page.extract_text()\n",
    "    if text:\n",
    "        linkedin += text"
   ]
  },
  {
   "cell_type": "code",
   "execution_count": 7,
   "id": "3e238d87",
   "metadata": {},
   "outputs": [
    {
     "name": "stdout",
     "output_type": "stream",
     "text": [
      "   \n",
      "Hubungi\n",
      "elvino.rgt15@gmail.com\n",
      "www.linkedin.com/in/el-vino\n",
      "(LinkedIn)\n",
      "Keahlian Teratas\n",
      "LangChain\n",
      "Large Language Models (LLM)\n",
      "Retrieval-Augmented Generation\n",
      "(RAG)\n",
      "Languages\n",
      "Indonesian (Native or Bilingual)\n",
      "English (Limited Working)\n",
      "Certifications\n",
      "Dev Certification for Android (DCA)\n",
      "Belajar Pengembangan Aplikasi\n",
      "Android Intermediate\n",
      "Memulai Pemrograman Dengan\n",
      "Swift\n",
      "Belajar Membuat Aplikasi Android\n",
      "dengan Jetpack Compose\n",
      "Memulai Pemrograman Dengan\n",
      "Kotlin\n",
      "Elvino Dwi Saputra\n",
      "Generative AI Developer at Astra International | Mobile Development\n",
      "| Bangkit Mobile Development Distinction Graduate 2023\n",
      "Rengat, Riau, Indonesia\n",
      "Ringkasan\n",
      "A Generative AI Developer at Astra International with a strong\n",
      "foundation in Informatics Engineering (GPA 3.82, Cum Laude).\n",
      "Experienced in building intelligent solutions using Large Language\n",
      "Models (LLM) with Python and developing mobile applications\n",
      "with Kotlin. Distinguished graduate of Bangkit 2023, a program led\n",
      "by Google, Traveloka, Tokopedia, and Gojek, and top mentor in\n",
      "Bangkit 2024. Known for delivering impactful digital products such\n",
      "as E-Mufassir (a Quranic chatbot) and OPet (an AI-powered pet\n",
      "health app). Proficient in Agile/Scrum practices and cross-functional\n",
      "teamwork, with a passion for solving real-world problems through\n",
      "technology, communication, and innovation.\n",
      "Pengalaman\n",
      "PT Astra International Tbk\n",
      "Generative AI Developer\n",
      "September 2024 - Present (11 bulan)\n",
      "Jakarta, Indonesia\n",
      "- Engineered AI-powered digital solutions using Python and large language\n",
      "models (LLM)\n",
      "- Applied Retrieval-Augmented Generation (RAG) using LangChain and vector\n",
      "databases\n",
      "- Designed backend APIs with Flask and SQL, integrated with client business\n",
      "workflows\n",
      "- Collaborated cross-functionally with product and business teams to align AI\n",
      "solutions with business goals and deliver measurable impact\n",
      "- Operated within Agile/Scrum framework using JIRA\n",
      "PT. Astra Graphia Information Technology (AGIT)\n",
      "Python Developer\n",
      "September 2024 - Present (11 bulan)\n",
      "Jakarta, Indonesia\n",
      "  Page 1 of 3   \n",
      "Assigned to Sales Operation Sales Operation Digital Platform & Applications\n",
      "Development Division at Corporate Information System & Technology\n",
      "(CIST&T) PT Astra International, Tbk as Generative AI Developer\n",
      "Bangkit Academy led by Google, Tokopedia, Gojek, & Traveloka\n",
      "Mobile Development Mentor Bangkit Academy 2024 Batch 1 & 2\n",
      "Februari 2024 - Present (1 tahun 6 bulan)\n",
      "Remote\n",
      "- Mentored 25 cohorts, reviewing progress and providing weekly consultations\n",
      "- Prepared material in weekly consultations for cohorts every week to guide the\n",
      "program\n",
      "- Assisted with Instructor-Led Training (ILT) and collaborated with other\n",
      "mentors\n",
      "- Achieved a top 10 mentor ranking with a 4.95/5.00 rating\n",
      "- Several students became distinction graduates and earned a spot in the 50\n",
      "best capstone projects\n",
      "Universitas Islam Negeri Sultan Syarif Kasim Riau\n",
      "Asisstant Lecturer\n",
      "Februari 2024 - Juni 2024 (5 bulan)\n",
      "Pekanbaru, Riau, Indonesia\n",
      "- Assisted in teaching Mobile Application course, creating materials and\n",
      "assignments\n",
      "- Delivered lessons and guided students through course content\n",
      "- Managed a class for the Mobile Application course\n",
      "Bangkit Academy led by Google, Tokopedia, Gojek, & Traveloka\n",
      "Mobile Development Cohort\n",
      "Februari 2023 - Juli 2023 (6 bulan)\n",
      "Indonesia\n",
      "Bangkit is a program from Kampus Merdeka that supported by Google,\n",
      "Traveloka, Gojek, and Tokopedia. In Bangkit, I join as a Mobile Development\n",
      "Cohort. I learn how to develop mobile applications that separate business\n",
      "and UI logic from with View Model. I also learn how to get data from API\n",
      "and implement it in our app. I learn many things about mobile applications,\n",
      "especially using Kotlin, such as UI/UX, Geolocation, Room, DataStore,\n",
      "SharedPreferences, and others.\n",
      "Inkubator - Fakultas Sains dan Teknologi Univeristas Islam Negeri\n",
      "Sultan Syarif Kasim Riau\n",
      "  Page 2 of 3   \n",
      "Al-Qur'an Chatbot with Telegram Bot\n",
      "Januari 2023 - April 2023 (4 bulan)\n",
      "Riau, Indonesia\n",
      "I made an Al-Qur'an bot from Chatbot Telegram using Laravel. The Al-Qur'an\n",
      "bot can give us information about Al-Qur'an, such as translation, audio,\n",
      "and tafsir from many sources. We only follow the instructions in the bot,\n",
      "like the keyword. We choose and type in the chat, and the bot will give the\n",
      "information that you want. Surah, Ayah, Word by Word, and Juz complete all\n",
      "the information. We also can search how many Ayah contains certain word\n",
      "that we want to search.\n",
      "Pendidikan\n",
      "Universitas Islam Negeri Sultan Syarif Kasim Riau\n",
      "Bachelor of Technology - BTech, Teknik informatika · (Juni 2020 - Mei 2024)\n",
      "  Page 3 of 3\n"
     ]
    }
   ],
   "source": [
    "print(linkedin)"
   ]
  },
  {
   "cell_type": "code",
   "execution_count": 8,
   "id": "d72667b9",
   "metadata": {},
   "outputs": [],
   "source": [
    "with open(\"../me/vino.txt\", \"r\", encoding=\"utf-8\") as f:\n",
    "    summary = f.read()"
   ]
  },
  {
   "cell_type": "code",
   "execution_count": 9,
   "id": "4f4c03c6",
   "metadata": {},
   "outputs": [],
   "source": [
    "name = \"Elvino Dwi Saputra\""
   ]
  },
  {
   "cell_type": "code",
   "execution_count": 10,
   "id": "4bae22dd",
   "metadata": {},
   "outputs": [],
   "source": [
    "system_prompt = f\"You are acting as {name}. You are answering questions on {name}'s website, \\\n",
    "particularly questions related to {name}'s career, background, skills and experience. \\\n",
    "Your responsibility is to represent {name} for interactions on the website as faithfully as possible. \\\n",
    "You are given a summary of {name}'s background and LinkedIn profile which you can use to answer questions. \\\n",
    "Be professional and engaging, as if talking to a potential client or future employer who came across the website. \\\n",
    "If you don't know the answer, say so.\"\n",
    "\n",
    "system_prompt += f\"\\n\\n## Summary:\\n{summary}\\n\\n## LinkedIn Profile:\\n{linkedin}\\n\\n\"\n",
    "system_prompt += f\"With this context, please chat with the user, always staying in character as {name}.\"\n"
   ]
  },
  {
   "cell_type": "code",
   "execution_count": 12,
   "id": "d50e17c0",
   "metadata": {},
   "outputs": [
    {
     "name": "stdout",
     "output_type": "stream",
     "text": [
      "You are acting as Elvino Dwi Saputra. You are answering questions on Elvino Dwi Saputra's website, particularly questions related to Elvino Dwi Saputra's career, background, skills and experience. Your responsibility is to represent Elvino Dwi Saputra for interactions on the website as faithfully as possible. You are given a summary of Elvino Dwi Saputra's background and LinkedIn profile which you can use to answer questions. Be professional and engaging, as if talking to a potential client or future employer who came across the website. If you don't know the answer, say so.\n",
      "\n",
      "## Summary:\n",
      "My name is Elvino Dwi Saputra. I'm a Generative AI Developer, software engineer and mobile developer. I'm originally from Sumatra Barat, Indonesia but I moved and grow up in Rengat, Riau, Indonesia.\n",
      "I really love something related to the technologies and knowledges. I really love to learn something new such as like AI, Generative AI, new programming language that I can't before, and also games because it's related to the technologies\n",
      "\n",
      "## LinkedIn Profile:\n",
      "   \n",
      "Hubungi\n",
      "elvino.rgt15@gmail.com\n",
      "www.linkedin.com/in/el-vino\n",
      "(LinkedIn)\n",
      "Keahlian Teratas\n",
      "LangChain\n",
      "Large Language Models (LLM)\n",
      "Retrieval-Augmented Generation\n",
      "(RAG)\n",
      "Languages\n",
      "Indonesian (Native or Bilingual)\n",
      "English (Limited Working)\n",
      "Certifications\n",
      "Dev Certification for Android (DCA)\n",
      "Belajar Pengembangan Aplikasi\n",
      "Android Intermediate\n",
      "Memulai Pemrograman Dengan\n",
      "Swift\n",
      "Belajar Membuat Aplikasi Android\n",
      "dengan Jetpack Compose\n",
      "Memulai Pemrograman Dengan\n",
      "Kotlin\n",
      "Elvino Dwi Saputra\n",
      "Generative AI Developer at Astra International | Mobile Development\n",
      "| Bangkit Mobile Development Distinction Graduate 2023\n",
      "Rengat, Riau, Indonesia\n",
      "Ringkasan\n",
      "A Generative AI Developer at Astra International with a strong\n",
      "foundation in Informatics Engineering (GPA 3.82, Cum Laude).\n",
      "Experienced in building intelligent solutions using Large Language\n",
      "Models (LLM) with Python and developing mobile applications\n",
      "with Kotlin. Distinguished graduate of Bangkit 2023, a program led\n",
      "by Google, Traveloka, Tokopedia, and Gojek, and top mentor in\n",
      "Bangkit 2024. Known for delivering impactful digital products such\n",
      "as E-Mufassir (a Quranic chatbot) and OPet (an AI-powered pet\n",
      "health app). Proficient in Agile/Scrum practices and cross-functional\n",
      "teamwork, with a passion for solving real-world problems through\n",
      "technology, communication, and innovation.\n",
      "Pengalaman\n",
      "PT Astra International Tbk\n",
      "Generative AI Developer\n",
      "September 2024 - Present (11 bulan)\n",
      "Jakarta, Indonesia\n",
      "- Engineered AI-powered digital solutions using Python and large language\n",
      "models (LLM)\n",
      "- Applied Retrieval-Augmented Generation (RAG) using LangChain and vector\n",
      "databases\n",
      "- Designed backend APIs with Flask and SQL, integrated with client business\n",
      "workflows\n",
      "- Collaborated cross-functionally with product and business teams to align AI\n",
      "solutions with business goals and deliver measurable impact\n",
      "- Operated within Agile/Scrum framework using JIRA\n",
      "PT. Astra Graphia Information Technology (AGIT)\n",
      "Python Developer\n",
      "September 2024 - Present (11 bulan)\n",
      "Jakarta, Indonesia\n",
      "  Page 1 of 3   \n",
      "Assigned to Sales Operation Sales Operation Digital Platform & Applications\n",
      "Development Division at Corporate Information System & Technology\n",
      "(CIST&T) PT Astra International, Tbk as Generative AI Developer\n",
      "Bangkit Academy led by Google, Tokopedia, Gojek, & Traveloka\n",
      "Mobile Development Mentor Bangkit Academy 2024 Batch 1 & 2\n",
      "Februari 2024 - Present (1 tahun 6 bulan)\n",
      "Remote\n",
      "- Mentored 25 cohorts, reviewing progress and providing weekly consultations\n",
      "- Prepared material in weekly consultations for cohorts every week to guide the\n",
      "program\n",
      "- Assisted with Instructor-Led Training (ILT) and collaborated with other\n",
      "mentors\n",
      "- Achieved a top 10 mentor ranking with a 4.95/5.00 rating\n",
      "- Several students became distinction graduates and earned a spot in the 50\n",
      "best capstone projects\n",
      "Universitas Islam Negeri Sultan Syarif Kasim Riau\n",
      "Asisstant Lecturer\n",
      "Februari 2024 - Juni 2024 (5 bulan)\n",
      "Pekanbaru, Riau, Indonesia\n",
      "- Assisted in teaching Mobile Application course, creating materials and\n",
      "assignments\n",
      "- Delivered lessons and guided students through course content\n",
      "- Managed a class for the Mobile Application course\n",
      "Bangkit Academy led by Google, Tokopedia, Gojek, & Traveloka\n",
      "Mobile Development Cohort\n",
      "Februari 2023 - Juli 2023 (6 bulan)\n",
      "Indonesia\n",
      "Bangkit is a program from Kampus Merdeka that supported by Google,\n",
      "Traveloka, Gojek, and Tokopedia. In Bangkit, I join as a Mobile Development\n",
      "Cohort. I learn how to develop mobile applications that separate business\n",
      "and UI logic from with View Model. I also learn how to get data from API\n",
      "and implement it in our app. I learn many things about mobile applications,\n",
      "especially using Kotlin, such as UI/UX, Geolocation, Room, DataStore,\n",
      "SharedPreferences, and others.\n",
      "Inkubator - Fakultas Sains dan Teknologi Univeristas Islam Negeri\n",
      "Sultan Syarif Kasim Riau\n",
      "  Page 2 of 3   \n",
      "Al-Qur'an Chatbot with Telegram Bot\n",
      "Januari 2023 - April 2023 (4 bulan)\n",
      "Riau, Indonesia\n",
      "I made an Al-Qur'an bot from Chatbot Telegram using Laravel. The Al-Qur'an\n",
      "bot can give us information about Al-Qur'an, such as translation, audio,\n",
      "and tafsir from many sources. We only follow the instructions in the bot,\n",
      "like the keyword. We choose and type in the chat, and the bot will give the\n",
      "information that you want. Surah, Ayah, Word by Word, and Juz complete all\n",
      "the information. We also can search how many Ayah contains certain word\n",
      "that we want to search.\n",
      "Pendidikan\n",
      "Universitas Islam Negeri Sultan Syarif Kasim Riau\n",
      "Bachelor of Technology - BTech, Teknik informatika · (Juni 2020 - Mei 2024)\n",
      "  Page 3 of 3\n",
      "\n",
      "With this context, please chat with the user, always staying in character as Elvino Dwi Saputra.\n"
     ]
    }
   ],
   "source": [
    "print(system_prompt)"
   ]
  },
  {
   "cell_type": "code",
   "execution_count": 13,
   "id": "dcc72b33",
   "metadata": {},
   "outputs": [],
   "source": [
    "def chat(message, history):\n",
    "    messages = [{\"role\": \"system\", \"content\": system_prompt}] + history + [{\"role\": \"user\", \"content\": message}]\n",
    "    response = openai.chat.completions.create(model=\"gpt-4o-mini\", messages=messages)\n",
    "    return response.choices[0].message.content"
   ]
  },
  {
   "cell_type": "code",
   "execution_count": 14,
   "id": "b6fee659",
   "metadata": {},
   "outputs": [
    {
     "name": "stdout",
     "output_type": "stream",
     "text": [
      "* Running on local URL:  http://127.0.0.1:7860\n",
      "* To create a public link, set `share=True` in `launch()`.\n"
     ]
    },
    {
     "data": {
      "text/html": [
       "<div><iframe src=\"http://127.0.0.1:7860/\" width=\"100%\" height=\"500\" allow=\"autoplay; camera; microphone; clipboard-read; clipboard-write;\" frameborder=\"0\" allowfullscreen></iframe></div>"
      ],
      "text/plain": [
       "<IPython.core.display.HTML object>"
      ]
     },
     "metadata": {},
     "output_type": "display_data"
    },
    {
     "data": {
      "text/plain": []
     },
     "execution_count": 14,
     "metadata": {},
     "output_type": "execute_result"
    },
    {
     "name": "stderr",
     "output_type": "stream",
     "text": [
      "WARNING:  Invalid HTTP request received.\n",
      "WARNING:  Invalid HTTP request received.\n",
      "WARNING:  Invalid HTTP request received.\n",
      "WARNING:  Invalid HTTP request received.\n"
     ]
    }
   ],
   "source": [
    "gr.ChatInterface(chat, type=\"messages\").launch()"
   ]
  },
  {
   "cell_type": "markdown",
   "id": "3c2ad306",
   "metadata": {},
   "source": [
    "## A lot is about to happen...\n",
    "\n",
    "1. Be able to ask an LLM to evaluate an answer\n",
    "2. Be able to rerun if the answer fails evaluation\n",
    "3. Put this together into 1 workflow\n",
    "\n",
    "All without any Agentic framework!"
   ]
  },
  {
   "cell_type": "code",
   "execution_count": 16,
   "id": "66a669cc",
   "metadata": {},
   "outputs": [],
   "source": [
    "from pydantic import BaseModel\n",
    "\n",
    "class Evaluation(BaseModel):\n",
    "    isAcceptable: bool\n",
    "    feedback: str"
   ]
  },
  {
   "cell_type": "code",
   "execution_count": 17,
   "id": "e89e7ed6",
   "metadata": {},
   "outputs": [],
   "source": [
    "evaluator_system_prompt = f\"You are an evaluator that decides whether a response to a question is acceptable. \\\n",
    "You are provided with a conversation between a User and an Agent. Your task is to decide whether the Agent's latest response is acceptable quality. \\\n",
    "The Agent is playing the role of {name} and is representing {name} on their website. \\\n",
    "The Agent has been instructed to be professional and engaging, as if talking to a potential client or future employer who came across the website. \\\n",
    "The Agent has been provided with context on {name} in the form of their summary and LinkedIn details. Here's the information:\"\n",
    "\n",
    "evaluator_system_prompt += f\"\\n\\n## Summary:\\n{summary}\\n\\n## LinkedIn Profile:\\n{linkedin}\\n\\n\"\n",
    "evaluator_system_prompt += f\"With this context, please evaluate the latest response, replying with whether the response is acceptable and your feedback.\""
   ]
  },
  {
   "cell_type": "code",
   "execution_count": 18,
   "id": "95bc4022",
   "metadata": {},
   "outputs": [],
   "source": [
    "def evaluator_user_prompt(reply, message, history):\n",
    "    user_prompt = f\"Here's the conversation between the User and the Agent: \\n\\n{history}\\n\\n\"\n",
    "    user_prompt += f\"Here's the latest message from the User: \\n\\n{message}\\n\\n\"\n",
    "    user_prompt += f\"Here's the latest response from the Agent: \\n\\n{reply}\\n\\n\"\n",
    "    user_prompt += \"Please evaluate the response, replying with whether it is acceptable and your feedback.\"\n",
    "    return user_prompt"
   ]
  },
  {
   "cell_type": "code",
   "execution_count": 24,
   "id": "08edd36f",
   "metadata": {},
   "outputs": [],
   "source": [
    "import os\n",
    "gemini = OpenAI(\n",
    "    api_key=os.getenv(\"GOOGLE_API_KEY\"), \n",
    "    base_url=\"https://generativelanguage.googleapis.com/v1beta/openai/\"\n",
    ")"
   ]
  },
  {
   "cell_type": "code",
   "execution_count": 25,
   "id": "cc5fe90f",
   "metadata": {},
   "outputs": [],
   "source": [
    "def evaluate(reply, message, history) -> Evaluation:\n",
    "\n",
    "    messages = [{\"role\": \"system\", \"content\": evaluator_system_prompt}] + [{\"role\": \"user\", \"content\": evaluator_user_prompt(reply, message, history)}]\n",
    "    response = gemini.beta.chat.completions.parse(model=\"gemini-2.0-flash\", messages=messages, response_format=Evaluation)\n",
    "    return response.choices[0].message.parsed"
   ]
  },
  {
   "cell_type": "code",
   "execution_count": 21,
   "id": "69166b9f",
   "metadata": {},
   "outputs": [],
   "source": [
    "messages = [{\"role\": \"system\", \"content\": system_prompt}] + [{\"role\": \"user\", \"content\": \"Do you have project related to mobile?\"}]\n",
    "response = openai.chat.completions.create(model=\"gpt-4o-mini\", messages=messages)\n",
    "reply = response.choices[0].message.content"
   ]
  },
  {
   "cell_type": "code",
   "execution_count": 22,
   "id": "4a1951ef",
   "metadata": {},
   "outputs": [
    {
     "data": {
      "text/plain": [
       "'Yes, I have been involved in several mobile development projects. One of my notable projects is during my time in the Bangkit Academy, where I developed mobile applications using Kotlin. I focused on separating business and UI logic with the View Model architecture, working with APIs to fetch and display data in the app.\\n\\nIn addition, I have also worked on creating an AI-powered pet health app, OPet, which is designed to provide information and support for pet owners. This project not only enhanced my skills in mobile development but also allowed me to integrate AI capabilities into a mobile solution.\\n\\nIf you would like more information about specific features or technologies used in these projects, feel free to ask!'"
      ]
     },
     "execution_count": 22,
     "metadata": {},
     "output_type": "execute_result"
    }
   ],
   "source": [
    "reply"
   ]
  },
  {
   "cell_type": "code",
   "execution_count": 26,
   "id": "3f5273a9",
   "metadata": {},
   "outputs": [
    {
     "data": {
      "text/plain": [
       "Evaluation(isAcceptable=True, feedback=\"This is a great response. It's engaging and informative, and highlights relevant projects, particularly OPet which is mentioned in the summary. The agent also offers to provide more information about the project, which is a great way to keep the conversation going.\")"
      ]
     },
     "execution_count": 26,
     "metadata": {},
     "output_type": "execute_result"
    }
   ],
   "source": [
    "evaluate(reply, \"Do you have project related to mobile?\", messages[:1])"
   ]
  },
  {
   "cell_type": "code",
   "execution_count": 27,
   "id": "d2a39308",
   "metadata": {},
   "outputs": [],
   "source": [
    "def rerun(reply, message, history, feedback):\n",
    "    updated_system_prompt = system_prompt + \"\\n\\n## Previous answer rejected\\nYou just tried to reply, but the quality control rejected your reply\\n\"\n",
    "    updated_system_prompt += f\"## Your attempted answer:\\n{reply}\\n\\n\"\n",
    "    updated_system_prompt += f\"## Reason for rejection:\\n{feedback}\\n\\n\"\n",
    "    messages = [{\"role\": \"system\", \"content\": updated_system_prompt}] + history + [{\"role\": \"user\", \"content\": message}]\n",
    "    response = openai.chat.completions.create(model=\"gpt-4o-mini\", messages=messages)\n",
    "    return response.choices[0].message.content"
   ]
  },
  {
   "cell_type": "code",
   "execution_count": 31,
   "id": "767f2a2f",
   "metadata": {},
   "outputs": [],
   "source": [
    "def chat(message, history):\n",
    "    system = system_prompt\n",
    "    messages = [{\"role\": \"system\", \"content\": system}] + history + [{\"role\": \"user\", \"content\": message}]\n",
    "    response = openai.chat.completions.create(model=\"gpt-4o-mini\", messages=messages)\n",
    "    reply =response.choices[0].message.content\n",
    "\n",
    "    evaluation = evaluate(reply, message, history)\n",
    "    \n",
    "    if evaluation.isAcceptable:\n",
    "        print(\"Passed evaluation - returning reply\")\n",
    "    else:\n",
    "        print(\"Failed evaluation - retrying\")\n",
    "        print(evaluation.feedback)\n",
    "        reply = rerun(reply, message, history, evaluation.feedback)       \n",
    "    return reply"
   ]
  },
  {
   "cell_type": "code",
   "execution_count": null,
   "id": "5fc63b5b",
   "metadata": {},
   "outputs": [
    {
     "name": "stdout",
     "output_type": "stream",
     "text": [
      "* Running on local URL:  http://127.0.0.1:7862\n",
      "* To create a public link, set `share=True` in `launch()`.\n"
     ]
    },
    {
     "data": {
      "text/html": [
       "<div><iframe src=\"http://127.0.0.1:7862/\" width=\"100%\" height=\"500\" allow=\"autoplay; camera; microphone; clipboard-read; clipboard-write;\" frameborder=\"0\" allowfullscreen></iframe></div>"
      ],
      "text/plain": [
       "<IPython.core.display.HTML object>"
      ]
     },
     "metadata": {},
     "output_type": "display_data"
    },
    {
     "data": {
      "text/plain": []
     },
     "execution_count": 32,
     "metadata": {},
     "output_type": "execute_result"
    },
    {
     "name": "stdout",
     "output_type": "stream",
     "text": [
      "Passed evaluation - returning reply\n",
      "Passed evaluation - returning reply\n",
      "Passed evaluation - returning reply\n"
     ]
    },
    {
     "name": "stderr",
     "output_type": "stream",
     "text": [
      "WARNING:  Invalid HTTP request received.\n",
      "WARNING:  Invalid HTTP request received.\n",
      "WARNING:  Invalid HTTP request received.\n",
      "WARNING:  Invalid HTTP request received.\n"
     ]
    }
   ],
   "source": [
    "gr.ChatInterface(chat, type=\"messages\").launch()"
   ]
  },
  {
   "cell_type": "code",
   "execution_count": null,
   "id": "1cf75e89",
   "metadata": {},
   "outputs": [],
   "source": []
  }
 ],
 "metadata": {
  "kernelspec": {
   "display_name": "agents",
   "language": "python",
   "name": "python3"
  },
  "language_info": {
   "codemirror_mode": {
    "name": "ipython",
    "version": 3
   },
   "file_extension": ".py",
   "mimetype": "text/x-python",
   "name": "python",
   "nbconvert_exporter": "python",
   "pygments_lexer": "ipython3",
   "version": "3.12.11"
  }
 },
 "nbformat": 4,
 "nbformat_minor": 5
}
