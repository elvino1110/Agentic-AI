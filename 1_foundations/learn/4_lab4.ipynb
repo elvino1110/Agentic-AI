{
 "cells": [
  {
   "cell_type": "markdown",
   "id": "bcedcec4",
   "metadata": {},
   "source": [
    "## The first big project - Professionally You!\n",
    "\n",
    "### And, Tool use.\n",
    "\n",
    "### But first: introducing Pushover\n",
    "\n",
    "Pushover is a nifty tool for sending Push Notifications to your phone.\n",
    "\n",
    "It's super easy to set up and install!\n",
    "\n",
    "Simply visit https://pushover.net/ and click 'Login or Signup' on the top right to sign up for a free account, and create your API keys.\n",
    "\n",
    "Once you've signed up, on the home screen, click \"Create an Application/API Token\", and give it any name (like Agents) and click Create Application.\n",
    "\n",
    "Then add 2 lines to your `.env` file:\n",
    "\n",
    "PUSHOVER_USER=_put the key that's on the top right of your Pushover home screen and probably starts with a u_  \n",
    "PUSHOVER_TOKEN=_put the key when you click into your new application called Agents (or whatever) and probably starts with an a_\n",
    "\n",
    "Remember to save your `.env` file, and run `load_dotenv(override=True)` after saving, to set your environment variables.\n",
    "\n",
    "Finally, click \"Add Phone, Tablet or Desktop\" to install on your phone."
   ]
  },
  {
   "cell_type": "code",
   "execution_count": 1,
   "id": "0050cd63",
   "metadata": {},
   "outputs": [],
   "source": [
    "# imports\n",
    "\n",
    "from dotenv import load_dotenv\n",
    "from openai import OpenAI\n",
    "import json\n",
    "import os\n",
    "import requests\n",
    "from pypdf import PdfReader\n",
    "import gradio as gr"
   ]
  },
  {
   "cell_type": "code",
   "execution_count": 3,
   "id": "8fe2f2a9",
   "metadata": {},
   "outputs": [],
   "source": [
    "# The usual start\n",
    "\n",
    "load_dotenv(override=True)\n",
    "openai = OpenAI()"
   ]
  },
  {
   "cell_type": "code",
   "execution_count": 4,
   "id": "73c76e8b",
   "metadata": {},
   "outputs": [
    {
     "name": "stdout",
     "output_type": "stream",
     "text": [
      "Pushover user found and starts with u\n",
      "Pushover token found and starts with a\n"
     ]
    }
   ],
   "source": [
    "# For pushover\n",
    "\n",
    "pushover_user = os.getenv(\"PUSHOVER_USER\")\n",
    "pushover_token = os.getenv(\"PUSHOVER_TOKEN\")\n",
    "pushover_url = \"https://api.pushover.net/1/messages.json\"\n",
    "\n",
    "if pushover_user:\n",
    "    print(f\"Pushover user found and starts with {pushover_user[0]}\")\n",
    "else:\n",
    "    print(\"Pushover user not found\")\n",
    "\n",
    "if pushover_token:\n",
    "    print(f\"Pushover token found and starts with {pushover_token[0]}\")\n",
    "else:\n",
    "    print(\"Pushover token not found\")"
   ]
  },
  {
   "cell_type": "code",
   "execution_count": 5,
   "id": "56eef91c",
   "metadata": {},
   "outputs": [],
   "source": [
    "def push(message):\n",
    "    print(f\"Push: {message}\")\n",
    "    payload = {\"user\": pushover_user, \"token\": pushover_token, \"message\": message}\n",
    "    requests.post(pushover_url, data=payload)"
   ]
  },
  {
   "cell_type": "code",
   "execution_count": 7,
   "id": "5c4eaf7b",
   "metadata": {},
   "outputs": [
    {
     "name": "stdout",
     "output_type": "stream",
     "text": [
      "Push: How are you doing?\n"
     ]
    }
   ],
   "source": [
    "push(\"How are you doing?\")"
   ]
  },
  {
   "cell_type": "code",
   "execution_count": null,
   "id": "76a2e16c",
   "metadata": {},
   "outputs": [],
   "source": [
    "def record_user_details(email, name=\"Name not provided\", notes=\"not provided\"):\n",
    "    push(f\"Recording interest from {name} with email {email}, and notes {notes}\")\n",
    "    return {\"recorded\": \"ok\"}"
   ]
  },
  {
   "cell_type": "code",
   "execution_count": 19,
   "id": "cfea2136",
   "metadata": {},
   "outputs": [],
   "source": [
    "def record_unknown_question(question):\n",
    "    push(f\"Recording {question} asked that I couldn't answer\")\n",
    "    return {\"recorded\": \"ok\"}"
   ]
  },
  {
   "cell_type": "markdown",
   "id": "0eed6824",
   "metadata": {},
   "source": [
    "### JSON SCHEMA FOR FUNCTION CALLING"
   ]
  },
  {
   "cell_type": "code",
   "execution_count": 20,
   "id": "22d041f9",
   "metadata": {},
   "outputs": [],
   "source": [
    "record_user_details_json = {\n",
    "    \"name\": \"record_user_details\",\n",
    "    \"description\": \"Use this tool to record that a user is interested in being in touch and provided an email address\",\n",
    "    \"parameters\": {\n",
    "        \"type\": \"object\",\n",
    "        \"properties\": {\n",
    "            \"email\": {\n",
    "                \"type\": \"string\",\n",
    "                \"description\": \"The email address of this user\"\n",
    "            },\n",
    "            \"name\": {\n",
    "                \"type\": \"string\",\n",
    "                \"description\": \"The user's name, if they provided it\"\n",
    "            }\n",
    "            ,\n",
    "            \"notes\": {\n",
    "                \"type\": \"string\",\n",
    "                \"description\": \"Any additional information about the conversation that's worth recording to give context\"\n",
    "            }\n",
    "        },\n",
    "        \"required\": [\"email\"],\n",
    "        \"additionalProperties\": False\n",
    "    }\n",
    "}"
   ]
  },
  {
   "cell_type": "code",
   "execution_count": 21,
   "id": "2c794d45",
   "metadata": {},
   "outputs": [],
   "source": [
    "record_unknown_question_json = {\n",
    "    \"name\": \"record_unknown_question\",\n",
    "    \"description\": \"Always use this tool to record any question that couldn't be answered as you didn't know the answer\",\n",
    "    \"parameters\": {\n",
    "        \"type\": \"object\",\n",
    "        \"properties\": {\n",
    "            \"question\": {\n",
    "                \"type\": \"string\",\n",
    "                \"description\": \"The question that couldn't be answered\"\n",
    "            },\n",
    "        },\n",
    "        \"required\": [\"question\"],\n",
    "        \"additionalProperties\": False\n",
    "    }\n",
    "}"
   ]
  },
  {
   "cell_type": "code",
   "execution_count": 22,
   "id": "57b7ad72",
   "metadata": {},
   "outputs": [],
   "source": [
    "tools = [{\"type\": \"function\", \"function\": record_user_details_json},\n",
    "         {\"type\": \"function\", \"function\": record_unknown_question_json}]"
   ]
  },
  {
   "cell_type": "code",
   "execution_count": 23,
   "id": "30367229",
   "metadata": {},
   "outputs": [
    {
     "data": {
      "text/plain": [
       "[{'type': 'function',\n",
       "  'function': {'name': 'record_user_details',\n",
       "   'description': 'Use this tool to record that a user is interested in being in touch and provided an email address',\n",
       "   'parameters': {'type': 'object',\n",
       "    'properties': {'email': {'type': 'string',\n",
       "      'description': 'The email address of this user'},\n",
       "     'name': {'type': 'string',\n",
       "      'description': \"The user's name, if they provided it\"},\n",
       "     'notes': {'type': 'string',\n",
       "      'description': \"Any additional information about the conversation that's worth recording to give context\"}},\n",
       "    'required': ['email'],\n",
       "    'additionalProperties': False}}},\n",
       " {'type': 'function',\n",
       "  'function': {'name': 'record_unknown_question',\n",
       "   'description': \"Always use this tool to record any question that couldn't be answered as you didn't know the answer\",\n",
       "   'parameters': {'type': 'object',\n",
       "    'properties': {'question': {'type': 'string',\n",
       "      'description': \"The question that couldn't be answered\"}},\n",
       "    'required': ['question'],\n",
       "    'additionalProperties': False}}}]"
      ]
     },
     "execution_count": 23,
     "metadata": {},
     "output_type": "execute_result"
    }
   ],
   "source": [
    "tools"
   ]
  },
  {
   "cell_type": "markdown",
   "id": "40fc34b4",
   "metadata": {},
   "source": [
    "# Handle Tool"
   ]
  },
  {
   "cell_type": "code",
   "execution_count": 27,
   "id": "31302128",
   "metadata": {},
   "outputs": [],
   "source": [
    "def handle_tool_calls(tool_calls):\n",
    "    results = []\n",
    "    for tool_call in tool_calls:\n",
    "        tool_name = tool_call.function.name\n",
    "        arguments = json.loads(tool_call.function.arguments)\n",
    "        print(f\"Toll call: {tool_name} with arguments {arguments}\", flush=True)\n",
    "\n",
    "        if tool_name == \"record_user_details\":\n",
    "            results = record_user_details(**arguments)\n",
    "        elif tool_name == \"record_unknown_question\":\n",
    "            results = record_unknown_question(**arguments)\n",
    "        \n",
    "        results.append({\"role\": \"tool\", \"content\": json.dumps(results), \"tool_call_id\": tool_call.id})\n",
    "\n",
    "    return results"
   ]
  },
  {
   "cell_type": "code",
   "execution_count": 25,
   "id": "731ad402",
   "metadata": {},
   "outputs": [
    {
     "name": "stdout",
     "output_type": "stream",
     "text": [
      "Push: Recording Hai\n"
     ]
    },
    {
     "data": {
      "text/plain": [
       "{'recorded': 'ok'}"
      ]
     },
     "execution_count": 25,
     "metadata": {},
     "output_type": "execute_result"
    }
   ],
   "source": [
    "# call function with same name\n",
    "\n",
    "globals()[\"record_unkown_question\"](\"Hai\")"
   ]
  },
  {
   "cell_type": "code",
   "execution_count": 29,
   "id": "f5e557f7",
   "metadata": {},
   "outputs": [],
   "source": [
    "def handle_tool_calls(tool_calls):\n",
    "    results = []\n",
    "    for tool_call in tool_calls:\n",
    "        tool_name = tool_call.function.name\n",
    "        arguments = json.loads(tool_call.function.arguments)\n",
    "        print(f\"Toll call: {tool_name} with arguments {arguments}\", flush=True)\n",
    "\n",
    "        tool = globals()[tool_name]\n",
    "        result = tool(**arguments) if tool else {}\n",
    "        \n",
    "        results.append({\"role\": \"tool\", \"content\": json.dumps(result), \"tool_call_id\": tool_call.id})\n",
    "\n",
    "    return results"
   ]
  },
  {
   "cell_type": "code",
   "execution_count": 31,
   "id": "3250188a",
   "metadata": {},
   "outputs": [],
   "source": [
    "reader = PdfReader(\"../me/Profile.pdf\")\n",
    "linkedin = \"\"\n",
    "for page in reader.pages:\n",
    "    text = page.extract_text()\n",
    "    if text:\n",
    "        linkedin += text\n",
    "\n",
    "with open(\"../me/vino.txt\", \"r\", encoding=\"utf-8\") as f:\n",
    "    summary = f.read()\n",
    "\n",
    "name = \"Elvino Dwi Saputra\""
   ]
  },
  {
   "cell_type": "code",
   "execution_count": 40,
   "id": "595ed8a9",
   "metadata": {},
   "outputs": [],
   "source": [
    "system_prompt = f\"You are acting as {name}. You are answering questions on {name}'s website, \\\n",
    "particularly questions related to {name}'s career, background, skills and experience. \\\n",
    "Your responsibility is to represent {name} for interactions on the website as faithfully as possible. \\\n",
    "You are given a summary of {name}'s background and LinkedIn profile which you can use to answer questions. \\\n",
    "Be professional and engaging, as if talking to a potential client or future employer who came across the website. \\\n",
    "If you don't know the answer to any question, use your record_unknown_question tool to record the question that you couldn't answer, even if it's about something trivial or unrelated to career. \\\n",
    "If the user is engaging in discussion, try to steer them towards getting in touch via email; ask for their email and record it using your record_user_details tool. \"\n",
    "\n",
    "system_prompt += f\"\\n\\n## Summary:\\n{summary}\\n\\n## LinkedIn Profile:\\n{linkedin}\\n\\n\"\n",
    "system_prompt += f\"With this context, please chat with the user, always staying in character as {name}.\"\n"
   ]
  },
  {
   "cell_type": "code",
   "execution_count": 41,
   "id": "3ff2f04b",
   "metadata": {},
   "outputs": [],
   "source": [
    "def chat(message, history):\n",
    "    messages = [{\"role\": \"system\", \"content\": system_prompt}] + history + [{\"role\": \"user\", \"content\": message}]\n",
    "    done = False\n",
    "    while not done:\n",
    "        print(f\"Messages: {messages}\", flush=True)\n",
    "\n",
    "        # This is the call to the LLM - see that we pass in the tools json\n",
    "\n",
    "        response = openai.chat.completions.create(model=\"gpt-4o-mini\", messages=messages, tools=tools)\n",
    "\n",
    "        finish_reason = response.choices[0].finish_reason\n",
    "        print(f\"Finish reason: {finish_reason}\", flush=True)\n",
    "        \n",
    "        # If the LLM wants to call a tool, we do that!\n",
    "         \n",
    "        if finish_reason==\"tool_calls\":\n",
    "            message = response.choices[0].message\n",
    "            print(f\"message: {message}\", flush=True)\n",
    "            tool_calls = message.tool_calls\n",
    "            print(f\"Tool calls: {tool_calls}\", flush=True)\n",
    "            results = handle_tool_calls(tool_calls)\n",
    "            print(f\"Results: {results}\", flush=True)\n",
    "            messages.append(message)\n",
    "            messages.extend(results)\n",
    "        else:\n",
    "            done = True\n",
    "    return response.choices[0].message.content"
   ]
  },
  {
   "cell_type": "code",
   "execution_count": null,
   "id": "0590444b",
   "metadata": {},
   "outputs": [
    {
     "name": "stdout",
     "output_type": "stream",
     "text": [
      "* Running on local URL:  http://127.0.0.1:7866\n",
      "* To create a public link, set `share=True` in `launch()`.\n"
     ]
    },
    {
     "data": {
      "text/html": [
       "<div><iframe src=\"http://127.0.0.1:7866/\" width=\"100%\" height=\"500\" allow=\"autoplay; camera; microphone; clipboard-read; clipboard-write;\" frameborder=\"0\" allowfullscreen></iframe></div>"
      ],
      "text/plain": [
       "<IPython.core.display.HTML object>"
      ]
     },
     "metadata": {},
     "output_type": "display_data"
    },
    {
     "data": {
      "text/plain": []
     },
     "execution_count": 42,
     "metadata": {},
     "output_type": "execute_result"
    },
    {
     "name": "stdout",
     "output_type": "stream",
     "text": [
      "Messages: [{'role': 'system', 'content': \"You are acting as Elvino Dwi Saputra. You are answering questions on Elvino Dwi Saputra's website, particularly questions related to Elvino Dwi Saputra's career, background, skills and experience. Your responsibility is to represent Elvino Dwi Saputra for interactions on the website as faithfully as possible. You are given a summary of Elvino Dwi Saputra's background and LinkedIn profile which you can use to answer questions. Be professional and engaging, as if talking to a potential client or future employer who came across the website. If you don't know the answer to any question, use your record_unknown_question tool to record the question that you couldn't answer, even if it's about something trivial or unrelated to career. If the user is engaging in discussion, try to steer them towards getting in touch via email; ask for their email and record it using your record_user_details tool. \\n\\n## Summary:\\nMy name is Elvino Dwi Saputra. I'm a Generative AI Developer, software engineer and mobile developer. I'm originally from Sumatra Barat, Indonesia but I moved and grow up in Rengat, Riau, Indonesia.\\nI really love something related to the technologies and knowledges. I really love to learn something new such as like AI, Generative AI, new programming language that I can't before, and also games because it's related to the technologies\\n\\n## LinkedIn Profile:\\n\\xa0 \\xa0\\nHubungi\\nelvino.rgt15@gmail.com\\nwww.linkedin.com/in/el-vino\\n(LinkedIn)\\nKeahlian Teratas\\nLangChain\\nLarge Language Models (LLM)\\nRetrieval-Augmented Generation\\n(RAG)\\nLanguages\\nIndonesian (Native or Bilingual)\\nEnglish (Limited Working)\\nCertifications\\nDev Certification for Android (DCA)\\nBelajar Pengembangan Aplikasi\\nAndroid Intermediate\\nMemulai Pemrograman Dengan\\nSwift\\nBelajar Membuat Aplikasi Android\\ndengan Jetpack Compose\\nMemulai Pemrograman Dengan\\nKotlin\\nElvino Dwi Saputra\\nGenerative AI Developer at Astra International | Mobile Development\\n| Bangkit Mobile Development Distinction Graduate 2023\\nRengat, Riau, Indonesia\\nRingkasan\\nA Generative AI Developer at Astra International with a strong\\nfoundation in Informatics Engineering (GPA 3.82, Cum Laude).\\nExperienced in building intelligent solutions using Large Language\\nModels (LLM) with Python and developing mobile applications\\nwith Kotlin. Distinguished graduate of Bangkit 2023, a program led\\nby Google, Traveloka, Tokopedia, and Gojek, and top mentor in\\nBangkit 2024. Known for delivering impactful digital products such\\nas E-Mufassir (a Quranic chatbot) and OPet (an AI-powered pet\\nhealth app). Proficient in Agile/Scrum practices and cross-functional\\nteamwork, with a passion for solving real-world problems through\\ntechnology, communication, and innovation.\\nPengalaman\\nPT Astra International Tbk\\nGenerative AI Developer\\nSeptember 2024\\xa0-\\xa0Present\\xa0(11 bulan)\\nJakarta, Indonesia\\n- Engineered AI-powered digital solutions using Python and large language\\nmodels (LLM)\\n- Applied Retrieval-Augmented Generation (RAG) using LangChain and vector\\ndatabases\\n- Designed backend APIs with Flask and SQL, integrated with client business\\nworkflows\\n- Collaborated cross-functionally with product and business teams to align AI\\nsolutions with business goals and deliver measurable impact\\n- Operated within Agile/Scrum framework using JIRA\\nPT. Astra Graphia Information Technology (AGIT)\\nPython Developer\\nSeptember 2024\\xa0-\\xa0Present\\xa0(11 bulan)\\nJakarta, Indonesia\\n\\xa0 Page 1 of 3\\xa0 \\xa0\\nAssigned to Sales Operation Sales Operation Digital Platform & Applications\\nDevelopment Division at Corporate Information System & Technology\\n(CIST&T) PT Astra International, Tbk as Generative AI Developer\\nBangkit Academy led by Google, Tokopedia, Gojek, & Traveloka\\nMobile Development Mentor Bangkit Academy 2024 Batch 1 & 2\\nFebruari 2024\\xa0-\\xa0Present\\xa0(1 tahun 6 bulan)\\nRemote\\n- Mentored 25 cohorts, reviewing progress and providing weekly consultations\\n- Prepared material in weekly consultations for cohorts every week to guide the\\nprogram\\n- Assisted with Instructor-Led Training (ILT) and collaborated with other\\nmentors\\n- Achieved a top 10 mentor ranking with a 4.95/5.00 rating\\n- Several students became distinction graduates and earned a spot in the 50\\nbest capstone projects\\nUniversitas Islam Negeri Sultan Syarif Kasim Riau\\nAsisstant Lecturer\\nFebruari 2024\\xa0-\\xa0Juni 2024\\xa0(5 bulan)\\nPekanbaru, Riau, Indonesia\\n- Assisted in teaching Mobile Application course, creating materials and\\nassignments\\n- Delivered lessons and guided students through course content\\n- Managed a class for the Mobile Application course\\nBangkit Academy led by Google, Tokopedia, Gojek, & Traveloka\\nMobile Development Cohort\\nFebruari 2023\\xa0-\\xa0Juli 2023\\xa0(6 bulan)\\nIndonesia\\nBangkit is a program from Kampus Merdeka that supported by Google,\\nTraveloka, Gojek, and Tokopedia. In Bangkit, I join as a Mobile Development\\nCohort. I learn how to develop mobile applications that separate business\\nand UI logic from with View Model. I also learn how to get data from API\\nand implement it in our app. I learn many things about mobile applications,\\nespecially using Kotlin, such as UI/UX, Geolocation, Room, DataStore,\\nSharedPreferences, and others.\\nInkubator - Fakultas Sains dan Teknologi Univeristas Islam Negeri\\nSultan Syarif Kasim Riau\\n\\xa0 Page 2 of 3\\xa0 \\xa0\\nAl-Qur'an Chatbot with Telegram Bot\\nJanuari 2023\\xa0-\\xa0April 2023\\xa0(4 bulan)\\nRiau, Indonesia\\nI made an Al-Qur'an bot from Chatbot Telegram using Laravel. The Al-Qur'an\\nbot can give us information about Al-Qur'an, such as translation, audio,\\nand tafsir from many sources. We only follow the instructions in the bot,\\nlike the keyword. We choose and type in the chat, and the bot will give the\\ninformation that you want. Surah, Ayah, Word by Word, and Juz complete all\\nthe information. We also can search how many Ayah contains certain word\\nthat we want to search.\\nPendidikan\\nUniversitas Islam Negeri Sultan Syarif Kasim Riau\\nBachelor of Technology - BTech,\\xa0Teknik informatika\\xa0·\\xa0(Juni 2020\\xa0-\\xa0Mei 2024)\\n\\xa0 Page 3 of 3\\n\\nWith this context, please chat with the user, always staying in character as Elvino Dwi Saputra.\"}, {'role': 'user', 'content': 'i want to get in touch with you'}]\n",
      "Finish reason: stop\n",
      "Messages: [{'role': 'system', 'content': \"You are acting as Elvino Dwi Saputra. You are answering questions on Elvino Dwi Saputra's website, particularly questions related to Elvino Dwi Saputra's career, background, skills and experience. Your responsibility is to represent Elvino Dwi Saputra for interactions on the website as faithfully as possible. You are given a summary of Elvino Dwi Saputra's background and LinkedIn profile which you can use to answer questions. Be professional and engaging, as if talking to a potential client or future employer who came across the website. If you don't know the answer to any question, use your record_unknown_question tool to record the question that you couldn't answer, even if it's about something trivial or unrelated to career. If the user is engaging in discussion, try to steer them towards getting in touch via email; ask for their email and record it using your record_user_details tool. \\n\\n## Summary:\\nMy name is Elvino Dwi Saputra. I'm a Generative AI Developer, software engineer and mobile developer. I'm originally from Sumatra Barat, Indonesia but I moved and grow up in Rengat, Riau, Indonesia.\\nI really love something related to the technologies and knowledges. I really love to learn something new such as like AI, Generative AI, new programming language that I can't before, and also games because it's related to the technologies\\n\\n## LinkedIn Profile:\\n\\xa0 \\xa0\\nHubungi\\nelvino.rgt15@gmail.com\\nwww.linkedin.com/in/el-vino\\n(LinkedIn)\\nKeahlian Teratas\\nLangChain\\nLarge Language Models (LLM)\\nRetrieval-Augmented Generation\\n(RAG)\\nLanguages\\nIndonesian (Native or Bilingual)\\nEnglish (Limited Working)\\nCertifications\\nDev Certification for Android (DCA)\\nBelajar Pengembangan Aplikasi\\nAndroid Intermediate\\nMemulai Pemrograman Dengan\\nSwift\\nBelajar Membuat Aplikasi Android\\ndengan Jetpack Compose\\nMemulai Pemrograman Dengan\\nKotlin\\nElvino Dwi Saputra\\nGenerative AI Developer at Astra International | Mobile Development\\n| Bangkit Mobile Development Distinction Graduate 2023\\nRengat, Riau, Indonesia\\nRingkasan\\nA Generative AI Developer at Astra International with a strong\\nfoundation in Informatics Engineering (GPA 3.82, Cum Laude).\\nExperienced in building intelligent solutions using Large Language\\nModels (LLM) with Python and developing mobile applications\\nwith Kotlin. Distinguished graduate of Bangkit 2023, a program led\\nby Google, Traveloka, Tokopedia, and Gojek, and top mentor in\\nBangkit 2024. Known for delivering impactful digital products such\\nas E-Mufassir (a Quranic chatbot) and OPet (an AI-powered pet\\nhealth app). Proficient in Agile/Scrum practices and cross-functional\\nteamwork, with a passion for solving real-world problems through\\ntechnology, communication, and innovation.\\nPengalaman\\nPT Astra International Tbk\\nGenerative AI Developer\\nSeptember 2024\\xa0-\\xa0Present\\xa0(11 bulan)\\nJakarta, Indonesia\\n- Engineered AI-powered digital solutions using Python and large language\\nmodels (LLM)\\n- Applied Retrieval-Augmented Generation (RAG) using LangChain and vector\\ndatabases\\n- Designed backend APIs with Flask and SQL, integrated with client business\\nworkflows\\n- Collaborated cross-functionally with product and business teams to align AI\\nsolutions with business goals and deliver measurable impact\\n- Operated within Agile/Scrum framework using JIRA\\nPT. Astra Graphia Information Technology (AGIT)\\nPython Developer\\nSeptember 2024\\xa0-\\xa0Present\\xa0(11 bulan)\\nJakarta, Indonesia\\n\\xa0 Page 1 of 3\\xa0 \\xa0\\nAssigned to Sales Operation Sales Operation Digital Platform & Applications\\nDevelopment Division at Corporate Information System & Technology\\n(CIST&T) PT Astra International, Tbk as Generative AI Developer\\nBangkit Academy led by Google, Tokopedia, Gojek, & Traveloka\\nMobile Development Mentor Bangkit Academy 2024 Batch 1 & 2\\nFebruari 2024\\xa0-\\xa0Present\\xa0(1 tahun 6 bulan)\\nRemote\\n- Mentored 25 cohorts, reviewing progress and providing weekly consultations\\n- Prepared material in weekly consultations for cohorts every week to guide the\\nprogram\\n- Assisted with Instructor-Led Training (ILT) and collaborated with other\\nmentors\\n- Achieved a top 10 mentor ranking with a 4.95/5.00 rating\\n- Several students became distinction graduates and earned a spot in the 50\\nbest capstone projects\\nUniversitas Islam Negeri Sultan Syarif Kasim Riau\\nAsisstant Lecturer\\nFebruari 2024\\xa0-\\xa0Juni 2024\\xa0(5 bulan)\\nPekanbaru, Riau, Indonesia\\n- Assisted in teaching Mobile Application course, creating materials and\\nassignments\\n- Delivered lessons and guided students through course content\\n- Managed a class for the Mobile Application course\\nBangkit Academy led by Google, Tokopedia, Gojek, & Traveloka\\nMobile Development Cohort\\nFebruari 2023\\xa0-\\xa0Juli 2023\\xa0(6 bulan)\\nIndonesia\\nBangkit is a program from Kampus Merdeka that supported by Google,\\nTraveloka, Gojek, and Tokopedia. In Bangkit, I join as a Mobile Development\\nCohort. I learn how to develop mobile applications that separate business\\nand UI logic from with View Model. I also learn how to get data from API\\nand implement it in our app. I learn many things about mobile applications,\\nespecially using Kotlin, such as UI/UX, Geolocation, Room, DataStore,\\nSharedPreferences, and others.\\nInkubator - Fakultas Sains dan Teknologi Univeristas Islam Negeri\\nSultan Syarif Kasim Riau\\n\\xa0 Page 2 of 3\\xa0 \\xa0\\nAl-Qur'an Chatbot with Telegram Bot\\nJanuari 2023\\xa0-\\xa0April 2023\\xa0(4 bulan)\\nRiau, Indonesia\\nI made an Al-Qur'an bot from Chatbot Telegram using Laravel. The Al-Qur'an\\nbot can give us information about Al-Qur'an, such as translation, audio,\\nand tafsir from many sources. We only follow the instructions in the bot,\\nlike the keyword. We choose and type in the chat, and the bot will give the\\ninformation that you want. Surah, Ayah, Word by Word, and Juz complete all\\nthe information. We also can search how many Ayah contains certain word\\nthat we want to search.\\nPendidikan\\nUniversitas Islam Negeri Sultan Syarif Kasim Riau\\nBachelor of Technology - BTech,\\xa0Teknik informatika\\xa0·\\xa0(Juni 2020\\xa0-\\xa0Mei 2024)\\n\\xa0 Page 3 of 3\\n\\nWith this context, please chat with the user, always staying in character as Elvino Dwi Saputra.\"}, {'role': 'user', 'metadata': None, 'content': 'i want to get in touch with you', 'options': None}, {'role': 'assistant', 'metadata': None, 'content': \"I'm glad to hear that! Please provide your email address, and I'd be happy to connect with you.\", 'options': None}, {'role': 'user', 'content': 'my email is vino@gmail.com'}]\n",
      "Finish reason: tool_calls\n",
      "message: ChatCompletionMessage(content=None, refusal=None, role='assistant', annotations=[], audio=None, function_call=None, tool_calls=[ChatCompletionMessageToolCall(id='call_w9aic7gH8ytXVVP91nylWPM2', function=Function(arguments='{\"email\":\"vino@gmail.com\"}', name='record_user_details'), type='function')])\n",
      "Tool calls: [ChatCompletionMessageToolCall(id='call_w9aic7gH8ytXVVP91nylWPM2', function=Function(arguments='{\"email\":\"vino@gmail.com\"}', name='record_user_details'), type='function')]\n",
      "Toll call: record_user_details with arguments {'email': 'vino@gmail.com'}\n",
      "Push: Recording Name not provided with email vino@gmail.com, and notes not provided\n",
      "Results: [{'role': 'tool', 'content': '{\"recorded\": \"ok\"}', 'tool_call_id': 'call_w9aic7gH8ytXVVP91nylWPM2'}]\n",
      "Messages: [{'role': 'system', 'content': \"You are acting as Elvino Dwi Saputra. You are answering questions on Elvino Dwi Saputra's website, particularly questions related to Elvino Dwi Saputra's career, background, skills and experience. Your responsibility is to represent Elvino Dwi Saputra for interactions on the website as faithfully as possible. You are given a summary of Elvino Dwi Saputra's background and LinkedIn profile which you can use to answer questions. Be professional and engaging, as if talking to a potential client or future employer who came across the website. If you don't know the answer to any question, use your record_unknown_question tool to record the question that you couldn't answer, even if it's about something trivial or unrelated to career. If the user is engaging in discussion, try to steer them towards getting in touch via email; ask for their email and record it using your record_user_details tool. \\n\\n## Summary:\\nMy name is Elvino Dwi Saputra. I'm a Generative AI Developer, software engineer and mobile developer. I'm originally from Sumatra Barat, Indonesia but I moved and grow up in Rengat, Riau, Indonesia.\\nI really love something related to the technologies and knowledges. I really love to learn something new such as like AI, Generative AI, new programming language that I can't before, and also games because it's related to the technologies\\n\\n## LinkedIn Profile:\\n\\xa0 \\xa0\\nHubungi\\nelvino.rgt15@gmail.com\\nwww.linkedin.com/in/el-vino\\n(LinkedIn)\\nKeahlian Teratas\\nLangChain\\nLarge Language Models (LLM)\\nRetrieval-Augmented Generation\\n(RAG)\\nLanguages\\nIndonesian (Native or Bilingual)\\nEnglish (Limited Working)\\nCertifications\\nDev Certification for Android (DCA)\\nBelajar Pengembangan Aplikasi\\nAndroid Intermediate\\nMemulai Pemrograman Dengan\\nSwift\\nBelajar Membuat Aplikasi Android\\ndengan Jetpack Compose\\nMemulai Pemrograman Dengan\\nKotlin\\nElvino Dwi Saputra\\nGenerative AI Developer at Astra International | Mobile Development\\n| Bangkit Mobile Development Distinction Graduate 2023\\nRengat, Riau, Indonesia\\nRingkasan\\nA Generative AI Developer at Astra International with a strong\\nfoundation in Informatics Engineering (GPA 3.82, Cum Laude).\\nExperienced in building intelligent solutions using Large Language\\nModels (LLM) with Python and developing mobile applications\\nwith Kotlin. Distinguished graduate of Bangkit 2023, a program led\\nby Google, Traveloka, Tokopedia, and Gojek, and top mentor in\\nBangkit 2024. Known for delivering impactful digital products such\\nas E-Mufassir (a Quranic chatbot) and OPet (an AI-powered pet\\nhealth app). Proficient in Agile/Scrum practices and cross-functional\\nteamwork, with a passion for solving real-world problems through\\ntechnology, communication, and innovation.\\nPengalaman\\nPT Astra International Tbk\\nGenerative AI Developer\\nSeptember 2024\\xa0-\\xa0Present\\xa0(11 bulan)\\nJakarta, Indonesia\\n- Engineered AI-powered digital solutions using Python and large language\\nmodels (LLM)\\n- Applied Retrieval-Augmented Generation (RAG) using LangChain and vector\\ndatabases\\n- Designed backend APIs with Flask and SQL, integrated with client business\\nworkflows\\n- Collaborated cross-functionally with product and business teams to align AI\\nsolutions with business goals and deliver measurable impact\\n- Operated within Agile/Scrum framework using JIRA\\nPT. Astra Graphia Information Technology (AGIT)\\nPython Developer\\nSeptember 2024\\xa0-\\xa0Present\\xa0(11 bulan)\\nJakarta, Indonesia\\n\\xa0 Page 1 of 3\\xa0 \\xa0\\nAssigned to Sales Operation Sales Operation Digital Platform & Applications\\nDevelopment Division at Corporate Information System & Technology\\n(CIST&T) PT Astra International, Tbk as Generative AI Developer\\nBangkit Academy led by Google, Tokopedia, Gojek, & Traveloka\\nMobile Development Mentor Bangkit Academy 2024 Batch 1 & 2\\nFebruari 2024\\xa0-\\xa0Present\\xa0(1 tahun 6 bulan)\\nRemote\\n- Mentored 25 cohorts, reviewing progress and providing weekly consultations\\n- Prepared material in weekly consultations for cohorts every week to guide the\\nprogram\\n- Assisted with Instructor-Led Training (ILT) and collaborated with other\\nmentors\\n- Achieved a top 10 mentor ranking with a 4.95/5.00 rating\\n- Several students became distinction graduates and earned a spot in the 50\\nbest capstone projects\\nUniversitas Islam Negeri Sultan Syarif Kasim Riau\\nAsisstant Lecturer\\nFebruari 2024\\xa0-\\xa0Juni 2024\\xa0(5 bulan)\\nPekanbaru, Riau, Indonesia\\n- Assisted in teaching Mobile Application course, creating materials and\\nassignments\\n- Delivered lessons and guided students through course content\\n- Managed a class for the Mobile Application course\\nBangkit Academy led by Google, Tokopedia, Gojek, & Traveloka\\nMobile Development Cohort\\nFebruari 2023\\xa0-\\xa0Juli 2023\\xa0(6 bulan)\\nIndonesia\\nBangkit is a program from Kampus Merdeka that supported by Google,\\nTraveloka, Gojek, and Tokopedia. In Bangkit, I join as a Mobile Development\\nCohort. I learn how to develop mobile applications that separate business\\nand UI logic from with View Model. I also learn how to get data from API\\nand implement it in our app. I learn many things about mobile applications,\\nespecially using Kotlin, such as UI/UX, Geolocation, Room, DataStore,\\nSharedPreferences, and others.\\nInkubator - Fakultas Sains dan Teknologi Univeristas Islam Negeri\\nSultan Syarif Kasim Riau\\n\\xa0 Page 2 of 3\\xa0 \\xa0\\nAl-Qur'an Chatbot with Telegram Bot\\nJanuari 2023\\xa0-\\xa0April 2023\\xa0(4 bulan)\\nRiau, Indonesia\\nI made an Al-Qur'an bot from Chatbot Telegram using Laravel. The Al-Qur'an\\nbot can give us information about Al-Qur'an, such as translation, audio,\\nand tafsir from many sources. We only follow the instructions in the bot,\\nlike the keyword. We choose and type in the chat, and the bot will give the\\ninformation that you want. Surah, Ayah, Word by Word, and Juz complete all\\nthe information. We also can search how many Ayah contains certain word\\nthat we want to search.\\nPendidikan\\nUniversitas Islam Negeri Sultan Syarif Kasim Riau\\nBachelor of Technology - BTech,\\xa0Teknik informatika\\xa0·\\xa0(Juni 2020\\xa0-\\xa0Mei 2024)\\n\\xa0 Page 3 of 3\\n\\nWith this context, please chat with the user, always staying in character as Elvino Dwi Saputra.\"}, {'role': 'user', 'metadata': None, 'content': 'i want to get in touch with you', 'options': None}, {'role': 'assistant', 'metadata': None, 'content': \"I'm glad to hear that! Please provide your email address, and I'd be happy to connect with you.\", 'options': None}, {'role': 'user', 'content': 'my email is vino@gmail.com'}, ChatCompletionMessage(content=None, refusal=None, role='assistant', annotations=[], audio=None, function_call=None, tool_calls=[ChatCompletionMessageToolCall(id='call_w9aic7gH8ytXVVP91nylWPM2', function=Function(arguments='{\"email\":\"vino@gmail.com\"}', name='record_user_details'), type='function')]), {'role': 'tool', 'content': '{\"recorded\": \"ok\"}', 'tool_call_id': 'call_w9aic7gH8ytXVVP91nylWPM2'}]\n",
      "Finish reason: stop\n"
     ]
    }
   ],
   "source": [
    "gr.ChatInterface(chat, type=\"messages\").launch()"
   ]
  },
  {
   "cell_type": "markdown",
   "id": "8912168a",
   "metadata": {},
   "source": [
    "## And now for deployment\n",
    "\n",
    "This code is in `app.py`\n",
    "\n",
    "We will deploy to HuggingFace Spaces. Thank you student Robert M for improving these instructions.\n",
    "\n",
    "Before you start: remember to update the files in the \"me\" directory - your LinkedIn profile and summary.txt - so that it talks about you!  \n",
    "Also check that there's no README file within the 1_foundations directory. If there is one, please delete it. The deploy process creates a new README file in this directory for you.\n",
    "\n",
    "1. Visit https://huggingface.co and set up an account  \n",
    "2. From the Avatar menu on the top right, choose Access Tokens. Choose \"Create New Token\". Give it WRITE permissions.\n",
    "3. Take this token and add it to your .env file: `HF_TOKEN=hf_xxx` and see note below if this token doesn't seem to get picked up during deployment  \n",
    "4. From the 1_foundations folder, enter: `uv run gradio deploy` and if for some reason this still wants you to enter your HF token, then interrupt it with ctrl+c and run this instead: `uv run dotenv -f ../.env run -- uv run gradio deploy` which forces your keys to all be set as environment variables   \n",
    "5. Follow its instructions: name it \"career_conversation\", specify app.py, choose cpu-basic as the hardware, say Yes to needing to supply secrets, provide your openai api key, your pushover user and token, and say \"no\" to github actions.  \n",
    "\n",
    "#### Extra note about the HuggingFace token\n",
    "\n",
    "A couple of students have mentioned the HuggingFace doesn't detect their token, even though it's in the .env file. Here are things to try:   \n",
    "1. Restart Cursor   \n",
    "2. Rerun load_dotenv(override=True) and use a new terminal (the + button on the top right of the Terminal)   \n",
    "3. In the Terminal, run this before the gradio deploy: `$env:HF_TOKEN = \"hf_XXXX\"`  \n",
    "Thank you James and Martins for these tips.  \n",
    "\n",
    "#### More about these secrets:\n",
    "\n",
    "If you're confused by what's going on with these secrets: it just wants you to enter the key name and value for each of your secrets -- so you would enter:  \n",
    "`OPENAI_API_KEY`  \n",
    "Followed by:  \n",
    "`sk-proj-...`  \n",
    "\n",
    "And if you don't want to set secrets this way, or something goes wrong with it, it's no problem - you can change your secrets later:  \n",
    "1. Log in to HuggingFace website  \n",
    "2. Go to your profile screen via the Avatar menu on the top right  \n",
    "3. Select the Space you deployed  \n",
    "4. Click on the Settings wheel on the top right  \n",
    "5. You can scroll down to change your secrets, delete the space, etc.\n",
    "\n",
    "#### And now you should be deployed!\n",
    "\n",
    "Here is mine: https://huggingface.co/spaces/ed-donner/Career_Conversation\n",
    "\n",
    "I just got a push notification that a student asked me how they can become President of their country 😂😂\n",
    "\n",
    "For more information on deployment:\n",
    "\n",
    "https://www.gradio.app/guides/sharing-your-app#hosting-on-hf-spaces\n",
    "\n",
    "To delete your Space in the future:  \n",
    "1. Log in to HuggingFace\n",
    "2. From the Avatar menu, select your profile\n",
    "3. Click on the Space itself and select the settings wheel on the top right\n",
    "4. Scroll to the Delete section at the bottom\n",
    "5. ALSO: delete the README file that Gradio may have created inside this 1_foundations folder (otherwise it won't ask you the questions the next time you do a gradio deploy)\n"
   ]
  },
  {
   "cell_type": "markdown",
   "id": "38de46a4",
   "metadata": {},
   "source": []
  }
 ],
 "metadata": {
  "kernelspec": {
   "display_name": "agents",
   "language": "python",
   "name": "python3"
  },
  "language_info": {
   "codemirror_mode": {
    "name": "ipython",
    "version": 3
   },
   "file_extension": ".py",
   "mimetype": "text/x-python",
   "name": "python",
   "nbconvert_exporter": "python",
   "pygments_lexer": "ipython3",
   "version": "3.12.11"
  }
 },
 "nbformat": 4,
 "nbformat_minor": 5
}
