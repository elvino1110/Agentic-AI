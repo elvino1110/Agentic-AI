{
 "cells": [
  {
   "cell_type": "markdown",
   "id": "9b0cb287",
   "metadata": {},
   "source": [
    "## Week 2 Day 1\n",
    "\n",
    "And now! Our first look at OpenAI Agents SDK\n",
    "\n",
    "You won't believe how lightweight this is.."
   ]
  },
  {
   "cell_type": "markdown",
   "id": "36ec87e5",
   "metadata": {},
   "source": [
    "<table style=\"margin: 0; text-align: left; width:100%\">\n",
    "    <tr>\n",
    "        <td style=\"width: 150px; height: 150px; vertical-align: middle;\">\n",
    "            <img src=\"../assets/tools.png\" width=\"150\" height=\"150\" style=\"display: block;\" />\n",
    "        </td>\n",
    "        <td>\n",
    "            <h2 style=\"color:#00bfff;\">The OpenAI Agents SDK Docs</h2>\n",
    "            <span style=\"color:#00bfff;\">The documentation on OpenAI Agents SDK is really clear and simple: <a href=\"https://openai.github.io/openai-agents-python/\">https://openai.github.io/openai-agents-python/</a> and it's well worth a look.\n",
    "            </span>\n",
    "        </td>\n",
    "    </tr>\n",
    "</table>"
   ]
  },
  {
   "cell_type": "code",
   "execution_count": 1,
   "id": "45c0cc16",
   "metadata": {},
   "outputs": [],
   "source": [
    "from dotenv import load_dotenv\n",
    "from agents import Agent, Runner, trace"
   ]
  },
  {
   "cell_type": "code",
   "execution_count": 2,
   "id": "b5be85c2",
   "metadata": {},
   "outputs": [
    {
     "data": {
      "text/plain": [
       "True"
      ]
     },
     "execution_count": 2,
     "metadata": {},
     "output_type": "execute_result"
    }
   ],
   "source": [
    "load_dotenv(override=True)"
   ]
  },
  {
   "cell_type": "code",
   "execution_count": 3,
   "id": "04609a22",
   "metadata": {},
   "outputs": [],
   "source": [
    "# Make an agent with name, instructions, and model\n",
    "\n",
    "agent = Agent(\n",
    "    name=\"Chef\",\n",
    "    instructions=\"You are a chef. You can answer questions about cooking, recipes, and ingredients.\",\n",
    "    model=\"gpt-4o-mini\",\n",
    ")"
   ]
  },
  {
   "cell_type": "code",
   "execution_count": 4,
   "id": "59c627dd",
   "metadata": {},
   "outputs": [
    {
     "data": {
      "text/plain": [
       "Agent(name='Chef', instructions='You are a chef. You can answer questions about cooking, recipes, and ingredients.', prompt=None, handoff_description=None, handoffs=[], model='gpt-4o-mini', model_settings=ModelSettings(temperature=None, top_p=None, frequency_penalty=None, presence_penalty=None, tool_choice=None, parallel_tool_calls=None, truncation=None, max_tokens=None, reasoning=None, metadata=None, store=None, include_usage=None, extra_query=None, extra_body=None, extra_headers=None, extra_args=None), tools=[], mcp_servers=[], mcp_config={}, input_guardrails=[], output_guardrails=[], output_type=None, hooks=None, tool_use_behavior='run_llm_again', reset_tool_choice=True)"
      ]
     },
     "execution_count": 4,
     "metadata": {},
     "output_type": "execute_result"
    }
   ],
   "source": [
    "# Check the agent\n",
    "agent"
   ]
  },
  {
   "cell_type": "code",
   "execution_count": null,
   "id": "89d10b51",
   "metadata": {},
   "outputs": [
    {
     "name": "stdout",
     "output_type": "stream",
     "text": [
      "<coroutine object Runner.run at 0x00000197D65D0760>\n"
     ]
    }
   ],
   "source": [
    "# Run the agent with runner\n",
    "result = Runner.run(agent, \"Tell me how to cook roasted chicken\")\n",
    "\n",
    "print(result) #Runner.run is async coroutine\n"
   ]
  },
  {
   "cell_type": "code",
   "execution_count": 6,
   "id": "9baeafc4",
   "metadata": {},
   "outputs": [
    {
     "name": "stdout",
     "output_type": "stream",
     "text": [
      "RunResult:\n",
      "- Last agent: Agent(name=\"Chef\", ...)\n",
      "- Final output (str):\n",
      "    Roasting a chicken is a classic and straightforward dish that results in a flavorful and juicy meal. Here’s a simple recipe to guide you through the process:\n",
      "    \n",
      "    ### Ingredients:\n",
      "    - 1 whole chicken (about 4-5 lbs)\n",
      "    - 2-3 tablespoons olive oil or melted butter\n",
      "    - Salt and pepper\n",
      "    - Fresh herbs (like rosemary, thyme, or parsley) – optional\n",
      "    - 1 lemon, halved – optional\n",
      "    - 4-5 garlic cloves, smashed – optional\n",
      "    - Vegetables (like carrots, potatoes, onions) – optional for roasting alongside\n",
      "    \n",
      "    ### Instructions:\n",
      "    \n",
      "    1. **Preheat the Oven**: Preheat your oven to 425°F (220°C).\n",
      "    \n",
      "    2. **Prepare the Chicken**: \n",
      "       - Remove the chicken from packaging and pat it dry with paper towels.\n",
      "       - Trim any excess fat and remove the giblets from the cavity if present.\n",
      "    \n",
      "    3. **Season the Chicken**: \n",
      "       - Rub the olive oil or melted butter all over the chicken, including under the skin if possible.\n",
      "       - Generously season with salt and pepper both inside and outside. \n",
      "       - If using, place halved lemon, smashed garlic, and herbs inside the cavity for added flavor.\n",
      "    \n",
      "    4. **Add Vegetables (Optional)**: \n",
      "       - If you’d like to roast vegetables, chop them into large pieces and place them around the chicken in the roasting pan. Drizzle with olive oil and season with salt and pepper.\n",
      "    \n",
      "    5. **Roast the Chicken**: \n",
      "       - Place the chicken breast side up in a roasting pan or on a wire rack set over a baking sheet.\n",
      "       - Roast in the preheated oven for about 1 hour to 1 hour and 20 minutes, or until the internal temperature reaches 165°F (75°C) in the thickest part of the thigh. Baste the chicken with pan juices halfway through if desired.\n",
      "    \n",
      "    6. **Rest the Chicken**:\n",
      "       - Once roasted, remove the chicken from the oven and cover it loosely with aluminum foil. Let it rest for about 15-20 minutes before carving. This helps the juices redistribute.\n",
      "    \n",
      "    7. **Carve and Serve**:\n",
      "       - Carve the chicken and serve it with the roasted vegetables and any additional sides you enjoy.\n",
      "    \n",
      "    ### Tips:\n",
      "    - Use a meat thermometer for best results; it ensures perfect doneness.\n",
      "    - You can add spices like paprika, garlic powder, or onion powder for extra flavor.\n",
      "    - For a crispy skin, avoid covering the chicken tightly with foil during roasting.\n",
      "    \n",
      "    Enjoy your delicious roasted chicken!\n",
      "- 1 new item(s)\n",
      "- 1 raw response(s)\n",
      "- 0 input guardrail result(s)\n",
      "- 0 output guardrail result(s)\n",
      "(See `RunResult` for more details)\n"
     ]
    },
    {
     "name": "stderr",
     "output_type": "stream",
     "text": [
      "C:\\Users\\agrelvin8135\\AppData\\Local\\Temp\\ipykernel_16128\\410927828.py:4: RuntimeWarning: coroutine 'Runner.run' was never awaited\n",
      "  result = await Runner.run(agent, \"Tell me how to cook roasted chicken\")\n",
      "RuntimeWarning: Enable tracemalloc to get the object allocation traceback\n"
     ]
    }
   ],
   "source": [
    "# So we must use await\n",
    "\n",
    "# Run the agent with runner\n",
    "result = await Runner.run(agent, \"Tell me how to cook roasted chicken\")\n",
    "\n",
    "print(result) #Runner.run is async coroutine\n"
   ]
  },
  {
   "cell_type": "code",
   "execution_count": 7,
   "id": "99eab7fa",
   "metadata": {},
   "outputs": [
    {
     "name": "stdout",
     "output_type": "stream",
     "text": [
      "Roasting a chicken is a classic and straightforward dish that results in a flavorful and juicy meal. Here’s a simple recipe to guide you through the process:\n",
      "\n",
      "### Ingredients:\n",
      "- 1 whole chicken (about 4-5 lbs)\n",
      "- 2-3 tablespoons olive oil or melted butter\n",
      "- Salt and pepper\n",
      "- Fresh herbs (like rosemary, thyme, or parsley) – optional\n",
      "- 1 lemon, halved – optional\n",
      "- 4-5 garlic cloves, smashed – optional\n",
      "- Vegetables (like carrots, potatoes, onions) – optional for roasting alongside\n",
      "\n",
      "### Instructions:\n",
      "\n",
      "1. **Preheat the Oven**: Preheat your oven to 425°F (220°C).\n",
      "\n",
      "2. **Prepare the Chicken**: \n",
      "   - Remove the chicken from packaging and pat it dry with paper towels.\n",
      "   - Trim any excess fat and remove the giblets from the cavity if present.\n",
      "\n",
      "3. **Season the Chicken**: \n",
      "   - Rub the olive oil or melted butter all over the chicken, including under the skin if possible.\n",
      "   - Generously season with salt and pepper both inside and outside. \n",
      "   - If using, place halved lemon, smashed garlic, and herbs inside the cavity for added flavor.\n",
      "\n",
      "4. **Add Vegetables (Optional)**: \n",
      "   - If you’d like to roast vegetables, chop them into large pieces and place them around the chicken in the roasting pan. Drizzle with olive oil and season with salt and pepper.\n",
      "\n",
      "5. **Roast the Chicken**: \n",
      "   - Place the chicken breast side up in a roasting pan or on a wire rack set over a baking sheet.\n",
      "   - Roast in the preheated oven for about 1 hour to 1 hour and 20 minutes, or until the internal temperature reaches 165°F (75°C) in the thickest part of the thigh. Baste the chicken with pan juices halfway through if desired.\n",
      "\n",
      "6. **Rest the Chicken**:\n",
      "   - Once roasted, remove the chicken from the oven and cover it loosely with aluminum foil. Let it rest for about 15-20 minutes before carving. This helps the juices redistribute.\n",
      "\n",
      "7. **Carve and Serve**:\n",
      "   - Carve the chicken and serve it with the roasted vegetables and any additional sides you enjoy.\n",
      "\n",
      "### Tips:\n",
      "- Use a meat thermometer for best results; it ensures perfect doneness.\n",
      "- You can add spices like paprika, garlic powder, or onion powder for extra flavor.\n",
      "- For a crispy skin, avoid covering the chicken tightly with foil during roasting.\n",
      "\n",
      "Enjoy your delicious roasted chicken!\n"
     ]
    }
   ],
   "source": [
    "print(result.final_output)"
   ]
  },
  {
   "cell_type": "code",
   "execution_count": 9,
   "id": "b988468b",
   "metadata": {},
   "outputs": [
    {
     "name": "stdout",
     "output_type": "stream",
     "text": [
      "Roasting a chicken is a straightforward process that yields a delicious, flavorful meal. Here’s a simple recipe:\n",
      "\n",
      "### Ingredients:\n",
      "- 1 whole chicken (about 4-5 lbs)\n",
      "- 2-3 tablespoons olive oil or melted butter\n",
      "- Salt and pepper\n",
      "- Fresh herbs (like rosemary, thyme, or parsley)\n",
      "- 1 lemon, halved\n",
      "- 4-5 garlic cloves, peeled\n",
      "- Optional: vegetables (carrots, potatoes, onions) for roasting\n",
      "\n",
      "### Instructions:\n",
      "\n",
      "1. **Preheat the Oven**: Preheat your oven to 425°F (220°C).\n",
      "\n",
      "2. **Prepare the Chicken**: \n",
      "   - Remove the chicken from its packaging and pat it dry with paper towels. This helps achieve crispy skin.\n",
      "   - Remove any giblets from the cavity if present.\n",
      "\n",
      "3. **Season the Chicken**:\n",
      "   - Rub the entire chicken with olive oil or melted butter.\n",
      "   - Generously season with salt and pepper, both inside and outside the cavity.\n",
      "   - Stuff the cavity with the halved lemon, garlic cloves, and fresh herbs.\n",
      "\n",
      "4. **Optional - Prepare Vegetables**: \n",
      "   - If you’re roasting vegetables, chop them into large chunks and place them in a roasting pan. Drizzle with olive oil, and season with salt and pepper.\n",
      "\n",
      "5. **Roast the Chicken**:\n",
      "   - Place the chicken breast-side up on a rack in the roasting pan (or directly over the vegetables).\n",
      "   - Roast for about 1 hour to 1 hour and 15 minutes, or until the internal temperature reaches 165°F (75°C) in the thickest part of the thigh.\n",
      "   - To ensure crispy skin, you can baste the chicken with its own juices halfway through cooking.\n",
      "\n",
      "6. **Rest the Chicken**:\n",
      "   - Once cooked, take the chicken out of the oven and let it rest for about 10-15 minutes before carving. This allows the juices to redistribute.\n",
      "\n",
      "7. **Serve**: \n",
      "   - Carve the chicken and serve with the roasted vegetables and any sides you like.\n",
      "\n",
      "### Tips:\n",
      "- If you want extra flavor, consider marinating the chicken in the fridge for a few hours or overnight.\n",
      "- You can add spices like paprika, garlic powder, or onion powder to the seasoning mix for extra flavor.\n",
      "- Save the carcass for making homemade chicken stock!\n",
      "\n",
      "Enjoy your delicious roasted chicken!\n"
     ]
    }
   ],
   "source": [
    "# Run with trace\n",
    "\n",
    "with trace(\"Telling a recipe\"):\n",
    "    result = await Runner.run(agent, \"Tell me how to cook roasted chicken\")\n",
    "    print(result.final_output)"
   ]
  },
  {
   "cell_type": "markdown",
   "id": "5df8dfe0",
   "metadata": {},
   "source": [
    "## Now go and look at the trace\n",
    "\n",
    "https://platform.openai.com/traces"
   ]
  },
  {
   "cell_type": "markdown",
   "id": "5ae3442c",
   "metadata": {},
   "source": []
  }
 ],
 "metadata": {
  "kernelspec": {
   "display_name": "agents",
   "language": "python",
   "name": "python3"
  },
  "language_info": {
   "codemirror_mode": {
    "name": "ipython",
    "version": 3
   },
   "file_extension": ".py",
   "mimetype": "text/x-python",
   "name": "python",
   "nbconvert_exporter": "python",
   "pygments_lexer": "ipython3",
   "version": "3.12.11"
  }
 },
 "nbformat": 4,
 "nbformat_minor": 5
}
