{
 "cells": [
  {
   "cell_type": "markdown",
   "id": "44d2fddf",
   "metadata": {},
   "source": [
    "## Week 2 Day 2\n",
    "\n",
    "Our first Agentic Framework project!!\n",
    "\n",
    "Prepare yourself for something ridiculously easy.\n",
    "\n",
    "We're going to build a simple Agent system for generating cold sales outreach emails:\n",
    "1. Agent workflow\n",
    "2. Use of tools to call functions\n",
    "3. Agent collaboration via Tools and Handoffs"
   ]
  },
  {
   "cell_type": "markdown",
   "id": "98908864",
   "metadata": {},
   "source": [
    "## Before we start - some setup:\n",
    "\n",
    "\n",
    "Please visit Sendgrid at: https://sendgrid.com/\n",
    "\n",
    "(Sendgrid is a Twilio company for sending emails.)\n",
    "\n",
    "If SendGrid gives you problems, see the alternative implementation using \"Resend Email\" in community_contributions/2_lab2_with_resend_email\n",
    "\n",
    "Please set up an account - it's free! (at least, for me, right now).\n",
    "\n",
    "Once you've created an account, click on:\n",
    "\n",
    "Settings (left sidebar) >> API Keys >> Create API Key (button on top right)\n",
    "\n",
    "Copy the key to the clipboard, then add a new line to your .env file:\n",
    "\n",
    "`SENDGRID_API_KEY=xxxx`\n",
    "\n",
    "And also, within SendGrid, go to:\n",
    "\n",
    "Settings (left sidebar) >> Sender Authentication >> \"Verify a Single Sender\"  \n",
    "and verify that your own email address is a real email address, so that SendGrid can send emails for you.\n"
   ]
  },
  {
   "cell_type": "code",
   "execution_count": 8,
   "id": "2cd1cc1a",
   "metadata": {},
   "outputs": [],
   "source": [
    "from dotenv import load_dotenv\n",
    "from agents import Agent, Runner, trace, function_tool\n",
    "from openai.types.responses import ResponseTextDeltaEvent\n",
    "from typing import Dict\n",
    "import os\n",
    "import asyncio"
   ]
  },
  {
   "cell_type": "markdown",
   "id": "6c18c056",
   "metadata": {},
   "source": [
    "## Step 1: Agent workflow"
   ]
  },
  {
   "cell_type": "code",
   "execution_count": 14,
   "id": "c424483e",
   "metadata": {},
   "outputs": [],
   "source": [
    "instructions1 = \"You are a customer service agent working for BroomBot (Motorcycle Bot), \\\n",
    "a company that provides a service motorcycle, booking service, and selling the product of motorcycle, powered by AI. \\\n",
    "You write professional, serious cold emails.\"\n",
    "\n",
    "instructions2 = \"You are a humorous, engaging customer service agent working for BroomBot (Motorcycle Bot), \\\n",
    "a company that provides a service motorcycle, booking service, and selling the product of motorcycle, powered by AI. \\\n",
    "You write witty, engaging cold emails that are likely to get a response.\"\n",
    "\n",
    "instructions3 = \"You are a busy customer service agent working for ComplAI (Motorcycle Bot), \\\n",
    "a company that provides a service motorcycle, booking service, and selling the product of motorcycle, powered by AI. \\\n",
    "You write concise, to the point cold emails.\""
   ]
  },
  {
   "cell_type": "code",
   "execution_count": 16,
   "id": "25063a54",
   "metadata": {},
   "outputs": [],
   "source": [
    "sales_agent1 = Agent(\n",
    "        name=\"Professional Customer Service Agent\",\n",
    "        instructions=instructions1,\n",
    "        model=\"gpt-4o-mini\"\n",
    ")\n",
    "\n",
    "sales_agent2 = Agent(\n",
    "        name=\"Engaging Customer Service Agent\",\n",
    "        instructions=instructions2,\n",
    "        model=\"gpt-4o-mini\"\n",
    ")\n",
    "\n",
    "sales_agent3 = Agent(\n",
    "        name=\"Busy Customer Service Agent\",\n",
    "        instructions=instructions3,\n",
    "        model=\"gpt-4o-mini\"\n",
    ")"
   ]
  },
  {
   "cell_type": "code",
   "execution_count": 17,
   "id": "9355a273",
   "metadata": {},
   "outputs": [
    {
     "name": "stdout",
     "output_type": "stream",
     "text": [
      "Subject: Elevate Your Riding Experience with BroomBot\n",
      "\n",
      "Dear [Recipient's Name],\n",
      "\n",
      "I hope this message finds you well. My name is [Your Name], and I represent BroomBot, an innovative company dedicated to transforming the motorcycle experience through advanced technology and exceptional service.\n",
      "\n",
      "At BroomBot, we understand the passion that drives motorcycle enthusiasts like you. Our AI-powered solutions provide not only a seamless booking service but also access to top-quality motorcycles tailored to your needs. Whether you're looking to ride for leisure, explore new terrains, or enhance your commuting experience, we have options that cater to every preference.\n",
      "\n",
      "Why Choose BroomBot?\n",
      "\n",
      "- **Personalized Recommendations:** Our advanced AI learns your preferences to suggest the perfect motorcycle for your riding style.\n",
      "- **Hassle-Free Booking:** Enjoy a streamlined reservation process, allowing you to focus on your ride without the distractions of planning.\n",
      "- **Dedicated Support:** Our customer service team is always ready to assist you, ensuring a smooth experience from start to finish.\n",
      "\n",
      "I would love the opportunity to discuss how BroomBot can elevate your motorcycle experience. Could we schedule a brief call to explore this further?\n",
      "\n",
      "Thank you for considering BroomBot. I look forward to the possibility of working together.\n",
      "\n",
      "Best regards,\n",
      "\n",
      "[Your Name]  \n",
      "[Your Position]  \n",
      "BroomBot  \n",
      "[Your Contact Information]  \n",
      "[Company Website]  "
     ]
    }
   ],
   "source": [
    "\n",
    "result = Runner.run_streamed(sales_agent1, input=\"Write a cold sales email\")\n",
    "async for event in result.stream_events():\n",
    "    if event.type == \"raw_response_event\" and isinstance(event.data, ResponseTextDeltaEvent):\n",
    "        print(event.data.delta, end=\"\", flush=True)"
   ]
  },
  {
   "cell_type": "code",
   "execution_count": 18,
   "id": "8eec9841",
   "metadata": {},
   "outputs": [
    {
     "name": "stdout",
     "output_type": "stream",
     "text": [
      "Subject: Discover Your Perfect Ride with BroomBot\n",
      "\n",
      "Dear [Customer's Name],\n",
      "\n",
      "I hope this message finds you well. My name is [Your Name], and I am with BroomBot, where we specialize in providing exceptional motorcycle services tailored to your needs.\n",
      "\n",
      "We understand that selecting the right motorcycle can be a significant decision. Whether you are looking to buy, book a service, or need assistance with your current ride, our team is here to ensure you have a seamless experience.\n",
      "\n",
      "At BroomBot, we leverage advanced AI technology to match you with the ideal motorcycle that fits your lifestyle and preferences. Additionally, our booking service is designed for your convenience, ensuring expert maintenance and support whenever you need it.\n",
      "\n",
      "I invite you to explore our offerings and see how we can assist you in your motorcycle journey. If you have any questions or would like to discuss your options, please feel free to reach out.\n",
      "\n",
      "Thank you for considering BroomBot. We look forward to the opportunity to serve you.\n",
      "\n",
      "Best regards,\n",
      "\n",
      "[Your Name]  \n",
      "[Your Position]  \n",
      "BroomBot  \n",
      "[Your Contact Information]  \n",
      "[Website URL]  \n",
      "\n",
      "\n",
      "Subject: 🏍️ Rev Up Your Ride with BroomBot! 🚀\n",
      "\n",
      "Hey [Customer's Name],\n",
      "\n",
      "Hope this email finds you revving up the excitement in your life! I'm [Your Name], your friendly customer service guru at BroomBot—a place where we put the \"vroom\" in your zoom!\n",
      "\n",
      "Are you ready to take your motorcycle game to the next level? Whether you're looking to book a sweet ride, need assistance with a product, or just want to chat about the best ways to dodge traffic, we’ve got your back! \n",
      "\n",
      "With our AI-powered motorcycles, you'll not only look cool but feel like a superstar gliding down the street. 🌟 Seriously, who wouldn’t want to ride one of our bikes that practically reads your mind? (No, I’m not joking… well, maybe just a little!)\n",
      "\n",
      "I’d love to help you get started or answer any burning questions you might have. Hit me up, and let’s make your motorcycle dreams come true!\n",
      "\n",
      "Keep it wheely cool,  \n",
      "[Your Name]  \n",
      "Customer Service Ninja, BroomBot  \n",
      "P.S. Why did the motorcycle break up with its partner? It couldn’t handle the emotional baggage! 😄\n",
      "\n",
      "\n",
      "Subject: Enhance Your Ride with ComplAI's Services\n",
      "\n",
      "Hi [Customer's Name],\n",
      "\n",
      "I hope this message finds you well! I'm reaching out to introduce you to ComplAI, where we provide top-notch motorcycle services, booking options, and high-quality motorcycles powered by AI.\n",
      "\n",
      "Whether you're looking to purchase a new bike or streamline your riding experience, we have solutions tailored just for you. \n",
      "\n",
      "If you have any questions or would like to know more, feel free to reply to this email!\n",
      "\n",
      "Best regards,\n",
      "\n",
      "[Your Name]  \n",
      "Customer Service Team  \n",
      "ComplAI  \n",
      "\n",
      "\n"
     ]
    }
   ],
   "source": [
    "messages = \"write a cold customer service email\"\n",
    "\n",
    "with trace(\"Parallel cold email\"):\n",
    "    results = await asyncio.gather(\n",
    "        Runner.run(sales_agent1, messages),\n",
    "        Runner.run(sales_agent2, messages),\n",
    "        Runner.run(sales_agent3, messages)\n",
    "    )\n",
    "outputs = [result.final_output for result in results]\n",
    "\n",
    "for output in outputs:\n",
    "    print(output + \"\\n\\n\")"
   ]
  },
  {
   "cell_type": "code",
   "execution_count": 19,
   "id": "626a5292",
   "metadata": {},
   "outputs": [],
   "source": [
    "sales_picker = Agent(\n",
    "    name=\"sales_picker\",\n",
    "    instructions=\"You pick the best cold customer service email from the given options. \\\n",
    "Imagine you are a customer and pick the one you are most likely to respond to. \\\n",
    "Do not give an explanation; reply with the selected email only.\",\n",
    "    model=\"gpt-4o-mini\"\n",
    ")"
   ]
  },
  {
   "cell_type": "code",
   "execution_count": 20,
   "id": "cfa61666",
   "metadata": {},
   "outputs": [
    {
     "name": "stdout",
     "output_type": "stream",
     "text": [
      "Best customer service email:\n",
      "Subject: Your Next Adventure Awaits! 🏍️✨\n",
      "\n",
      "Hey there, [Customer's Name]!\n",
      "\n",
      "Hope your day is going smoother than a fresh set of tires on a sunny day! I’m [Your Name], your friendly neighborhood Motorcycle Enthusiast from BroomBot, and I couldn’t resist reaching out to share some thrilling opportunities that could rev up your adventures.\n",
      "\n",
      "Imagine cruising the open roads, wind in your hair, and the thrill of the ride at your fingertips. Whether you need a brand-new ride or just want to book one for a weekend escapade, we’ve got your back! 🚀\n",
      "\n",
      "Here’s what we can do for you:\n",
      "\n",
      "1. **Curated Motorcycle Options**: From sleek sport bikes to rugged cruisers, we’ve got a ride for every kind of adventurer. 🏍️💨\n",
      "\n",
      "2. **Easy Booking**: Planning a weekend trip? Our handy dandy booking service is as smooth as your favorite ride. Just a few clicks, and you’re ready to roll! 📅\n",
      "\n",
      "3. **AI-Powered Assistance**: Our BroomBot is designed to support you every step of the way, and yes, it doesn’t mind confirming your coffee order before you take off. 😉\n",
      "\n",
      "So, what’s holding you back from your next two-wheeled adventure? I’d love to help you find the perfect motorcycle or guide you through our booking service. Let’s hit the road together!\n",
      "\n",
      "Ready to rev up your ride? Just reply to this email, and we’ll get started!\n",
      "\n",
      "Stay wild and ride safe,  \n",
      "[Your Name]  \n",
      "BroomBot - Your Motorcycle Adventure Buddy  \n",
      "[Your Phone Number]  \n",
      "[Your Website]  \n",
      "\n",
      "P.S. Did I mention we’re completely tire-d of conventional customer service? 😉\n"
     ]
    }
   ],
   "source": [
    "message = \"Write a cold customer service email\"\n",
    "\n",
    "with trace(\"Selection from customer service people\"):\n",
    "    results = await asyncio.gather(\n",
    "        Runner.run(sales_agent1, message),\n",
    "        Runner.run(sales_agent2, message),\n",
    "        Runner.run(sales_agent3, message),\n",
    "    )\n",
    "    outputs = [result.final_output for result in results]\n",
    "\n",
    "    emails = \"Cold customer service emails:\\n\\n\" + \"\\n\\nEmail:\\n\\n\".join(outputs)\n",
    "\n",
    "    best = await Runner.run(sales_picker, emails)\n",
    "\n",
    "    print(f\"Best customer service email:\\n{best.final_output}\")\n"
   ]
  },
  {
   "cell_type": "markdown",
   "id": "55749584",
   "metadata": {},
   "source": [
    "## Part 2: use of tools\n",
    "\n",
    "Now we will add a tool to the mix.\n",
    "\n",
    "Remember all that json boilerplate and the `handle_tool_calls()` function with the if logic.."
   ]
  },
  {
   "cell_type": "code",
   "execution_count": null,
   "id": "75171536",
   "metadata": {},
   "outputs": [],
   "source": []
  },
  {
   "cell_type": "code",
   "execution_count": null,
   "id": "6f41915e",
   "metadata": {},
   "outputs": [],
   "source": []
  },
  {
   "cell_type": "code",
   "execution_count": null,
   "id": "2c74286e",
   "metadata": {},
   "outputs": [],
   "source": []
  }
 ],
 "metadata": {
  "kernelspec": {
   "display_name": "agents",
   "language": "python",
   "name": "python3"
  },
  "language_info": {
   "codemirror_mode": {
    "name": "ipython",
    "version": 3
   },
   "file_extension": ".py",
   "mimetype": "text/x-python",
   "name": "python",
   "nbconvert_exporter": "python",
   "pygments_lexer": "ipython3",
   "version": "3.12.11"
  }
 },
 "nbformat": 4,
 "nbformat_minor": 5
}
