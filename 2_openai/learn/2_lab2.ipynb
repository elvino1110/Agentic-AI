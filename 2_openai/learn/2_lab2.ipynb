{
 "cells": [
  {
   "cell_type": "markdown",
   "id": "44d2fddf",
   "metadata": {},
   "source": [
    "## Week 2 Day 2\n",
    "\n",
    "Our first Agentic Framework project!!\n",
    "\n",
    "Prepare yourself for something ridiculously easy.\n",
    "\n",
    "We're going to build a simple Agent system for generating cold sales outreach emails:\n",
    "1. Agent workflow\n",
    "2. Use of tools to call functions\n",
    "3. Agent collaboration via Tools and Handoffs"
   ]
  },
  {
   "cell_type": "markdown",
   "id": "98908864",
   "metadata": {},
   "source": [
    "## Before we start - some setup:\n",
    "\n",
    "\n",
    "Please visit Sendgrid at: https://sendgrid.com/\n",
    "\n",
    "(Sendgrid is a Twilio company for sending emails.)\n",
    "\n",
    "If SendGrid gives you problems, see the alternative implementation using \"Resend Email\" in community_contributions/2_lab2_with_resend_email\n",
    "\n",
    "Please set up an account - it's free! (at least, for me, right now).\n",
    "\n",
    "Once you've created an account, click on:\n",
    "\n",
    "Settings (left sidebar) >> API Keys >> Create API Key (button on top right)\n",
    "\n",
    "Copy the key to the clipboard, then add a new line to your .env file:\n",
    "\n",
    "`SENDGRID_API_KEY=xxxx`\n",
    "\n",
    "And also, within SendGrid, go to:\n",
    "\n",
    "Settings (left sidebar) >> Sender Authentication >> \"Verify a Single Sender\"  \n",
    "and verify that your own email address is a real email address, so that SendGrid can send emails for you.\n"
   ]
  },
  {
   "cell_type": "code",
   "execution_count": 1,
   "id": "2cd1cc1a",
   "metadata": {},
   "outputs": [],
   "source": [
    "from dotenv import load_dotenv\n",
    "from agents import Agent, Runner, trace, function_tool\n",
    "from openai.types.responses import ResponseTextDeltaEvent\n",
    "from typing import Dict\n",
    "import os\n",
    "import asyncio"
   ]
  },
  {
   "cell_type": "markdown",
   "id": "6c18c056",
   "metadata": {},
   "source": [
    "## Step 1: Agent workflow"
   ]
  },
  {
   "cell_type": "code",
   "execution_count": 69,
   "id": "c424483e",
   "metadata": {},
   "outputs": [],
   "source": [
    "instructions1 = \"You are a customer service agent working for BroomBot (Motorcycle Bot), \\\n",
    "a company that provides a service motorcycle, booking service, and selling the product of motorcycle, powered by AI. \\\n",
    "You write professional, serious cold emails.\"\n",
    "\n",
    "instructions2 = \"You are a humorous, engaging customer service agent working for BroomBot (Motorcycle Bot), \\\n",
    "a company that provides a service motorcycle, booking service, and selling the product of motorcycle, powered by AI. \\\n",
    "You write witty, engaging cold emails that are likely to get a response.\"\n",
    "\n",
    "\n",
    "instructions3 = \"You are a busy customer service agent working for BroomBot (Motorcycle Bot), \\\n",
    "a company that provides a service motorcycle, booking service, and selling the product of motorcycle, powered by AI. \\\n",
    "You write concise, to the point cold emails.\""
   ]
  },
  {
   "cell_type": "code",
   "execution_count": 87,
   "id": "25063a54",
   "metadata": {},
   "outputs": [],
   "source": [
    "customer_service_agent1 = Agent(\n",
    "        name=\"Professional Customer Service Agent\",\n",
    "        instructions=instructions1,\n",
    "        model=\"gpt-4o-mini\"\n",
    ")\n",
    "\n",
    "customer_service_agent2 = Agent(\n",
    "        name=\"Engaging Customer Service Agent\",\n",
    "        instructions=instructions2,\n",
    "        model=\"gpt-4o-mini\"\n",
    ")\n",
    "\n",
    "customer_service_agent3 = Agent(\n",
    "        name=\"Busy Customer Service Agent\",\n",
    "        instructions=instructions3,\n",
    "        model=\"gpt-4o-mini\"\n",
    ")"
   ]
  },
  {
   "cell_type": "code",
   "execution_count": null,
   "id": "9355a273",
   "metadata": {},
   "outputs": [
    {
     "name": "stdout",
     "output_type": "stream",
     "text": [
      "Subject: Discover BroomBot's Premier Motorcycle Services\n",
      "\n",
      "Dear [Recipient's Name],\n",
      "\n",
      "I hope this message finds you well. My name is [Your Name], and I am with BroomBot, a leader in AI-powered motorcycle solutions. We specialize in providing exceptional motorcycle services, from booking to purchasing, designed to enhance your riding experience.\n",
      "\n",
      "At BroomBot, we understand the importance of dependable transportation and the joy of riding. Our services include:\n",
      "\n",
      "- **Motorcycle Booking Service**: Effortlessly schedule rides and access our fleet of well-maintained motorcycles at your convenience.\n",
      "- **Sales of Premium Motorcycles**: Choose from a wide range of models, ensuring you find the perfect fit for your lifestyle and preferences.\n",
      "\n",
      "I would love the opportunity to discuss how BroomBot can meet your specific needs. Please feel free to reach out if you have any questions or if you would like to explore our services further.\n",
      "\n",
      "Thank you for considering BroomBot. I look forward to the possibility of assisting you.\n",
      "\n",
      "Warm regards,\n",
      "\n",
      "[Your Name]  \n",
      "[Your Position]  \n",
      "BroomBot  \n",
      "[Your Contact Information]  \n",
      "[Website URL]"
     ]
    }
   ],
   "source": [
    "\n",
    "result = Runner.run_streamed(customer_service_agent1, input=\"Write a cold customer service email\")\n",
    "async for event in result.stream_events():\n",
    "    if event.type == \"raw_response_event\" and isinstance(event.data, ResponseTextDeltaEvent):\n",
    "        print(event.data.delta, end=\"\", flush=True)"
   ]
  },
  {
   "cell_type": "code",
   "execution_count": null,
   "id": "8eec9841",
   "metadata": {},
   "outputs": [
    {
     "name": "stdout",
     "output_type": "stream",
     "text": [
      "<!DOCTYPE html>  \n",
      "<html lang='en'>  \n",
      "<body>  \n",
      "<p>Dear [Customer's Name],</p>  \n",
      "\n",
      "<p>I hope this message finds you well. My name is [Your Name], and I am a representative from BroomBot, where we specialize in providing innovative motorcycle services and products powered by advanced AI technology.</p>  \n",
      "\n",
      "<p>We understand that choosing the right motorcycle service can be overwhelming, and I would like to offer our support. Whether you are interested in booking a motorcycle for your next adventure or exploring our range of motorcycles for sale, our team is here to assist you with any questions you may have.</p>  \n",
      "\n",
      "<p>At BroomBot, we pride ourselves on delivering excellent service tailored to your needs. Our user-friendly platform makes booking seamless and efficient, ensuring you have the best experience possible.</p>  \n",
      "\n",
      "<p>If you are open to discussing how we can assist you, please feel free to reply to this email or contact me directly at [Your Phone Number]. I would be delighted to help you with your motorcycle needs.</p>  \n",
      "\n",
      "<p>Thank you for your time, and I look forward to hearing from you soon.</p>  \n",
      "\n",
      "<p>Best regards,</p>  \n",
      "<p>[Your Name] <br />  \n",
      "[Your Position] <br />  \n",
      "BroomBot <br />  \n",
      "[Your Email] <br />  \n",
      "[Your Phone Number] <br />  \n",
      "</p>  \n",
      "</body>  \n",
      "</html>  \n",
      "\n",
      "\n",
      "<!DOCTYPE html>\n",
      "<html lang='en'>\n",
      "<body>\n",
      "    <p>Subject: Let’s Put Some Vroom in Your Zoom!</p>\n",
      "    \n",
      "    <p>Hi there!</p>\n",
      "    \n",
      "    <p>Ever feel like your ride is missing a spark? Or maybe it’s time to give your two-wheeled dream a shiny upgrade? 🏍️✨</p>\n",
      "    \n",
      "    <p>At BroomBot, we’re not just your friendly neighborhood motorcycle bots; we’re your partners in adventure! Whether you’re looking to book a service, find the perfect ride, or just want to chat about the latest in motorcycle magic, we’re here for you.</p>\n",
      "    \n",
      "    <p>Got questions? We’ve got answers (even if they sometimes come with a side of humor)! Just hit reply or give us a shout, and let’s rev up your motorcycle experience together.</p>\n",
      "    \n",
      "    <p>Hope to hear from you soon!</p>\n",
      "    \n",
      "    <p>Keep on rollin’,</p>\n",
      "    \n",
      "    <p>The BroomBot Team 🧹🤖</p>\n",
      "</body>\n",
      "</html>\n",
      "\n",
      "\n",
      "<!DOCTYPE html>  \n",
      "<html lang='en'>  \n",
      "<body>  \n",
      "<p>Subject: Discover Our Premium Motorcycle Services</p>  \n",
      "<p>Hi [Customer's Name],</p>  \n",
      "<p>I hope this message finds you well! At ComplAI, we specialize in making motorcycle ownership effortless. Whether you're looking for a reliable booking service, premium motorcycle options, or maintenance support, we have you covered.</p>  \n",
      "<p>If you're interested in learning more, we'd love to schedule a quick call to discuss how we can meet your needs.</p>  \n",
      "<p>Looking forward to your response!</p>  \n",
      "<p>Best regards,<br>  \n",
      "[Your Name]<br>  \n",
      "Customer Service Team<br>  \n",
      "ComplAI</p>  \n",
      "</body>  \n",
      "</html>  \n",
      "\n",
      "\n"
     ]
    }
   ],
   "source": [
    "messages = \"write a cold customer service email\"\n",
    "\n",
    "with trace(\"Parallel cold email\"):\n",
    "    results = await asyncio.gather(\n",
    "        Runner.run(customer_service_agent1, messages),\n",
    "        Runner.run(customer_service_agent2, messages),\n",
    "        Runner.run(customer_service_agent3, messages)\n",
    "    )\n",
    "outputs = [result.final_output for result in results]\n",
    "\n",
    "for output in outputs:\n",
    "    print(output + \"\\n\\n\")"
   ]
  },
  {
   "cell_type": "code",
   "execution_count": null,
   "id": "626a5292",
   "metadata": {},
   "outputs": [],
   "source": [
    "customer_service_picker = Agent(\n",
    "    name=\"customer_service_picker\",\n",
    "    instructions=\"You pick the best cold customer service email from the given options. \\\n",
    "Imagine you are a customer and pick the one you are most likely to respond to. \\\n",
    "Do not give an explanation; reply with the selected email only.\",\n",
    "    model=\"gpt-4o-mini\"\n",
    ")"
   ]
  },
  {
   "cell_type": "code",
   "execution_count": null,
   "id": "cfa61666",
   "metadata": {},
   "outputs": [
    {
     "name": "stdout",
     "output_type": "stream",
     "text": [
      "Best customer service email:\n",
      "<!DOCTYPE html>  \n",
      "<html lang='en'>  \n",
      "<body>  \n",
      "<p>Subject: Ready to Ride? Let BroomBot Help You Zoom!</p>  \n",
      "\n",
      "<p>Hi [Recipient's Name],</p>  \n",
      "\n",
      "<p>Are you tired of four wheels and feeling a bit wheelie bored? If you’re looking to kick the mundane to the curb and add some vroom to your zoom, then let me introduce you to BroomBot – your new best buddy on two wheels!</p>  \n",
      "\n",
      "<p>With our AI-powered motorcycle booking service, you can ride into the sunset quicker than you can say “rev it up!” Whether you're planning a weekend getaway or just want to ditch the traffic jams, we’ve got your back with motorcycles that will make your heart race and your worries melt away.</p>  \n",
      "\n",
      "<p>Need a ride? We offer easy booking with just a click, and our service is as smooth as a well-oiled machine. Want to own a slice of freedom? Check out our range of motorcycles that come with a warranty of fun!</p>  \n",
      "\n",
      "<p>Ready to take the plunge? Just hit reply, and we’ll be your co-pilots in this adventurous journey!</p>  \n",
      "\n",
      "<p>Keep the rubber side down and the shiny side up!</p>  \n",
      "\n",
      "<p>Best,</p>  \n",
      "<p>[Your Name]<br>  \n",
      "BroomBot Team<br>  \n",
      "Your Partner in Adventure!</p>  \n",
      "</body>  \n",
      "</html>  \n"
     ]
    }
   ],
   "source": [
    "message = \"Write a cold customer service email\"\n",
    "\n",
    "with trace(\"Selection from customer service people\"):\n",
    "    results = await asyncio.gather(\n",
    "        Runner.run(customer_service_agent1, message),\n",
    "        Runner.run(customer_service_agent2, message),\n",
    "        Runner.run(customer_service_agent3, message),\n",
    "    )\n",
    "    outputs = [result.final_output for result in results]\n",
    "\n",
    "    emails = \"Cold customer service emails:\\n\\n\" + \"\\n\\nEmail:\\n\\n\".join(outputs)\n",
    "\n",
    "    best = await Runner.run(customer_service_picker, emails)\n",
    "\n",
    "    print(f\"Best customer service email:\\n{best.final_output}\")\n"
   ]
  },
  {
   "cell_type": "markdown",
   "id": "55749584",
   "metadata": {},
   "source": [
    "## Part 2: use of tools\n",
    "\n",
    "Now we will add a tool to the mix.\n",
    "\n",
    "Remember all that json boilerplate and the `handle_tool_calls()` function with the if logic.."
   ]
  },
  {
   "cell_type": "code",
   "execution_count": null,
   "id": "75171536",
   "metadata": {},
   "outputs": [],
   "source": [
    "customer_service_agent1 = Agent(\n",
    "        name=\"Professional Customer Service Agent\",\n",
    "        instructions=instructions1,\n",
    "        model=\"gpt-4o-mini\"\n",
    ")\n",
    "\n",
    "customer_service_agent2 = Agent(\n",
    "        name=\"Engaging Customer Service Agent\",\n",
    "        instructions=instructions2,\n",
    "        model=\"gpt-4o-mini\"\n",
    ")\n",
    "\n",
    "customer_service_agent3 = Agent(\n",
    "        name=\"Busy Customer Service Agent\",\n",
    "        instructions=instructions3,\n",
    "        model=\"gpt-4o-mini\"\n",
    ")"
   ]
  },
  {
   "cell_type": "code",
   "execution_count": null,
   "id": "6f41915e",
   "metadata": {},
   "outputs": [
    {
     "data": {
      "text/plain": [
       "Agent(name='Professional Customer Service Agent', instructions=\"You are a customer service agent working for BroomBot (Motorcycle Bot), a company that provides a service motorcycle, booking service, and selling the product of motorcycle, powered by AI. You write professional, serious cold emails. Return the email in HTML format, do not include ```html but with <!DOCTYPE html> and exclude the head and css, div, etc.For example, like this:  <!DOCTYPE html> <html lang='en'> <body> <p>...</p> </body> </html>\", prompt=None, handoff_description=None, handoffs=[], model='gpt-4o-mini', model_settings=ModelSettings(temperature=None, top_p=None, frequency_penalty=None, presence_penalty=None, tool_choice=None, parallel_tool_calls=None, truncation=None, max_tokens=None, reasoning=None, metadata=None, store=None, include_usage=None, extra_query=None, extra_body=None, extra_headers=None, extra_args=None), tools=[], mcp_servers=[], mcp_config={}, input_guardrails=[], output_guardrails=[], output_type=None, hooks=None, tool_use_behavior='run_llm_again', reset_tool_choice=True)"
      ]
     },
     "execution_count": 61,
     "metadata": {},
     "output_type": "execute_result"
    }
   ],
   "source": [
    "customer_service_agent1"
   ]
  },
  {
   "cell_type": "markdown",
   "id": "4e184f49",
   "metadata": {},
   "source": [
    "## Steps 2 and 3: Tools and Agent interactions\n",
    "\n",
    "Remember all that boilerplate json?\n",
    "\n",
    "Simply wrap your function with the decorator `@function_tool`"
   ]
  },
  {
   "cell_type": "code",
   "execution_count": 62,
   "id": "3a5955e4",
   "metadata": {},
   "outputs": [],
   "source": [
    "import AIRPALibrary\n",
    "ailabs = AIRPALibrary.AIRPALibrary()"
   ]
  },
  {
   "cell_type": "code",
   "execution_count": 74,
   "id": "2c74286e",
   "metadata": {},
   "outputs": [],
   "source": [
    "@function_tool\n",
    "def send_email(body: str):\n",
    "    \"\"\" Send out an email with the given body to all customer service prospects \"\"\"\n",
    "    \n",
    "    email_to = 'randi.oktariarinanda@ai.astra.co.id'\n",
    "    email_from = 'elvino.dwisaputra@ai.astra.co.id'\n",
    "    subject = 'Test'\n",
    "    ailabs.send_email(subject=subject, content=f\"\"\"{body}\"\"\", to=email_to, sender=email_from)\n",
    "    return {\"status\": \"success\"}"
   ]
  },
  {
   "cell_type": "markdown",
   "id": "05db481e",
   "metadata": {},
   "source": [
    "### This has automatically been converted into a tool, with the boilerplate json created"
   ]
  },
  {
   "cell_type": "code",
   "execution_count": 75,
   "id": "92b1165e",
   "metadata": {},
   "outputs": [
    {
     "data": {
      "text/plain": [
       "FunctionTool(name='send_email', description='Send out an email with the given body to all customer service prospects', params_json_schema={'properties': {'body': {'title': 'Body', 'type': 'string'}}, 'required': ['body'], 'title': 'send_email_args', 'type': 'object', 'additionalProperties': False}, on_invoke_tool=<function function_tool.<locals>._create_function_tool.<locals>._on_invoke_tool at 0x0000020785283EC0>, strict_json_schema=True, is_enabled=True)"
      ]
     },
     "execution_count": 75,
     "metadata": {},
     "output_type": "execute_result"
    }
   ],
   "source": [
    "send_email"
   ]
  },
  {
   "cell_type": "markdown",
   "id": "10f42ec3",
   "metadata": {},
   "source": [
    "### And you can also convert an Agent into a tool"
   ]
  },
  {
   "cell_type": "code",
   "execution_count": null,
   "id": "84787d72",
   "metadata": {},
   "outputs": [
    {
     "data": {
      "text/plain": [
       "FunctionTool(name='sales_agent1', description='Write a cold customer service email', params_json_schema={'properties': {'input': {'title': 'Input', 'type': 'string'}}, 'required': ['input'], 'title': 'sales_agent1_args', 'type': 'object', 'additionalProperties': False}, on_invoke_tool=<function function_tool.<locals>._create_function_tool.<locals>._on_invoke_tool at 0x00000207853E93A0>, strict_json_schema=True, is_enabled=True)"
      ]
     },
     "execution_count": 76,
     "metadata": {},
     "output_type": "execute_result"
    }
   ],
   "source": [
    "tool1 = customer_service_agent1.as_tool(tool_name=\"customer_service_agent1\", tool_description=\"Write a cold customer service email\")\n",
    "tool1"
   ]
  },
  {
   "cell_type": "markdown",
   "id": "5a92e5d6",
   "metadata": {},
   "source": [
    "### So now we can gather all the tools together:\n",
    "\n",
    "A tool for each of our 3 email-writing agents\n",
    "\n",
    "And a tool for our function to send emails"
   ]
  },
  {
   "cell_type": "code",
   "execution_count": null,
   "id": "7d431a79",
   "metadata": {},
   "outputs": [
    {
     "data": {
      "text/plain": [
       "[FunctionTool(name='sales_agent1', description='Write a cold customer service email', params_json_schema={'properties': {'input': {'title': 'Input', 'type': 'string'}}, 'required': ['input'], 'title': 'sales_agent1_args', 'type': 'object', 'additionalProperties': False}, on_invoke_tool=<function function_tool.<locals>._create_function_tool.<locals>._on_invoke_tool at 0x000002078542F560>, strict_json_schema=True, is_enabled=True),\n",
       " FunctionTool(name='sales_agent2', description='Write a cold customer service email', params_json_schema={'properties': {'input': {'title': 'Input', 'type': 'string'}}, 'required': ['input'], 'title': 'sales_agent2_args', 'type': 'object', 'additionalProperties': False}, on_invoke_tool=<function function_tool.<locals>._create_function_tool.<locals>._on_invoke_tool at 0x000002078542F2E0>, strict_json_schema=True, is_enabled=True),\n",
       " FunctionTool(name='sales_agent3', description='Write a cold customer service email', params_json_schema={'properties': {'input': {'title': 'Input', 'type': 'string'}}, 'required': ['input'], 'title': 'sales_agent3_args', 'type': 'object', 'additionalProperties': False}, on_invoke_tool=<function function_tool.<locals>._create_function_tool.<locals>._on_invoke_tool at 0x00000207853EB600>, strict_json_schema=True, is_enabled=True),\n",
       " FunctionTool(name='send_email', description='Send out an email with the given body to all customer service prospects', params_json_schema={'properties': {'body': {'title': 'Body', 'type': 'string'}}, 'required': ['body'], 'title': 'send_email_args', 'type': 'object', 'additionalProperties': False}, on_invoke_tool=<function function_tool.<locals>._create_function_tool.<locals>._on_invoke_tool at 0x0000020785283EC0>, strict_json_schema=True, is_enabled=True)]"
      ]
     },
     "execution_count": 77,
     "metadata": {},
     "output_type": "execute_result"
    }
   ],
   "source": [
    "description = \"Write a cold customer service email\"\n",
    "\n",
    "tool1 = customer_service_agent1.as_tool(tool_name=\"customer_service_agent1\", tool_description=description)\n",
    "tool2 = customer_service_agent2.as_tool(tool_name=\"customer_service_agent2\", tool_description=description)\n",
    "tool3 = customer_service_agent3.as_tool(tool_name=\"customer_service_agent3\", tool_description=description)\n",
    "\n",
    "tools = [tool1, tool2, tool3, send_email]\n",
    "\n",
    "tools"
   ]
  },
  {
   "cell_type": "markdown",
   "id": "8e8e5ad6",
   "metadata": {},
   "source": [
    "## And now it's time for our Sales Manager - our planning agent"
   ]
  },
  {
   "cell_type": "code",
   "execution_count": null,
   "id": "119aa8c0",
   "metadata": {},
   "outputs": [
    {
     "name": "stdout",
     "output_type": "stream",
     "text": [
      "{\n",
      "  \"message\": \"Email berhasil dikirim!\",\n",
      "  \"success\": true\n",
      "}\n",
      "\n"
     ]
    }
   ],
   "source": [
    "# Improved instructions thanks to student Guillermo F.\n",
    "\n",
    "instructions = \"\"\"\n",
    "You are a Customer Service Manager at BroomBot (Motorcycle Bot). Your goal is to find the single best cold sales email using the sales_agent tools.\n",
    " \n",
    "Follow these steps carefully:\n",
    "1. Generate Drafts: Use all three sales_agent tools to generate three different email drafts. Do not proceed until all three drafts are ready.\n",
    " \n",
    "2. Evaluate and Select: Review the drafts and choose the single best email using your judgment of which one is most effective.\n",
    " \n",
    "3. Use the send_email tool to send the best email (and only the best email) to the user.\n",
    " \n",
    "Crucial Rules:\n",
    "- You must use the sales agent tools to generate the drafts — do not write them yourself.\n",
    "- You must send ONE email using the send_email tool — never more than one.\n",
    "- Send email body must be in HTML format, do not include ```html but with <!DOCTYPE html> and exclude the head and css, div, etc. But you can add like ul, li, etc based on the email content.\n",
    "For example, like this:\n",
    "<!DOCTYPE html> \n",
    "<html lang='en'> \n",
    "<body> \n",
    "<p>...</p> \n",
    "</body> \n",
    "</html>\"\n",
    "\"\"\"\n",
    "\n",
    "\n",
    "customer_service_manager = Agent(name=\"Customer Service Manager\", instructions=instructions, tools=tools, model=\"gpt-4o-mini\")\n",
    "\n",
    "message = \"Send a cold customer service email addressed to 'Dear CEO'\"\n",
    "\n",
    "with trace(\"Customer Service manager\"):\n",
    "    result = await Runner.run(customer_service_manager, message)"
   ]
  },
  {
   "cell_type": "code",
   "execution_count": 80,
   "id": "412c8966",
   "metadata": {},
   "outputs": [
    {
     "data": {
      "text/plain": [
       "RunResult(input=\"Send a cold sales email addressed to 'Dear CEO'\", new_items=[ToolCallItem(agent=Agent(name='Customer Service Manager', instructions='\\nYou are a Customer Service Manager at BroomBot (Motorcycle Bot). Your goal is to find the single best cold sales email using the sales_agent tools.\\n\\nFollow these steps carefully:\\n1. Generate Drafts: Use all three sales_agent tools to generate three different email drafts. Do not proceed until all three drafts are ready.\\n\\n2. Evaluate and Select: Review the drafts and choose the single best email using your judgment of which one is most effective.\\n\\n3. Use the send_email tool to send the best email (and only the best email) to the user.\\n\\nCrucial Rules:\\n- You must use the sales agent tools to generate the drafts — do not write them yourself.\\n- You must send ONE email using the send_email tool — never more than one.\\n- Send email body must be in HTML format, do not include ```html but with <!DOCTYPE html> and exclude the head and css, div, etc. But you can add like ul, li, etc based on the email content.\\nFor example, like this:\\n<!DOCTYPE html> \\n<html lang=\\'en\\'> \\n<body> \\n<p>...</p> \\n</body> \\n</html>\"\\n', prompt=None, handoff_description=None, handoffs=[], model='gpt-4o-mini', model_settings=ModelSettings(temperature=None, top_p=None, frequency_penalty=None, presence_penalty=None, tool_choice=None, parallel_tool_calls=None, truncation=None, max_tokens=None, reasoning=None, metadata=None, store=None, include_usage=None, extra_query=None, extra_body=None, extra_headers=None, extra_args=None), tools=[FunctionTool(name='sales_agent1', description='Write a cold customer service email', params_json_schema={'properties': {'input': {'title': 'Input', 'type': 'string'}}, 'required': ['input'], 'title': 'sales_agent1_args', 'type': 'object', 'additionalProperties': False}, on_invoke_tool=<function function_tool.<locals>._create_function_tool.<locals>._on_invoke_tool at 0x000002078542F560>, strict_json_schema=True, is_enabled=True), FunctionTool(name='sales_agent2', description='Write a cold customer service email', params_json_schema={'properties': {'input': {'title': 'Input', 'type': 'string'}}, 'required': ['input'], 'title': 'sales_agent2_args', 'type': 'object', 'additionalProperties': False}, on_invoke_tool=<function function_tool.<locals>._create_function_tool.<locals>._on_invoke_tool at 0x000002078542F2E0>, strict_json_schema=True, is_enabled=True), FunctionTool(name='sales_agent3', description='Write a cold customer service email', params_json_schema={'properties': {'input': {'title': 'Input', 'type': 'string'}}, 'required': ['input'], 'title': 'sales_agent3_args', 'type': 'object', 'additionalProperties': False}, on_invoke_tool=<function function_tool.<locals>._create_function_tool.<locals>._on_invoke_tool at 0x00000207853EB600>, strict_json_schema=True, is_enabled=True), FunctionTool(name='send_email', description='Send out an email with the given body to all customer service prospects', params_json_schema={'properties': {'body': {'title': 'Body', 'type': 'string'}}, 'required': ['body'], 'title': 'send_email_args', 'type': 'object', 'additionalProperties': False}, on_invoke_tool=<function function_tool.<locals>._create_function_tool.<locals>._on_invoke_tool at 0x0000020785283EC0>, strict_json_schema=True, is_enabled=True)], mcp_servers=[], mcp_config={}, input_guardrails=[], output_guardrails=[], output_type=None, hooks=None, tool_use_behavior='run_llm_again', reset_tool_choice=True), raw_item=ResponseFunctionToolCall(arguments='{\"input\":\"Dear CEO, \\\\n\\\\nI hope this message finds you well. At BroomBot, we specialize in innovative motorcycle solutions that can enhance your experience. Our products are designed to optimize performance and efficiency, whether you\\'re looking for advanced safety features or the latest in tech integration. \\\\n\\\\nI\\'d love to discuss how we can support your goals and help your business succeed. Are you available for a brief call this week? \\\\n\\\\nBest regards,\\\\n[Your Name] \\\\nBroomBot\"}', call_id='call_rsQydOoRq3tCOEOUGVSNWH2D', name='sales_agent1', type='function_call', id='fc_688b2ee421ec81998542a85e8f1c73df0eb66c3eb24c047f', status='completed'), type='tool_call_item'), ToolCallItem(agent=Agent(name='Customer Service Manager', instructions='\\nYou are a Customer Service Manager at BroomBot (Motorcycle Bot). Your goal is to find the single best cold sales email using the sales_agent tools.\\n\\nFollow these steps carefully:\\n1. Generate Drafts: Use all three sales_agent tools to generate three different email drafts. Do not proceed until all three drafts are ready.\\n\\n2. Evaluate and Select: Review the drafts and choose the single best email using your judgment of which one is most effective.\\n\\n3. Use the send_email tool to send the best email (and only the best email) to the user.\\n\\nCrucial Rules:\\n- You must use the sales agent tools to generate the drafts — do not write them yourself.\\n- You must send ONE email using the send_email tool — never more than one.\\n- Send email body must be in HTML format, do not include ```html but with <!DOCTYPE html> and exclude the head and css, div, etc. But you can add like ul, li, etc based on the email content.\\nFor example, like this:\\n<!DOCTYPE html> \\n<html lang=\\'en\\'> \\n<body> \\n<p>...</p> \\n</body> \\n</html>\"\\n', prompt=None, handoff_description=None, handoffs=[], model='gpt-4o-mini', model_settings=ModelSettings(temperature=None, top_p=None, frequency_penalty=None, presence_penalty=None, tool_choice=None, parallel_tool_calls=None, truncation=None, max_tokens=None, reasoning=None, metadata=None, store=None, include_usage=None, extra_query=None, extra_body=None, extra_headers=None, extra_args=None), tools=[FunctionTool(name='sales_agent1', description='Write a cold customer service email', params_json_schema={'properties': {'input': {'title': 'Input', 'type': 'string'}}, 'required': ['input'], 'title': 'sales_agent1_args', 'type': 'object', 'additionalProperties': False}, on_invoke_tool=<function function_tool.<locals>._create_function_tool.<locals>._on_invoke_tool at 0x000002078542F560>, strict_json_schema=True, is_enabled=True), FunctionTool(name='sales_agent2', description='Write a cold customer service email', params_json_schema={'properties': {'input': {'title': 'Input', 'type': 'string'}}, 'required': ['input'], 'title': 'sales_agent2_args', 'type': 'object', 'additionalProperties': False}, on_invoke_tool=<function function_tool.<locals>._create_function_tool.<locals>._on_invoke_tool at 0x000002078542F2E0>, strict_json_schema=True, is_enabled=True), FunctionTool(name='sales_agent3', description='Write a cold customer service email', params_json_schema={'properties': {'input': {'title': 'Input', 'type': 'string'}}, 'required': ['input'], 'title': 'sales_agent3_args', 'type': 'object', 'additionalProperties': False}, on_invoke_tool=<function function_tool.<locals>._create_function_tool.<locals>._on_invoke_tool at 0x00000207853EB600>, strict_json_schema=True, is_enabled=True), FunctionTool(name='send_email', description='Send out an email with the given body to all customer service prospects', params_json_schema={'properties': {'body': {'title': 'Body', 'type': 'string'}}, 'required': ['body'], 'title': 'send_email_args', 'type': 'object', 'additionalProperties': False}, on_invoke_tool=<function function_tool.<locals>._create_function_tool.<locals>._on_invoke_tool at 0x0000020785283EC0>, strict_json_schema=True, is_enabled=True)], mcp_servers=[], mcp_config={}, input_guardrails=[], output_guardrails=[], output_type=None, hooks=None, tool_use_behavior='run_llm_again', reset_tool_choice=True), raw_item=ResponseFunctionToolCall(arguments='{\"input\":\"Dear CEO, \\\\n\\\\nAre you looking to take your motorcycle experience to the next level? BroomBot offers cutting-edge motorcycle bots designed to improve efficiency and safety. Our technology has helped countless companies enhance their operations. \\\\n\\\\nLet\\'s chat about how we can help transform your motorcycle experience. When would be a good time for you? \\\\n\\\\nSincerely,\\\\n[Your Name] \\\\nBroomBot\"}', call_id='call_wAbUCsW57x3bJnd9Odxx5Wlo', name='sales_agent2', type='function_call', id='fc_688b2ee610408199a30cf53c647adc080eb66c3eb24c047f', status='completed'), type='tool_call_item'), ToolCallItem(agent=Agent(name='Customer Service Manager', instructions='\\nYou are a Customer Service Manager at BroomBot (Motorcycle Bot). Your goal is to find the single best cold sales email using the sales_agent tools.\\n\\nFollow these steps carefully:\\n1. Generate Drafts: Use all three sales_agent tools to generate three different email drafts. Do not proceed until all three drafts are ready.\\n\\n2. Evaluate and Select: Review the drafts and choose the single best email using your judgment of which one is most effective.\\n\\n3. Use the send_email tool to send the best email (and only the best email) to the user.\\n\\nCrucial Rules:\\n- You must use the sales agent tools to generate the drafts — do not write them yourself.\\n- You must send ONE email using the send_email tool — never more than one.\\n- Send email body must be in HTML format, do not include ```html but with <!DOCTYPE html> and exclude the head and css, div, etc. But you can add like ul, li, etc based on the email content.\\nFor example, like this:\\n<!DOCTYPE html> \\n<html lang=\\'en\\'> \\n<body> \\n<p>...</p> \\n</body> \\n</html>\"\\n', prompt=None, handoff_description=None, handoffs=[], model='gpt-4o-mini', model_settings=ModelSettings(temperature=None, top_p=None, frequency_penalty=None, presence_penalty=None, tool_choice=None, parallel_tool_calls=None, truncation=None, max_tokens=None, reasoning=None, metadata=None, store=None, include_usage=None, extra_query=None, extra_body=None, extra_headers=None, extra_args=None), tools=[FunctionTool(name='sales_agent1', description='Write a cold customer service email', params_json_schema={'properties': {'input': {'title': 'Input', 'type': 'string'}}, 'required': ['input'], 'title': 'sales_agent1_args', 'type': 'object', 'additionalProperties': False}, on_invoke_tool=<function function_tool.<locals>._create_function_tool.<locals>._on_invoke_tool at 0x000002078542F560>, strict_json_schema=True, is_enabled=True), FunctionTool(name='sales_agent2', description='Write a cold customer service email', params_json_schema={'properties': {'input': {'title': 'Input', 'type': 'string'}}, 'required': ['input'], 'title': 'sales_agent2_args', 'type': 'object', 'additionalProperties': False}, on_invoke_tool=<function function_tool.<locals>._create_function_tool.<locals>._on_invoke_tool at 0x000002078542F2E0>, strict_json_schema=True, is_enabled=True), FunctionTool(name='sales_agent3', description='Write a cold customer service email', params_json_schema={'properties': {'input': {'title': 'Input', 'type': 'string'}}, 'required': ['input'], 'title': 'sales_agent3_args', 'type': 'object', 'additionalProperties': False}, on_invoke_tool=<function function_tool.<locals>._create_function_tool.<locals>._on_invoke_tool at 0x00000207853EB600>, strict_json_schema=True, is_enabled=True), FunctionTool(name='send_email', description='Send out an email with the given body to all customer service prospects', params_json_schema={'properties': {'body': {'title': 'Body', 'type': 'string'}}, 'required': ['body'], 'title': 'send_email_args', 'type': 'object', 'additionalProperties': False}, on_invoke_tool=<function function_tool.<locals>._create_function_tool.<locals>._on_invoke_tool at 0x0000020785283EC0>, strict_json_schema=True, is_enabled=True)], mcp_servers=[], mcp_config={}, input_guardrails=[], output_guardrails=[], output_type=None, hooks=None, tool_use_behavior='run_llm_again', reset_tool_choice=True), raw_item=ResponseFunctionToolCall(arguments='{\"input\":\"Dear CEO, \\\\n\\\\nI hope you\\'re having a great day! At BroomBot, we are revolutionizing the motorcycle industry with our state-of-the-art bot technology. Our solutions not only boost performance but also make riding safer and more enjoyable. \\\\n\\\\nI\\'d love to schedule a short call to explore how BroomBot can impact your business. What does your schedule look like? \\\\n\\\\nWarm regards,\\\\n[Your Name] \\\\nBroomBot\"}', call_id='call_WlgVXAt9rZOqzFH34qYtpq4u', name='sales_agent3', type='function_call', id='fc_688b2ee9db208199b3663fbcf0945a470eb66c3eb24c047f', status='completed'), type='tool_call_item'), ToolCallOutputItem(agent=Agent(name='Customer Service Manager', instructions='\\nYou are a Customer Service Manager at BroomBot (Motorcycle Bot). Your goal is to find the single best cold sales email using the sales_agent tools.\\n\\nFollow these steps carefully:\\n1. Generate Drafts: Use all three sales_agent tools to generate three different email drafts. Do not proceed until all three drafts are ready.\\n\\n2. Evaluate and Select: Review the drafts and choose the single best email using your judgment of which one is most effective.\\n\\n3. Use the send_email tool to send the best email (and only the best email) to the user.\\n\\nCrucial Rules:\\n- You must use the sales agent tools to generate the drafts — do not write them yourself.\\n- You must send ONE email using the send_email tool — never more than one.\\n- Send email body must be in HTML format, do not include ```html but with <!DOCTYPE html> and exclude the head and css, div, etc. But you can add like ul, li, etc based on the email content.\\nFor example, like this:\\n<!DOCTYPE html> \\n<html lang=\\'en\\'> \\n<body> \\n<p>...</p> \\n</body> \\n</html>\"\\n', prompt=None, handoff_description=None, handoffs=[], model='gpt-4o-mini', model_settings=ModelSettings(temperature=None, top_p=None, frequency_penalty=None, presence_penalty=None, tool_choice=None, parallel_tool_calls=None, truncation=None, max_tokens=None, reasoning=None, metadata=None, store=None, include_usage=None, extra_query=None, extra_body=None, extra_headers=None, extra_args=None), tools=[FunctionTool(name='sales_agent1', description='Write a cold customer service email', params_json_schema={'properties': {'input': {'title': 'Input', 'type': 'string'}}, 'required': ['input'], 'title': 'sales_agent1_args', 'type': 'object', 'additionalProperties': False}, on_invoke_tool=<function function_tool.<locals>._create_function_tool.<locals>._on_invoke_tool at 0x000002078542F560>, strict_json_schema=True, is_enabled=True), FunctionTool(name='sales_agent2', description='Write a cold customer service email', params_json_schema={'properties': {'input': {'title': 'Input', 'type': 'string'}}, 'required': ['input'], 'title': 'sales_agent2_args', 'type': 'object', 'additionalProperties': False}, on_invoke_tool=<function function_tool.<locals>._create_function_tool.<locals>._on_invoke_tool at 0x000002078542F2E0>, strict_json_schema=True, is_enabled=True), FunctionTool(name='sales_agent3', description='Write a cold customer service email', params_json_schema={'properties': {'input': {'title': 'Input', 'type': 'string'}}, 'required': ['input'], 'title': 'sales_agent3_args', 'type': 'object', 'additionalProperties': False}, on_invoke_tool=<function function_tool.<locals>._create_function_tool.<locals>._on_invoke_tool at 0x00000207853EB600>, strict_json_schema=True, is_enabled=True), FunctionTool(name='send_email', description='Send out an email with the given body to all customer service prospects', params_json_schema={'properties': {'body': {'title': 'Body', 'type': 'string'}}, 'required': ['body'], 'title': 'send_email_args', 'type': 'object', 'additionalProperties': False}, on_invoke_tool=<function function_tool.<locals>._create_function_tool.<locals>._on_invoke_tool at 0x0000020785283EC0>, strict_json_schema=True, is_enabled=True)], mcp_servers=[], mcp_config={}, input_guardrails=[], output_guardrails=[], output_type=None, hooks=None, tool_use_behavior='run_llm_again', reset_tool_choice=True), raw_item={'call_id': 'call_rsQydOoRq3tCOEOUGVSNWH2D', 'output': \"Subject: Exploring Innovative Motorcycle Solutions for Your Business\\n\\nDear [CEO's Name],\\n\\nI hope this message finds you well.\\n\\nAt BroomBot, we are dedicated to providing cutting-edge motorcycle solutions tailored to enhance both performance and efficiency. Our offerings include advanced safety features and seamless tech integration, designed to meet the evolving needs of riders and businesses alike.\\n\\nI would appreciate the opportunity to discuss how our solutions could align with your goals and support the continued success of your business. Would you be available for a brief call this week to explore potential collaboration?\\n\\nThank you for considering this opportunity. I look forward to your response.\\n\\nBest regards,\\n\\n[Your Name]  \\nBroomBot  \\n[Your Contact Information]  \\n[Your Position]  \", 'type': 'function_call_output'}, output=\"Subject: Exploring Innovative Motorcycle Solutions for Your Business\\n\\nDear [CEO's Name],\\n\\nI hope this message finds you well.\\n\\nAt BroomBot, we are dedicated to providing cutting-edge motorcycle solutions tailored to enhance both performance and efficiency. Our offerings include advanced safety features and seamless tech integration, designed to meet the evolving needs of riders and businesses alike.\\n\\nI would appreciate the opportunity to discuss how our solutions could align with your goals and support the continued success of your business. Would you be available for a brief call this week to explore potential collaboration?\\n\\nThank you for considering this opportunity. I look forward to your response.\\n\\nBest regards,\\n\\n[Your Name]  \\nBroomBot  \\n[Your Contact Information]  \\n[Your Position]  \", type='tool_call_output_item'), ToolCallOutputItem(agent=Agent(name='Customer Service Manager', instructions='\\nYou are a Customer Service Manager at BroomBot (Motorcycle Bot). Your goal is to find the single best cold sales email using the sales_agent tools.\\n\\nFollow these steps carefully:\\n1. Generate Drafts: Use all three sales_agent tools to generate three different email drafts. Do not proceed until all three drafts are ready.\\n\\n2. Evaluate and Select: Review the drafts and choose the single best email using your judgment of which one is most effective.\\n\\n3. Use the send_email tool to send the best email (and only the best email) to the user.\\n\\nCrucial Rules:\\n- You must use the sales agent tools to generate the drafts — do not write them yourself.\\n- You must send ONE email using the send_email tool — never more than one.\\n- Send email body must be in HTML format, do not include ```html but with <!DOCTYPE html> and exclude the head and css, div, etc. But you can add like ul, li, etc based on the email content.\\nFor example, like this:\\n<!DOCTYPE html> \\n<html lang=\\'en\\'> \\n<body> \\n<p>...</p> \\n</body> \\n</html>\"\\n', prompt=None, handoff_description=None, handoffs=[], model='gpt-4o-mini', model_settings=ModelSettings(temperature=None, top_p=None, frequency_penalty=None, presence_penalty=None, tool_choice=None, parallel_tool_calls=None, truncation=None, max_tokens=None, reasoning=None, metadata=None, store=None, include_usage=None, extra_query=None, extra_body=None, extra_headers=None, extra_args=None), tools=[FunctionTool(name='sales_agent1', description='Write a cold customer service email', params_json_schema={'properties': {'input': {'title': 'Input', 'type': 'string'}}, 'required': ['input'], 'title': 'sales_agent1_args', 'type': 'object', 'additionalProperties': False}, on_invoke_tool=<function function_tool.<locals>._create_function_tool.<locals>._on_invoke_tool at 0x000002078542F560>, strict_json_schema=True, is_enabled=True), FunctionTool(name='sales_agent2', description='Write a cold customer service email', params_json_schema={'properties': {'input': {'title': 'Input', 'type': 'string'}}, 'required': ['input'], 'title': 'sales_agent2_args', 'type': 'object', 'additionalProperties': False}, on_invoke_tool=<function function_tool.<locals>._create_function_tool.<locals>._on_invoke_tool at 0x000002078542F2E0>, strict_json_schema=True, is_enabled=True), FunctionTool(name='sales_agent3', description='Write a cold customer service email', params_json_schema={'properties': {'input': {'title': 'Input', 'type': 'string'}}, 'required': ['input'], 'title': 'sales_agent3_args', 'type': 'object', 'additionalProperties': False}, on_invoke_tool=<function function_tool.<locals>._create_function_tool.<locals>._on_invoke_tool at 0x00000207853EB600>, strict_json_schema=True, is_enabled=True), FunctionTool(name='send_email', description='Send out an email with the given body to all customer service prospects', params_json_schema={'properties': {'body': {'title': 'Body', 'type': 'string'}}, 'required': ['body'], 'title': 'send_email_args', 'type': 'object', 'additionalProperties': False}, on_invoke_tool=<function function_tool.<locals>._create_function_tool.<locals>._on_invoke_tool at 0x0000020785283EC0>, strict_json_schema=True, is_enabled=True)], mcp_servers=[], mcp_config={}, input_guardrails=[], output_guardrails=[], output_type=None, hooks=None, tool_use_behavior='run_llm_again', reset_tool_choice=True), raw_item={'call_id': 'call_wAbUCsW57x3bJnd9Odxx5Wlo', 'output': \"Subject: Ready to “Rev” Up Your Motorcycle Experience?\\n\\nHey [CEO's Name],\\n\\nI hope this email finds you revving your engines! 🚀\\n\\nAre you tired of the same old ride? Why not shake things up with BroomBot—the only motorcycle bot that's smarter than your average bear and more reliable than your grandma’s spaghetti sauce?\\n\\nOur AI-powered motorcycle bots don’t just cruise—they boost efficiency and sprinkle a sprinkle of safety like confetti at a victory parade! 🎉 Imagine your team zipping around on machines so smooth, they’ll make a silk scarf jealous.\\n\\nLet’s chat about how we can turbocharge your motorcycle experience. When would be a good time to connect? I promise, no donuts involved (unless you want them!).\\n\\nLooking forward to some high-octane discussion! \\n\\nBest,\\n[Your Name]  \\nChief Fun Officer  \\nBroomBot 🏍️✨\", 'type': 'function_call_output'}, output=\"Subject: Ready to “Rev” Up Your Motorcycle Experience?\\n\\nHey [CEO's Name],\\n\\nI hope this email finds you revving your engines! 🚀\\n\\nAre you tired of the same old ride? Why not shake things up with BroomBot—the only motorcycle bot that's smarter than your average bear and more reliable than your grandma’s spaghetti sauce?\\n\\nOur AI-powered motorcycle bots don’t just cruise—they boost efficiency and sprinkle a sprinkle of safety like confetti at a victory parade! 🎉 Imagine your team zipping around on machines so smooth, they’ll make a silk scarf jealous.\\n\\nLet’s chat about how we can turbocharge your motorcycle experience. When would be a good time to connect? I promise, no donuts involved (unless you want them!).\\n\\nLooking forward to some high-octane discussion! \\n\\nBest,\\n[Your Name]  \\nChief Fun Officer  \\nBroomBot 🏍️✨\", type='tool_call_output_item'), ToolCallOutputItem(agent=Agent(name='Customer Service Manager', instructions='\\nYou are a Customer Service Manager at BroomBot (Motorcycle Bot). Your goal is to find the single best cold sales email using the sales_agent tools.\\n\\nFollow these steps carefully:\\n1. Generate Drafts: Use all three sales_agent tools to generate three different email drafts. Do not proceed until all three drafts are ready.\\n\\n2. Evaluate and Select: Review the drafts and choose the single best email using your judgment of which one is most effective.\\n\\n3. Use the send_email tool to send the best email (and only the best email) to the user.\\n\\nCrucial Rules:\\n- You must use the sales agent tools to generate the drafts — do not write them yourself.\\n- You must send ONE email using the send_email tool — never more than one.\\n- Send email body must be in HTML format, do not include ```html but with <!DOCTYPE html> and exclude the head and css, div, etc. But you can add like ul, li, etc based on the email content.\\nFor example, like this:\\n<!DOCTYPE html> \\n<html lang=\\'en\\'> \\n<body> \\n<p>...</p> \\n</body> \\n</html>\"\\n', prompt=None, handoff_description=None, handoffs=[], model='gpt-4o-mini', model_settings=ModelSettings(temperature=None, top_p=None, frequency_penalty=None, presence_penalty=None, tool_choice=None, parallel_tool_calls=None, truncation=None, max_tokens=None, reasoning=None, metadata=None, store=None, include_usage=None, extra_query=None, extra_body=None, extra_headers=None, extra_args=None), tools=[FunctionTool(name='sales_agent1', description='Write a cold customer service email', params_json_schema={'properties': {'input': {'title': 'Input', 'type': 'string'}}, 'required': ['input'], 'title': 'sales_agent1_args', 'type': 'object', 'additionalProperties': False}, on_invoke_tool=<function function_tool.<locals>._create_function_tool.<locals>._on_invoke_tool at 0x000002078542F560>, strict_json_schema=True, is_enabled=True), FunctionTool(name='sales_agent2', description='Write a cold customer service email', params_json_schema={'properties': {'input': {'title': 'Input', 'type': 'string'}}, 'required': ['input'], 'title': 'sales_agent2_args', 'type': 'object', 'additionalProperties': False}, on_invoke_tool=<function function_tool.<locals>._create_function_tool.<locals>._on_invoke_tool at 0x000002078542F2E0>, strict_json_schema=True, is_enabled=True), FunctionTool(name='sales_agent3', description='Write a cold customer service email', params_json_schema={'properties': {'input': {'title': 'Input', 'type': 'string'}}, 'required': ['input'], 'title': 'sales_agent3_args', 'type': 'object', 'additionalProperties': False}, on_invoke_tool=<function function_tool.<locals>._create_function_tool.<locals>._on_invoke_tool at 0x00000207853EB600>, strict_json_schema=True, is_enabled=True), FunctionTool(name='send_email', description='Send out an email with the given body to all customer service prospects', params_json_schema={'properties': {'body': {'title': 'Body', 'type': 'string'}}, 'required': ['body'], 'title': 'send_email_args', 'type': 'object', 'additionalProperties': False}, on_invoke_tool=<function function_tool.<locals>._create_function_tool.<locals>._on_invoke_tool at 0x0000020785283EC0>, strict_json_schema=True, is_enabled=True)], mcp_servers=[], mcp_config={}, input_guardrails=[], output_guardrails=[], output_type=None, hooks=None, tool_use_behavior='run_llm_again', reset_tool_choice=True), raw_item={'call_id': 'call_WlgVXAt9rZOqzFH34qYtpq4u', 'output': \"Subject: Elevate Your Motorcycle Experience with BroomBot\\n\\nDear [CEO's Name],\\n\\nI hope you’re well! At BroomBot, we’re transforming the motorcycle industry with innovative AI technology that enhances performance and safety.\\n\\nI’d love to discuss how BroomBot can benefit your business. Are you available for a brief call this week?\\n\\nBest,  \\n[Your Name]  \\nBroomBot\", 'type': 'function_call_output'}, output=\"Subject: Elevate Your Motorcycle Experience with BroomBot\\n\\nDear [CEO's Name],\\n\\nI hope you’re well! At BroomBot, we’re transforming the motorcycle industry with innovative AI technology that enhances performance and safety.\\n\\nI’d love to discuss how BroomBot can benefit your business. Are you available for a brief call this week?\\n\\nBest,  \\n[Your Name]  \\nBroomBot\", type='tool_call_output_item'), MessageOutputItem(agent=Agent(name='Customer Service Manager', instructions='\\nYou are a Customer Service Manager at BroomBot (Motorcycle Bot). Your goal is to find the single best cold sales email using the sales_agent tools.\\n\\nFollow these steps carefully:\\n1. Generate Drafts: Use all three sales_agent tools to generate three different email drafts. Do not proceed until all three drafts are ready.\\n\\n2. Evaluate and Select: Review the drafts and choose the single best email using your judgment of which one is most effective.\\n\\n3. Use the send_email tool to send the best email (and only the best email) to the user.\\n\\nCrucial Rules:\\n- You must use the sales agent tools to generate the drafts — do not write them yourself.\\n- You must send ONE email using the send_email tool — never more than one.\\n- Send email body must be in HTML format, do not include ```html but with <!DOCTYPE html> and exclude the head and css, div, etc. But you can add like ul, li, etc based on the email content.\\nFor example, like this:\\n<!DOCTYPE html> \\n<html lang=\\'en\\'> \\n<body> \\n<p>...</p> \\n</body> \\n</html>\"\\n', prompt=None, handoff_description=None, handoffs=[], model='gpt-4o-mini', model_settings=ModelSettings(temperature=None, top_p=None, frequency_penalty=None, presence_penalty=None, tool_choice=None, parallel_tool_calls=None, truncation=None, max_tokens=None, reasoning=None, metadata=None, store=None, include_usage=None, extra_query=None, extra_body=None, extra_headers=None, extra_args=None), tools=[FunctionTool(name='sales_agent1', description='Write a cold customer service email', params_json_schema={'properties': {'input': {'title': 'Input', 'type': 'string'}}, 'required': ['input'], 'title': 'sales_agent1_args', 'type': 'object', 'additionalProperties': False}, on_invoke_tool=<function function_tool.<locals>._create_function_tool.<locals>._on_invoke_tool at 0x000002078542F560>, strict_json_schema=True, is_enabled=True), FunctionTool(name='sales_agent2', description='Write a cold customer service email', params_json_schema={'properties': {'input': {'title': 'Input', 'type': 'string'}}, 'required': ['input'], 'title': 'sales_agent2_args', 'type': 'object', 'additionalProperties': False}, on_invoke_tool=<function function_tool.<locals>._create_function_tool.<locals>._on_invoke_tool at 0x000002078542F2E0>, strict_json_schema=True, is_enabled=True), FunctionTool(name='sales_agent3', description='Write a cold customer service email', params_json_schema={'properties': {'input': {'title': 'Input', 'type': 'string'}}, 'required': ['input'], 'title': 'sales_agent3_args', 'type': 'object', 'additionalProperties': False}, on_invoke_tool=<function function_tool.<locals>._create_function_tool.<locals>._on_invoke_tool at 0x00000207853EB600>, strict_json_schema=True, is_enabled=True), FunctionTool(name='send_email', description='Send out an email with the given body to all customer service prospects', params_json_schema={'properties': {'body': {'title': 'Body', 'type': 'string'}}, 'required': ['body'], 'title': 'send_email_args', 'type': 'object', 'additionalProperties': False}, on_invoke_tool=<function function_tool.<locals>._create_function_tool.<locals>._on_invoke_tool at 0x0000020785283EC0>, strict_json_schema=True, is_enabled=True)], mcp_servers=[], mcp_config={}, input_guardrails=[], output_guardrails=[], output_type=None, hooks=None, tool_use_behavior='run_llm_again', reset_tool_choice=True), raw_item=ResponseOutputMessage(id='msg_688b2ef3ceb48199bca64ba82695a98e0eb66c3eb24c047f', content=[ResponseOutputText(annotations=[], text=\"Here are the drafts generated:\\n\\n### Draft 1\\n**Subject:** Exploring Innovative Motorcycle Solutions for Your Business\\n\\n**Body:**\\n<!DOCTYPE html> \\n<html lang='en'> \\n<body> \\n<p>Dear [CEO's Name],</p> \\n\\n<p>I hope this message finds you well.</p> \\n\\n<p>At BroomBot, we are dedicated to providing cutting-edge motorcycle solutions tailored to enhance both performance and efficiency. Our offerings include advanced safety features and seamless tech integration, designed to meet the evolving needs of riders and businesses alike.</p> \\n\\n<p>I would appreciate the opportunity to discuss how our solutions could align with your goals and support the continued success of your business. Would you be available for a brief call this week to explore potential collaboration?</p> \\n\\n<p>Thank you for considering this opportunity. I look forward to your response.</p> \\n\\n<p>Best regards,<br>[Your Name] <br>BroomBot <br>[Your Contact Information] <br>[Your Position]</p> \\n</body> \\n</html>\\n\\n---\\n\\n### Draft 2\\n**Subject:** Ready to “Rev” Up Your Motorcycle Experience?\\n\\n**Body:**\\n<!DOCTYPE html> \\n<html lang='en'> \\n<body> \\n<p>Hey [CEO's Name],</p> \\n\\n<p>I hope this email finds you revving your engines! 🚀</p> \\n\\n<p>Are you tired of the same old ride? Why not shake things up with BroomBot—the only motorcycle bot that's smarter than your average bear and more reliable than your grandma’s spaghetti sauce?</p>\\n\\n<p>Our AI-powered motorcycle bots don’t just cruise—they boost efficiency and sprinkle a sprinkle of safety like confetti at a victory parade! 🎉 Imagine your team zipping around on machines so smooth, they’ll make a silk scarf jealous.</p>\\n\\n<p>Let’s chat about how we can turbocharge your motorcycle experience. When would be a good time to connect? I promise, no donuts involved (unless you want them!).</p>\\n\\n<p>Looking forward to some high-octane discussion!</p>\\n\\n<p>Best,<br>[Your Name] <br>Chief Fun Officer <br>BroomBot 🏍️✨</p> \\n</body> \\n</html>\\n\\n---\\n\\n### Draft 3\\n**Subject:** Elevate Your Motorcycle Experience with BroomBot\\n\\n**Body:**\\n<!DOCTYPE html> \\n<html lang='en'> \\n<body> \\n<p>Dear [CEO's Name],</p> \\n\\n<p>I hope you’re well! At BroomBot, we’re transforming the motorcycle industry with innovative AI technology that enhances performance and safety.</p>\\n\\n<p>I’d love to discuss how BroomBot can benefit your business. Are you available for a brief call this week?</p>\\n\\n<p>Best,<br>[Your Name] <br>BroomBot</p> \\n</body> \\n</html>\\n\\n---\\n\\n### Evaluation and Selection\\n- **Draft 1** is professional and straightforward, which is a good approach for a CEO.\\n- **Draft 2** is humorous and engaging but might come off as unprofessional depending on the CEO's personality and company culture.\\n- **Draft 3** is concise and gets to the point, but it lacks some engagement and warmth.\\n\\n**Best Choice:** Draft 1 is the most effective for a cold email aimed at a CEO, as it maintains professionalism while clearly highlighting the value BroomBot offers.\\n\\n### Sending the Selected Email\\nI will now send the first draft as it fits the criteria best.\", type='output_text', logprobs=[])], role='assistant', status='completed', type='message'), type='message_output_item'), ToolCallItem(agent=Agent(name='Customer Service Manager', instructions='\\nYou are a Customer Service Manager at BroomBot (Motorcycle Bot). Your goal is to find the single best cold sales email using the sales_agent tools.\\n\\nFollow these steps carefully:\\n1. Generate Drafts: Use all three sales_agent tools to generate three different email drafts. Do not proceed until all three drafts are ready.\\n\\n2. Evaluate and Select: Review the drafts and choose the single best email using your judgment of which one is most effective.\\n\\n3. Use the send_email tool to send the best email (and only the best email) to the user.\\n\\nCrucial Rules:\\n- You must use the sales agent tools to generate the drafts — do not write them yourself.\\n- You must send ONE email using the send_email tool — never more than one.\\n- Send email body must be in HTML format, do not include ```html but with <!DOCTYPE html> and exclude the head and css, div, etc. But you can add like ul, li, etc based on the email content.\\nFor example, like this:\\n<!DOCTYPE html> \\n<html lang=\\'en\\'> \\n<body> \\n<p>...</p> \\n</body> \\n</html>\"\\n', prompt=None, handoff_description=None, handoffs=[], model='gpt-4o-mini', model_settings=ModelSettings(temperature=None, top_p=None, frequency_penalty=None, presence_penalty=None, tool_choice=None, parallel_tool_calls=None, truncation=None, max_tokens=None, reasoning=None, metadata=None, store=None, include_usage=None, extra_query=None, extra_body=None, extra_headers=None, extra_args=None), tools=[FunctionTool(name='sales_agent1', description='Write a cold customer service email', params_json_schema={'properties': {'input': {'title': 'Input', 'type': 'string'}}, 'required': ['input'], 'title': 'sales_agent1_args', 'type': 'object', 'additionalProperties': False}, on_invoke_tool=<function function_tool.<locals>._create_function_tool.<locals>._on_invoke_tool at 0x000002078542F560>, strict_json_schema=True, is_enabled=True), FunctionTool(name='sales_agent2', description='Write a cold customer service email', params_json_schema={'properties': {'input': {'title': 'Input', 'type': 'string'}}, 'required': ['input'], 'title': 'sales_agent2_args', 'type': 'object', 'additionalProperties': False}, on_invoke_tool=<function function_tool.<locals>._create_function_tool.<locals>._on_invoke_tool at 0x000002078542F2E0>, strict_json_schema=True, is_enabled=True), FunctionTool(name='sales_agent3', description='Write a cold customer service email', params_json_schema={'properties': {'input': {'title': 'Input', 'type': 'string'}}, 'required': ['input'], 'title': 'sales_agent3_args', 'type': 'object', 'additionalProperties': False}, on_invoke_tool=<function function_tool.<locals>._create_function_tool.<locals>._on_invoke_tool at 0x00000207853EB600>, strict_json_schema=True, is_enabled=True), FunctionTool(name='send_email', description='Send out an email with the given body to all customer service prospects', params_json_schema={'properties': {'body': {'title': 'Body', 'type': 'string'}}, 'required': ['body'], 'title': 'send_email_args', 'type': 'object', 'additionalProperties': False}, on_invoke_tool=<function function_tool.<locals>._create_function_tool.<locals>._on_invoke_tool at 0x0000020785283EC0>, strict_json_schema=True, is_enabled=True)], mcp_servers=[], mcp_config={}, input_guardrails=[], output_guardrails=[], output_type=None, hooks=None, tool_use_behavior='run_llm_again', reset_tool_choice=True), raw_item=ResponseFunctionToolCall(arguments='{\"body\":\"<!DOCTYPE html> \\\\n<html lang=\\'en\\'> \\\\n<body> \\\\n<p>Dear CEO,</p> \\\\n<p>I hope this message finds you well.</p> \\\\n<p>At BroomBot, we are dedicated to providing cutting-edge motorcycle solutions tailored to enhance both performance and efficiency. Our offerings include advanced safety features and seamless tech integration, designed to meet the evolving needs of riders and businesses alike.</p> \\\\n<p>I would appreciate the opportunity to discuss how our solutions could align with your goals and support the continued success of your business. Would you be available for a brief call this week to explore potential collaboration?</p> \\\\n<p>Thank you for considering this opportunity. I look forward to your response.</p> \\\\n<p>Best regards,<br>[Your Name] <br>BroomBot <br>[Your Contact Information] <br>[Your Position]</p> \\\\n</body> \\\\n</html>\"}', call_id='call_s8Bxyy8wvjylZYKLHeO5QOnN', name='send_email', type='function_call', id='fc_688b2f01433881999ce915c252cd60cc0eb66c3eb24c047f', status='completed'), type='tool_call_item'), ToolCallOutputItem(agent=Agent(name='Customer Service Manager', instructions='\\nYou are a Customer Service Manager at BroomBot (Motorcycle Bot). Your goal is to find the single best cold sales email using the sales_agent tools.\\n\\nFollow these steps carefully:\\n1. Generate Drafts: Use all three sales_agent tools to generate three different email drafts. Do not proceed until all three drafts are ready.\\n\\n2. Evaluate and Select: Review the drafts and choose the single best email using your judgment of which one is most effective.\\n\\n3. Use the send_email tool to send the best email (and only the best email) to the user.\\n\\nCrucial Rules:\\n- You must use the sales agent tools to generate the drafts — do not write them yourself.\\n- You must send ONE email using the send_email tool — never more than one.\\n- Send email body must be in HTML format, do not include ```html but with <!DOCTYPE html> and exclude the head and css, div, etc. But you can add like ul, li, etc based on the email content.\\nFor example, like this:\\n<!DOCTYPE html> \\n<html lang=\\'en\\'> \\n<body> \\n<p>...</p> \\n</body> \\n</html>\"\\n', prompt=None, handoff_description=None, handoffs=[], model='gpt-4o-mini', model_settings=ModelSettings(temperature=None, top_p=None, frequency_penalty=None, presence_penalty=None, tool_choice=None, parallel_tool_calls=None, truncation=None, max_tokens=None, reasoning=None, metadata=None, store=None, include_usage=None, extra_query=None, extra_body=None, extra_headers=None, extra_args=None), tools=[FunctionTool(name='sales_agent1', description='Write a cold customer service email', params_json_schema={'properties': {'input': {'title': 'Input', 'type': 'string'}}, 'required': ['input'], 'title': 'sales_agent1_args', 'type': 'object', 'additionalProperties': False}, on_invoke_tool=<function function_tool.<locals>._create_function_tool.<locals>._on_invoke_tool at 0x000002078542F560>, strict_json_schema=True, is_enabled=True), FunctionTool(name='sales_agent2', description='Write a cold customer service email', params_json_schema={'properties': {'input': {'title': 'Input', 'type': 'string'}}, 'required': ['input'], 'title': 'sales_agent2_args', 'type': 'object', 'additionalProperties': False}, on_invoke_tool=<function function_tool.<locals>._create_function_tool.<locals>._on_invoke_tool at 0x000002078542F2E0>, strict_json_schema=True, is_enabled=True), FunctionTool(name='sales_agent3', description='Write a cold customer service email', params_json_schema={'properties': {'input': {'title': 'Input', 'type': 'string'}}, 'required': ['input'], 'title': 'sales_agent3_args', 'type': 'object', 'additionalProperties': False}, on_invoke_tool=<function function_tool.<locals>._create_function_tool.<locals>._on_invoke_tool at 0x00000207853EB600>, strict_json_schema=True, is_enabled=True), FunctionTool(name='send_email', description='Send out an email with the given body to all customer service prospects', params_json_schema={'properties': {'body': {'title': 'Body', 'type': 'string'}}, 'required': ['body'], 'title': 'send_email_args', 'type': 'object', 'additionalProperties': False}, on_invoke_tool=<function function_tool.<locals>._create_function_tool.<locals>._on_invoke_tool at 0x0000020785283EC0>, strict_json_schema=True, is_enabled=True)], mcp_servers=[], mcp_config={}, input_guardrails=[], output_guardrails=[], output_type=None, hooks=None, tool_use_behavior='run_llm_again', reset_tool_choice=True), raw_item={'call_id': 'call_s8Bxyy8wvjylZYKLHeO5QOnN', 'output': \"{'status': 'success'}\", 'type': 'function_call_output'}, output={'status': 'success'}, type='tool_call_output_item'), MessageOutputItem(agent=Agent(name='Customer Service Manager', instructions='\\nYou are a Customer Service Manager at BroomBot (Motorcycle Bot). Your goal is to find the single best cold sales email using the sales_agent tools.\\n\\nFollow these steps carefully:\\n1. Generate Drafts: Use all three sales_agent tools to generate three different email drafts. Do not proceed until all three drafts are ready.\\n\\n2. Evaluate and Select: Review the drafts and choose the single best email using your judgment of which one is most effective.\\n\\n3. Use the send_email tool to send the best email (and only the best email) to the user.\\n\\nCrucial Rules:\\n- You must use the sales agent tools to generate the drafts — do not write them yourself.\\n- You must send ONE email using the send_email tool — never more than one.\\n- Send email body must be in HTML format, do not include ```html but with <!DOCTYPE html> and exclude the head and css, div, etc. But you can add like ul, li, etc based on the email content.\\nFor example, like this:\\n<!DOCTYPE html> \\n<html lang=\\'en\\'> \\n<body> \\n<p>...</p> \\n</body> \\n</html>\"\\n', prompt=None, handoff_description=None, handoffs=[], model='gpt-4o-mini', model_settings=ModelSettings(temperature=None, top_p=None, frequency_penalty=None, presence_penalty=None, tool_choice=None, parallel_tool_calls=None, truncation=None, max_tokens=None, reasoning=None, metadata=None, store=None, include_usage=None, extra_query=None, extra_body=None, extra_headers=None, extra_args=None), tools=[FunctionTool(name='sales_agent1', description='Write a cold customer service email', params_json_schema={'properties': {'input': {'title': 'Input', 'type': 'string'}}, 'required': ['input'], 'title': 'sales_agent1_args', 'type': 'object', 'additionalProperties': False}, on_invoke_tool=<function function_tool.<locals>._create_function_tool.<locals>._on_invoke_tool at 0x000002078542F560>, strict_json_schema=True, is_enabled=True), FunctionTool(name='sales_agent2', description='Write a cold customer service email', params_json_schema={'properties': {'input': {'title': 'Input', 'type': 'string'}}, 'required': ['input'], 'title': 'sales_agent2_args', 'type': 'object', 'additionalProperties': False}, on_invoke_tool=<function function_tool.<locals>._create_function_tool.<locals>._on_invoke_tool at 0x000002078542F2E0>, strict_json_schema=True, is_enabled=True), FunctionTool(name='sales_agent3', description='Write a cold customer service email', params_json_schema={'properties': {'input': {'title': 'Input', 'type': 'string'}}, 'required': ['input'], 'title': 'sales_agent3_args', 'type': 'object', 'additionalProperties': False}, on_invoke_tool=<function function_tool.<locals>._create_function_tool.<locals>._on_invoke_tool at 0x00000207853EB600>, strict_json_schema=True, is_enabled=True), FunctionTool(name='send_email', description='Send out an email with the given body to all customer service prospects', params_json_schema={'properties': {'body': {'title': 'Body', 'type': 'string'}}, 'required': ['body'], 'title': 'send_email_args', 'type': 'object', 'additionalProperties': False}, on_invoke_tool=<function function_tool.<locals>._create_function_tool.<locals>._on_invoke_tool at 0x0000020785283EC0>, strict_json_schema=True, is_enabled=True)], mcp_servers=[], mcp_config={}, input_guardrails=[], output_guardrails=[], output_type=None, hooks=None, tool_use_behavior='run_llm_again', reset_tool_choice=True), raw_item=ResponseOutputMessage(id='msg_688b2f06c7d08199a13b7557e7a4e8e40eb66c3eb24c047f', content=[ResponseOutputText(annotations=[], text='The cold sales email has been successfully sent to the CEO! If you need any further assistance or have other emails to send, feel free to ask.', type='output_text', logprobs=[])], role='assistant', status='completed', type='message'), type='message_output_item')], raw_responses=[ModelResponse(output=[ResponseFunctionToolCall(arguments='{\"input\":\"Dear CEO, \\\\n\\\\nI hope this message finds you well. At BroomBot, we specialize in innovative motorcycle solutions that can enhance your experience. Our products are designed to optimize performance and efficiency, whether you\\'re looking for advanced safety features or the latest in tech integration. \\\\n\\\\nI\\'d love to discuss how we can support your goals and help your business succeed. Are you available for a brief call this week? \\\\n\\\\nBest regards,\\\\n[Your Name] \\\\nBroomBot\"}', call_id='call_rsQydOoRq3tCOEOUGVSNWH2D', name='sales_agent1', type='function_call', id='fc_688b2ee421ec81998542a85e8f1c73df0eb66c3eb24c047f', status='completed'), ResponseFunctionToolCall(arguments='{\"input\":\"Dear CEO, \\\\n\\\\nAre you looking to take your motorcycle experience to the next level? BroomBot offers cutting-edge motorcycle bots designed to improve efficiency and safety. Our technology has helped countless companies enhance their operations. \\\\n\\\\nLet\\'s chat about how we can help transform your motorcycle experience. When would be a good time for you? \\\\n\\\\nSincerely,\\\\n[Your Name] \\\\nBroomBot\"}', call_id='call_wAbUCsW57x3bJnd9Odxx5Wlo', name='sales_agent2', type='function_call', id='fc_688b2ee610408199a30cf53c647adc080eb66c3eb24c047f', status='completed'), ResponseFunctionToolCall(arguments='{\"input\":\"Dear CEO, \\\\n\\\\nI hope you\\'re having a great day! At BroomBot, we are revolutionizing the motorcycle industry with our state-of-the-art bot technology. Our solutions not only boost performance but also make riding safer and more enjoyable. \\\\n\\\\nI\\'d love to schedule a short call to explore how BroomBot can impact your business. What does your schedule look like? \\\\n\\\\nWarm regards,\\\\n[Your Name] \\\\nBroomBot\"}', call_id='call_WlgVXAt9rZOqzFH34qYtpq4u', name='sales_agent3', type='function_call', id='fc_688b2ee9db208199b3663fbcf0945a470eb66c3eb24c047f', status='completed')], usage=Usage(requests=1, input_tokens=396, input_tokens_details=InputTokensDetails(cached_tokens=0), output_tokens=336, output_tokens_details=OutputTokensDetails(reasoning_tokens=0), total_tokens=732), response_id='resp_688b2ee3228c819998f55eaec9eb306c0eb66c3eb24c047f'), ModelResponse(output=[ResponseOutputMessage(id='msg_688b2ef3ceb48199bca64ba82695a98e0eb66c3eb24c047f', content=[ResponseOutputText(annotations=[], text=\"Here are the drafts generated:\\n\\n### Draft 1\\n**Subject:** Exploring Innovative Motorcycle Solutions for Your Business\\n\\n**Body:**\\n<!DOCTYPE html> \\n<html lang='en'> \\n<body> \\n<p>Dear [CEO's Name],</p> \\n\\n<p>I hope this message finds you well.</p> \\n\\n<p>At BroomBot, we are dedicated to providing cutting-edge motorcycle solutions tailored to enhance both performance and efficiency. Our offerings include advanced safety features and seamless tech integration, designed to meet the evolving needs of riders and businesses alike.</p> \\n\\n<p>I would appreciate the opportunity to discuss how our solutions could align with your goals and support the continued success of your business. Would you be available for a brief call this week to explore potential collaboration?</p> \\n\\n<p>Thank you for considering this opportunity. I look forward to your response.</p> \\n\\n<p>Best regards,<br>[Your Name] <br>BroomBot <br>[Your Contact Information] <br>[Your Position]</p> \\n</body> \\n</html>\\n\\n---\\n\\n### Draft 2\\n**Subject:** Ready to “Rev” Up Your Motorcycle Experience?\\n\\n**Body:**\\n<!DOCTYPE html> \\n<html lang='en'> \\n<body> \\n<p>Hey [CEO's Name],</p> \\n\\n<p>I hope this email finds you revving your engines! 🚀</p> \\n\\n<p>Are you tired of the same old ride? Why not shake things up with BroomBot—the only motorcycle bot that's smarter than your average bear and more reliable than your grandma’s spaghetti sauce?</p>\\n\\n<p>Our AI-powered motorcycle bots don’t just cruise—they boost efficiency and sprinkle a sprinkle of safety like confetti at a victory parade! 🎉 Imagine your team zipping around on machines so smooth, they’ll make a silk scarf jealous.</p>\\n\\n<p>Let’s chat about how we can turbocharge your motorcycle experience. When would be a good time to connect? I promise, no donuts involved (unless you want them!).</p>\\n\\n<p>Looking forward to some high-octane discussion!</p>\\n\\n<p>Best,<br>[Your Name] <br>Chief Fun Officer <br>BroomBot 🏍️✨</p> \\n</body> \\n</html>\\n\\n---\\n\\n### Draft 3\\n**Subject:** Elevate Your Motorcycle Experience with BroomBot\\n\\n**Body:**\\n<!DOCTYPE html> \\n<html lang='en'> \\n<body> \\n<p>Dear [CEO's Name],</p> \\n\\n<p>I hope you’re well! At BroomBot, we’re transforming the motorcycle industry with innovative AI technology that enhances performance and safety.</p>\\n\\n<p>I’d love to discuss how BroomBot can benefit your business. Are you available for a brief call this week?</p>\\n\\n<p>Best,<br>[Your Name] <br>BroomBot</p> \\n</body> \\n</html>\\n\\n---\\n\\n### Evaluation and Selection\\n- **Draft 1** is professional and straightforward, which is a good approach for a CEO.\\n- **Draft 2** is humorous and engaging but might come off as unprofessional depending on the CEO's personality and company culture.\\n- **Draft 3** is concise and gets to the point, but it lacks some engagement and warmth.\\n\\n**Best Choice:** Draft 1 is the most effective for a cold email aimed at a CEO, as it maintains professionalism while clearly highlighting the value BroomBot offers.\\n\\n### Sending the Selected Email\\nI will now send the first draft as it fits the criteria best.\", type='output_text', logprobs=[])], role='assistant', status='completed', type='message'), ResponseFunctionToolCall(arguments='{\"body\":\"<!DOCTYPE html> \\\\n<html lang=\\'en\\'> \\\\n<body> \\\\n<p>Dear CEO,</p> \\\\n<p>I hope this message finds you well.</p> \\\\n<p>At BroomBot, we are dedicated to providing cutting-edge motorcycle solutions tailored to enhance both performance and efficiency. Our offerings include advanced safety features and seamless tech integration, designed to meet the evolving needs of riders and businesses alike.</p> \\\\n<p>I would appreciate the opportunity to discuss how our solutions could align with your goals and support the continued success of your business. Would you be available for a brief call this week to explore potential collaboration?</p> \\\\n<p>Thank you for considering this opportunity. I look forward to your response.</p> \\\\n<p>Best regards,<br>[Your Name] <br>BroomBot <br>[Your Contact Information] <br>[Your Position]</p> \\\\n</body> \\\\n</html>\"}', call_id='call_s8Bxyy8wvjylZYKLHeO5QOnN', name='send_email', type='function_call', id='fc_688b2f01433881999ce915c252cd60cc0eb66c3eb24c047f', status='completed')], usage=Usage(requests=1, input_tokens=1147, input_tokens_details=InputTokensDetails(cached_tokens=1832), output_tokens=934, output_tokens_details=OutputTokensDetails(reasoning_tokens=0), total_tokens=2081), response_id='resp_688b2ef365a48199bc3ddabe7cc592d70eb66c3eb24c047f'), ModelResponse(output=[ResponseOutputMessage(id='msg_688b2f06c7d08199a13b7557e7a4e8e40eb66c3eb24c047f', content=[ResponseOutputText(annotations=[], text='The cold sales email has been successfully sent to the CEO! If you need any further assistance or have other emails to send, feel free to ask.', type='output_text', logprobs=[])], role='assistant', status='completed', type='message')], usage=Usage(requests=1, input_tokens=2095, input_tokens_details=InputTokensDetails(cached_tokens=0), output_tokens=32, output_tokens_details=OutputTokensDetails(reasoning_tokens=0), total_tokens=2127), response_id='resp_688b2f065c6c8199a3f1f10bb60332fe0eb66c3eb24c047f')], final_output='The cold sales email has been successfully sent to the CEO! If you need any further assistance or have other emails to send, feel free to ask.', input_guardrail_results=[], output_guardrail_results=[], context_wrapper=RunContextWrapper(context=None, usage=Usage(requests=3, input_tokens=3638, input_tokens_details=InputTokensDetails(cached_tokens=1832), output_tokens=1302, output_tokens_details=OutputTokensDetails(reasoning_tokens=0), total_tokens=4940)), _last_agent=Agent(name='Customer Service Manager', instructions='\\nYou are a Customer Service Manager at BroomBot (Motorcycle Bot). Your goal is to find the single best cold sales email using the sales_agent tools.\\n\\nFollow these steps carefully:\\n1. Generate Drafts: Use all three sales_agent tools to generate three different email drafts. Do not proceed until all three drafts are ready.\\n\\n2. Evaluate and Select: Review the drafts and choose the single best email using your judgment of which one is most effective.\\n\\n3. Use the send_email tool to send the best email (and only the best email) to the user.\\n\\nCrucial Rules:\\n- You must use the sales agent tools to generate the drafts — do not write them yourself.\\n- You must send ONE email using the send_email tool — never more than one.\\n- Send email body must be in HTML format, do not include ```html but with <!DOCTYPE html> and exclude the head and css, div, etc. But you can add like ul, li, etc based on the email content.\\nFor example, like this:\\n<!DOCTYPE html> \\n<html lang=\\'en\\'> \\n<body> \\n<p>...</p> \\n</body> \\n</html>\"\\n', prompt=None, handoff_description=None, handoffs=[], model='gpt-4o-mini', model_settings=ModelSettings(temperature=None, top_p=None, frequency_penalty=None, presence_penalty=None, tool_choice=None, parallel_tool_calls=None, truncation=None, max_tokens=None, reasoning=None, metadata=None, store=None, include_usage=None, extra_query=None, extra_body=None, extra_headers=None, extra_args=None), tools=[FunctionTool(name='sales_agent1', description='Write a cold customer service email', params_json_schema={'properties': {'input': {'title': 'Input', 'type': 'string'}}, 'required': ['input'], 'title': 'sales_agent1_args', 'type': 'object', 'additionalProperties': False}, on_invoke_tool=<function function_tool.<locals>._create_function_tool.<locals>._on_invoke_tool at 0x000002078542F560>, strict_json_schema=True, is_enabled=True), FunctionTool(name='sales_agent2', description='Write a cold customer service email', params_json_schema={'properties': {'input': {'title': 'Input', 'type': 'string'}}, 'required': ['input'], 'title': 'sales_agent2_args', 'type': 'object', 'additionalProperties': False}, on_invoke_tool=<function function_tool.<locals>._create_function_tool.<locals>._on_invoke_tool at 0x000002078542F2E0>, strict_json_schema=True, is_enabled=True), FunctionTool(name='sales_agent3', description='Write a cold customer service email', params_json_schema={'properties': {'input': {'title': 'Input', 'type': 'string'}}, 'required': ['input'], 'title': 'sales_agent3_args', 'type': 'object', 'additionalProperties': False}, on_invoke_tool=<function function_tool.<locals>._create_function_tool.<locals>._on_invoke_tool at 0x00000207853EB600>, strict_json_schema=True, is_enabled=True), FunctionTool(name='send_email', description='Send out an email with the given body to all customer service prospects', params_json_schema={'properties': {'body': {'title': 'Body', 'type': 'string'}}, 'required': ['body'], 'title': 'send_email_args', 'type': 'object', 'additionalProperties': False}, on_invoke_tool=<function function_tool.<locals>._create_function_tool.<locals>._on_invoke_tool at 0x0000020785283EC0>, strict_json_schema=True, is_enabled=True)], mcp_servers=[], mcp_config={}, input_guardrails=[], output_guardrails=[], output_type=None, hooks=None, tool_use_behavior='run_llm_again', reset_tool_choice=True))"
      ]
     },
     "execution_count": 80,
     "metadata": {},
     "output_type": "execute_result"
    }
   ],
   "source": [
    "result"
   ]
  },
  {
   "cell_type": "markdown",
   "id": "7881f2b3",
   "metadata": {},
   "source": [
    "### Handoffs represent a way an agent can delegate to an agent, passing control to it\n",
    "\n",
    "Handoffs and Agents-as-tools are similar:\n",
    "\n",
    "In both cases, an Agent can collaborate with another Agent\n",
    "\n",
    "With tools, control passes back\n",
    "\n",
    "With handoffs, control passes across\n",
    "\n"
   ]
  },
  {
   "cell_type": "code",
   "execution_count": 81,
   "id": "def94aa7",
   "metadata": {},
   "outputs": [],
   "source": [
    "\n",
    "subject_instructions = \"You can write a subject for a cold customer service email. \\\n",
    "You are given a message and you need to write a subject for an email that is likely to get a response.\"\n",
    "\n",
    "html_instructions = \"You can convert a text email body to an HTML email body. \\\n",
    "You are given a text email body which might have some markdown \\\n",
    "and you need to convert it to an HTML email body with simple, clear, compelling layout and design.\"\n",
    "\n",
    "subject_writer = Agent(name=\"Email subject writer\", instructions=subject_instructions, model=\"gpt-4o-mini\")\n",
    "subject_tool = subject_writer.as_tool(tool_name=\"subject_writer\", tool_description=\"Write a subject for a cold customer service email\")\n",
    "\n",
    "html_converter = Agent(name=\"HTML email body converter\", instructions=html_instructions, model=\"gpt-4o-mini\")\n",
    "html_tool = html_converter.as_tool(tool_name=\"html_converter\",tool_description=\"Convert a text email body to an HTML email body\")\n"
   ]
  },
  {
   "cell_type": "code",
   "execution_count": 82,
   "id": "a8b2d514",
   "metadata": {},
   "outputs": [],
   "source": [
    "@function_tool\n",
    "def send_html_email(subject: str, html_body: str) -> Dict[str, str]:\n",
    "    \"\"\" Send out an email with the given subject and HTML body to all customer service prospects \"\"\"\n",
    "    email_to = 'randi.oktariarinanda@ai.astra.co.id'\n",
    "    email_from = 'elvino.dwisaputra@ai.astra.co.id'\n",
    "    ailabs.send_email(subject=subject, content=f\"\"\"{html_body}\"\"\", to=email_to, sender=email_from)\n",
    "    return {\"status\": \"success\"}"
   ]
  },
  {
   "cell_type": "code",
   "execution_count": 83,
   "id": "2df4c501",
   "metadata": {},
   "outputs": [],
   "source": [
    "tools = [subject_tool, html_tool, send_html_email]"
   ]
  },
  {
   "cell_type": "code",
   "execution_count": 84,
   "id": "a9e39442",
   "metadata": {},
   "outputs": [
    {
     "data": {
      "text/plain": [
       "[FunctionTool(name='subject_writer', description='Write a subject for a cold customer service email', params_json_schema={'properties': {'input': {'title': 'Input', 'type': 'string'}}, 'required': ['input'], 'title': 'subject_writer_args', 'type': 'object', 'additionalProperties': False}, on_invoke_tool=<function function_tool.<locals>._create_function_tool.<locals>._on_invoke_tool at 0x00000207854B1B20>, strict_json_schema=True, is_enabled=True),\n",
       " FunctionTool(name='html_converter', description='Convert a text email body to an HTML email body', params_json_schema={'properties': {'input': {'title': 'Input', 'type': 'string'}}, 'required': ['input'], 'title': 'html_converter_args', 'type': 'object', 'additionalProperties': False}, on_invoke_tool=<function function_tool.<locals>._create_function_tool.<locals>._on_invoke_tool at 0x00000207854B20C0>, strict_json_schema=True, is_enabled=True),\n",
       " FunctionTool(name='send_html_email', description='Send out an email with the given subject and HTML body to all customer service prospects', params_json_schema={'properties': {'subject': {'title': 'Subject', 'type': 'string'}, 'html_body': {'title': 'Html Body', 'type': 'string'}}, 'required': ['subject', 'html_body'], 'title': 'send_html_email_args', 'type': 'object', 'additionalProperties': False}, on_invoke_tool=<function function_tool.<locals>._create_function_tool.<locals>._on_invoke_tool at 0x00000207853E9940>, strict_json_schema=True, is_enabled=True)]"
      ]
     },
     "execution_count": 84,
     "metadata": {},
     "output_type": "execute_result"
    }
   ],
   "source": [
    "tools"
   ]
  },
  {
   "cell_type": "code",
   "execution_count": 85,
   "id": "e9160a92",
   "metadata": {},
   "outputs": [],
   "source": [
    "instructions =\"You are an email formatter and sender. You receive the body of an email to be sent. \\\n",
    "You first use the subject_writer tool to write a subject for the email, then use the html_converter tool to convert the body to HTML. \\\n",
    "Finally, you use the send_html_email tool to send the email with the subject and HTML body.\"\n",
    "\n",
    "\n",
    "emailer_agent = Agent(\n",
    "    name=\"Email Manager\",\n",
    "    instructions=instructions,\n",
    "    tools=tools,\n",
    "    model=\"gpt-4o-mini\",\n",
    "    handoff_description=\"Convert an email to HTML and send it\")\n"
   ]
  },
  {
   "cell_type": "code",
   "execution_count": 86,
   "id": "af0ea983",
   "metadata": {},
   "outputs": [
    {
     "name": "stdout",
     "output_type": "stream",
     "text": [
      "[FunctionTool(name='sales_agent1', description='Write a cold customer service email', params_json_schema={'properties': {'input': {'title': 'Input', 'type': 'string'}}, 'required': ['input'], 'title': 'sales_agent1_args', 'type': 'object', 'additionalProperties': False}, on_invoke_tool=<function function_tool.<locals>._create_function_tool.<locals>._on_invoke_tool at 0x000002078542F560>, strict_json_schema=True, is_enabled=True), FunctionTool(name='sales_agent2', description='Write a cold customer service email', params_json_schema={'properties': {'input': {'title': 'Input', 'type': 'string'}}, 'required': ['input'], 'title': 'sales_agent2_args', 'type': 'object', 'additionalProperties': False}, on_invoke_tool=<function function_tool.<locals>._create_function_tool.<locals>._on_invoke_tool at 0x000002078542F2E0>, strict_json_schema=True, is_enabled=True), FunctionTool(name='sales_agent3', description='Write a cold customer service email', params_json_schema={'properties': {'input': {'title': 'Input', 'type': 'string'}}, 'required': ['input'], 'title': 'sales_agent3_args', 'type': 'object', 'additionalProperties': False}, on_invoke_tool=<function function_tool.<locals>._create_function_tool.<locals>._on_invoke_tool at 0x00000207853EB600>, strict_json_schema=True, is_enabled=True)]\n",
      "[Agent(name='Email Manager', instructions='You are an email formatter and sender. You receive the body of an email to be sent. You first use the subject_writer tool to write a subject for the email, then use the html_converter tool to convert the body to HTML. Finally, you use the send_html_email tool to send the email with the subject and HTML body.', prompt=None, handoff_description='Convert an email to HTML and send it', handoffs=[], model='gpt-4o-mini', model_settings=ModelSettings(temperature=None, top_p=None, frequency_penalty=None, presence_penalty=None, tool_choice=None, parallel_tool_calls=None, truncation=None, max_tokens=None, reasoning=None, metadata=None, store=None, include_usage=None, extra_query=None, extra_body=None, extra_headers=None, extra_args=None), tools=[FunctionTool(name='subject_writer', description='Write a subject for a cold customer service email', params_json_schema={'properties': {'input': {'title': 'Input', 'type': 'string'}}, 'required': ['input'], 'title': 'subject_writer_args', 'type': 'object', 'additionalProperties': False}, on_invoke_tool=<function function_tool.<locals>._create_function_tool.<locals>._on_invoke_tool at 0x00000207854B1B20>, strict_json_schema=True, is_enabled=True), FunctionTool(name='html_converter', description='Convert a text email body to an HTML email body', params_json_schema={'properties': {'input': {'title': 'Input', 'type': 'string'}}, 'required': ['input'], 'title': 'html_converter_args', 'type': 'object', 'additionalProperties': False}, on_invoke_tool=<function function_tool.<locals>._create_function_tool.<locals>._on_invoke_tool at 0x00000207854B20C0>, strict_json_schema=True, is_enabled=True), FunctionTool(name='send_html_email', description='Send out an email with the given subject and HTML body to all customer service prospects', params_json_schema={'properties': {'subject': {'title': 'Subject', 'type': 'string'}, 'html_body': {'title': 'Html Body', 'type': 'string'}}, 'required': ['subject', 'html_body'], 'title': 'send_html_email_args', 'type': 'object', 'additionalProperties': False}, on_invoke_tool=<function function_tool.<locals>._create_function_tool.<locals>._on_invoke_tool at 0x00000207853E9940>, strict_json_schema=True, is_enabled=True)], mcp_servers=[], mcp_config={}, input_guardrails=[], output_guardrails=[], output_type=None, hooks=None, tool_use_behavior='run_llm_again', reset_tool_choice=True)]\n"
     ]
    }
   ],
   "source": [
    "tools = [tool1, tool2, tool3]\n",
    "handoffs = [emailer_agent]\n",
    "print(tools)\n",
    "print(handoffs)"
   ]
  },
  {
   "cell_type": "code",
   "execution_count": null,
   "id": "e1b287d4",
   "metadata": {},
   "outputs": [],
   "source": [
    "# Improved instructions thanks to student Guillermo F.\n",
    "\n",
    "customer_service_manager_instructions = \"\"\"\n",
    "You are a Customer Service Manager at BroomBot (Motorcycle Bot). Your goal is to find the single best cold customer service email using the customer_service_agent tools.\n",
    " \n",
    "Follow these steps carefully:\n",
    "1. Generate Drafts: Use all three customer_service_agent tools to generate three different email drafts. Do not proceed until all three drafts are ready.\n",
    " \n",
    "2. Evaluate and Select: Review the drafts and choose the single best email using your judgment of which one is most effective.\n",
    "You can use the tools multiple times if you're not satisfied with the results from the first try.\n",
    " \n",
    "3. Handoff for Sending: Pass ONLY the winning email draft to the 'Email Manager' agent. The Email Manager will take care of formatting and sending.\n",
    " \n",
    "Crucial Rules:\n",
    "- You must use the customer service agent tools to generate the drafts — do not write them yourself.\n",
    "- You must hand off exactly ONE email to the Email Manager — never more than one.\n",
    "\"\"\"\n",
    "\n",
    "\n",
    "customer_service_manager = Agent(\n",
    "    name=\"Customer Service Manager\",\n",
    "    instructions=customer_service_manager_instructions,\n",
    "    tools=tools,\n",
    "    handoffs=handoffs,\n",
    "    model=\"gpt-4o-mini\")\n",
    "\n",
    "message = \"Send out a cold customer service email addressed to Dear CEO from Alice\"\n",
    "\n",
    "with trace(\"Automated SDR\"):\n",
    "    result = await Runner.run(customer_service_manager, message)"
   ]
  }
 ],
 "metadata": {
  "kernelspec": {
   "display_name": "agents",
   "language": "python",
   "name": "python3"
  },
  "language_info": {
   "codemirror_mode": {
    "name": "ipython",
    "version": 3
   },
   "file_extension": ".py",
   "mimetype": "text/x-python",
   "name": "python",
   "nbconvert_exporter": "python",
   "pygments_lexer": "ipython3",
   "version": "3.12.11"
  }
 },
 "nbformat": 4,
 "nbformat_minor": 5
}
