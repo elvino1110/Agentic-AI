{
 "cells": [
  {
   "cell_type": "code",
   "execution_count": 5,
   "id": "5cca4c88",
   "metadata": {},
   "outputs": [],
   "source": [
    "import AIRPALibrary\n",
    "from dotenv import load_dotenv"
   ]
  },
  {
   "cell_type": "code",
   "execution_count": 6,
   "id": "1356f812",
   "metadata": {},
   "outputs": [
    {
     "data": {
      "text/plain": [
       "True"
      ]
     },
     "execution_count": 6,
     "metadata": {},
     "output_type": "execute_result"
    }
   ],
   "source": [
    "ailabs = AIRPALibrary.AIRPALibrary()\n",
    "load_dotenv()"
   ]
  },
  {
   "cell_type": "code",
   "execution_count": 7,
   "id": "be72c1b2",
   "metadata": {},
   "outputs": [],
   "source": [
    "html = '''<!DOCTYPE html>\n",
    "<html lang=\"en\">\n",
    "<body>\n",
    "    <p>Daily News 16 Juni 2025</p>\n",
    "    <p>\n",
    "    Bisnis Indonesia Premium edition highlights Prajogo Pangestu's wealth increase, positioning him as the second richest in Indonesia. The report also addresses the emergence of AI startups in Southeast Asia challenging the dominance of Silicon Valley giants. Furthermore, it revisits William Soeryadjaya's efforts to save Bank Summa with Mu'min Ali Gunawan's assistance. The report also mentions the shareholders of BUMI, which include Grup Salim and BlackRock. Finally, the automotive industry faces challenges with sales nearing pandemic lows, potentially leading to layoffs.\n",
    "    </p>\n",
    "    <p>Date: June 12, 2025</p>\n",
    "    <p><a href=\"https://market.bisnis.com/read/20250612/7/1884592/premium-wrap-up-harta-prajogo-pangestu-startup-ai-hingga-prospek-saham-bumi\">Source</a></p>\n",
    "</body>\n",
    "</html>'''"
   ]
  },
  {
   "cell_type": "code",
   "execution_count": null,
   "id": "d339120e",
   "metadata": {},
   "outputs": [],
   "source": [
    "test = \"\"\"\n",
    "<!DOCTYPE html>\n",
    "<html lang='en'>\n",
    "<body>\n",
    "    <p>Subject: Rev Up Your Delivery Game with BroomBot!</p> \n",
    "    <p>Dear [CEO's Name],</p> \n",
    "    <p>I hope this message finds you zooming through your day (safely, of course)! 🚀</p> \n",
    "    <p>As a leader in your field, you already know that the right transportation can make all the difference—especially when it comes to delivering smiles (and products) to your customers!</p> \n",
    "    <p>That's where BroomBot comes in! Our innovative motorcycle delivery services are so cool, they might just make your competitors green with envy. Imagine slicing those delivery times in half while putting a big grin on your customers' faces. Sounds like a win-win, right?</p> \n",
    "    <p>Our tech is like the <strong>Batmobile</strong> of motorcycles—sleek, efficient, and fully equipped to handle the demands of modern business. Plus, who doesn’t want to feel like a superhero every time they deliver?</p> \n",
    "    <p>I’d love to hop on a call (or a bike) to chat about how we can collaborate and rev up your delivery game. Let’s put the pedal to the metal!</p> \n",
    "    <p>Warm regards,</p> \n",
    "    <p>[Your Name] <br> <strong>BroomBot Team</strong>\n",
    "    </p> \n",
    "</body> \n",
    "</html>\n",
    "\"\"\""
   ]
  },
  {
   "cell_type": "code",
   "execution_count": 9,
   "id": "0983e1c0",
   "metadata": {},
   "outputs": [],
   "source": [
    "email_to = ['tazkia.ghifara@ai.astra.co.id']\n",
    "email_to = list(set(email_to))\n",
    "email_from = 'elvino.dwisaputra@ai.astra.co.id'\n",
    "subject = 'Test'"
   ]
  },
  {
   "cell_type": "code",
   "execution_count": 10,
   "id": "1bfc27ab",
   "metadata": {},
   "outputs": [
    {
     "name": "stdout",
     "output_type": "stream",
     "text": [
      "{\n",
      "  \"message\": \"Email berhasil dikirim!\",\n",
      "  \"success\": true\n",
      "}\n",
      "\n"
     ]
    }
   ],
   "source": [
    "ailabs.send_email(subject=subject, content=test, to=email_to, sender=email_from)"
   ]
  },
  {
   "cell_type": "code",
   "execution_count": null,
   "id": "cd492a39",
   "metadata": {},
   "outputs": [],
   "source": []
  }
 ],
 "metadata": {
  "kernelspec": {
   "display_name": "agents",
   "language": "python",
   "name": "python3"
  },
  "language_info": {
   "codemirror_mode": {
    "name": "ipython",
    "version": 3
   },
   "file_extension": ".py",
   "mimetype": "text/x-python",
   "name": "python",
   "nbconvert_exporter": "python",
   "pygments_lexer": "ipython3",
   "version": "3.12.11"
  }
 },
 "nbformat": 4,
 "nbformat_minor": 5
}
