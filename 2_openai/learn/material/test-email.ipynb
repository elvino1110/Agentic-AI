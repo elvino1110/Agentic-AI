{
 "cells": [
  {
   "cell_type": "code",
   "execution_count": 1,
   "id": "a307d2b7",
   "metadata": {},
   "outputs": [],
   "source": [
    "import AIRPALibrary\n",
    "ailabs = AIRPALibrary.AIRPALibrary()"
   ]
  },
  {
   "cell_type": "code",
   "execution_count": 2,
   "id": "4af86727",
   "metadata": {},
   "outputs": [],
   "source": [
    "email_to = \"randi.oktariarinanda@ai.astra.co.id\"\n",
    "email_from = \"elvino.dwisaputra@ai.astra.co.id\"\n",
    "html = f\"\"\"<!DOCTYPE html>\n",
    "<html>\n",
    "  <head>\n",
    "    <meta charset=\"UTF-8\">\n",
    "    <title>Email Test</title>\n",
    "  </head>\n",
    "  <body style=\"font-family: Arial, sans-serif; background-color: #f5f5f5; padding: 20px;\">\n",
    "    <table width=\"100%\" cellpadding=\"0\" cellspacing=\"0\" border=\"0\" style=\"max-width:600px; margin:auto; background:#ffffff; border-radius:8px; box-shadow:0 2px 6px rgba(0,0,0,0.1);\">\n",
    "      <tr>\n",
    "        <td style=\"padding:20px; text-align:center;\">\n",
    "          <h2 style=\"color:#333;\">Test</h2>\n",
    "          <p style=\"color:#555;\">Ini hanya email percobaan.</p>\n",
    "        </td>\n",
    "      </tr>\n",
    "    </table>\n",
    "  </body>\n",
    "</html>\"\"\"\n",
    " "
   ]
  },
  {
   "cell_type": "code",
   "execution_count": 3,
   "id": "2d9eafdc",
   "metadata": {},
   "outputs": [
    {
     "name": "stdout",
     "output_type": "stream",
     "text": [
      "{\n",
      "  \"message\": \"Email berhasil dikirim!\",\n",
      "  \"success\": true\n",
      "}\n",
      "\n"
     ]
    }
   ],
   "source": [
    "ailabs.send_email(subject=\"test\", content=html, to=email_to, sender=email_from)\n"
   ]
  },
  {
   "cell_type": "code",
   "execution_count": null,
   "id": "f180f192",
   "metadata": {},
   "outputs": [],
   "source": []
  }
 ],
 "metadata": {
  "kernelspec": {
   "display_name": "agents",
   "language": "python",
   "name": "python3"
  },
  "language_info": {
   "codemirror_mode": {
    "name": "ipython",
    "version": 3
   },
   "file_extension": ".py",
   "mimetype": "text/x-python",
   "name": "python",
   "nbconvert_exporter": "python",
   "pygments_lexer": "ipython3",
   "version": "3.12.3"
  }
 },
 "nbformat": 4,
 "nbformat_minor": 5
}
