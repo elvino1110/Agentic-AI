{
 "cells": [
  {
   "cell_type": "code",
   "execution_count": 1,
   "id": "45aa8c5b",
   "metadata": {},
   "outputs": [
    {
     "data": {
      "text/plain": [
       "True"
      ]
     },
     "execution_count": 1,
     "metadata": {},
     "output_type": "execute_result"
    }
   ],
   "source": [
    "from dotenv import load_dotenv\n",
    "load_dotenv(override=True)"
   ]
  },
  {
   "cell_type": "markdown",
   "id": "a62607f7",
   "metadata": {},
   "source": [
    "### First concept: the Model"
   ]
  },
  {
   "cell_type": "code",
   "execution_count": 2,
   "id": "3cb5b9a7",
   "metadata": {},
   "outputs": [],
   "source": [
    "from autogen_ext.models.openai import OpenAIChatCompletionClient\n",
    "\n",
    "model_client = OpenAIChatCompletionClient(model=\"gpt-4o-mini\") "
   ]
  },
  {
   "cell_type": "markdown",
   "id": "0eff3bd3",
   "metadata": {},
   "source": [
    "### Second concept: The Message"
   ]
  },
  {
   "cell_type": "code",
   "execution_count": 3,
   "id": "0cc9051c",
   "metadata": {},
   "outputs": [
    {
     "data": {
      "text/plain": [
       "TextMessage(source='user', models_usage=None, metadata={}, created_at=datetime.datetime(2025, 9, 1, 7, 31, 42, 885621, tzinfo=datetime.timezone.utc), content='I want to play stardew valley', type='TextMessage')"
      ]
     },
     "execution_count": 3,
     "metadata": {},
     "output_type": "execute_result"
    }
   ],
   "source": [
    "from autogen_agentchat.messages import TextMessage\n",
    "\n",
    "messages = TextMessage(content=\"I want to play stardew valley\", source=\"user\")\n",
    "messages"
   ]
  },
  {
   "cell_type": "markdown",
   "id": "3f2646b5",
   "metadata": {},
   "source": [
    "### Third concept: The Agent"
   ]
  },
  {
   "cell_type": "code",
   "execution_count": 9,
   "id": "cd1686e4",
   "metadata": {},
   "outputs": [],
   "source": [
    "from autogen_agentchat.agents import AssistantAgent\n",
    "\n",
    "agent = AssistantAgent(\n",
    "    name=\"game_agent\",\n",
    "    model_client=model_client,\n",
    "    system_message=\"You are a helpful assistant for a game. You give short, update, informative, and humorous answers\",\n",
    "    model_client_stream=True\n",
    ")"
   ]
  },
  {
   "cell_type": "markdown",
   "id": "ca12145f",
   "metadata": {},
   "source": [
    "### Put it all together with on_messages"
   ]
  },
  {
   "cell_type": "code",
   "execution_count": 10,
   "id": "1d1aea01",
   "metadata": {},
   "outputs": [
    {
     "data": {
      "text/plain": [
       "\"Great choice! Stardew Valley is like a warm hug from a pixelated farm! Just remember: crops don't water themselves, and those chickens might judge your farming skills. Happy farming! 🌾🐔\""
      ]
     },
     "execution_count": 10,
     "metadata": {},
     "output_type": "execute_result"
    }
   ],
   "source": [
    "from autogen_core import CancellationToken\n",
    "\n",
    "response = await agent.on_messages([messages], cancellation_token=CancellationToken())\n",
    "response.chat_message.content"
   ]
  },
  {
   "cell_type": "markdown",
   "id": "fe1149cd",
   "metadata": {},
   "source": [
    "### Let's make a local database of ticket prices"
   ]
  },
  {
   "cell_type": "code",
   "execution_count": 33,
   "id": "585ac776",
   "metadata": {},
   "outputs": [],
   "source": [
    "import os \n",
    "import sqlite3\n",
    "\n",
    "# Delete existing database file if it exists\n",
    "if os.path.exists(\"games.db\"):\n",
    "    os.remove(\"games.db\")\n",
    "\n",
    "# Create database and table\n",
    "conn = sqlite3.connect(\"games.db\")\n",
    "c = conn.cursor()\n",
    "c.execute(\"CREATE TABLE games (name TEXT PRIMARY KEY, price REAL)\")\n",
    "conn.commit()\n",
    "conn.close()"
   ]
  },
  {
   "cell_type": "code",
   "execution_count": 34,
   "id": "07a796b2",
   "metadata": {},
   "outputs": [],
   "source": [
    "# Populate database\n",
    "\n",
    "def save_game_price(name, price):\n",
    "    conn = sqlite3.connect(\"games.db\")\n",
    "    c = conn.cursor()\n",
    "    c.execute(\"REPLACE INTO games (name, price) VALUES (?, ?)\", (name.lower(), price))\n",
    "    conn.commit()\n",
    "    conn.close()\n",
    "\n",
    "# Some Games\n",
    "save_game_price(\"Stardew Valley\", 150)\n",
    "save_game_price(\"PUBG: BATTLEGROUNDS\", 0)\n",
    "save_game_price(\"METAL GEAR SOLID Δ: SNAKE EATER\", 67)\n",
    "save_game_price(\"Red Dead Redemption 2\", 15)\n",
    "save_game_price(\"Indiana Jones and the Great Circle\", 67)"
   ]
  },
  {
   "cell_type": "code",
   "execution_count": 35,
   "id": "268a1024",
   "metadata": {},
   "outputs": [],
   "source": [
    "# Method to get price for city\n",
    "def get_game_price(name: str) -> float | None:\n",
    "    \"\"\" Get the game price to buy and play the game\"\"\"\n",
    "    \n",
    "    conn = sqlite3.connect(\"games.db\")\n",
    "    c = conn.cursor()\n",
    "    c.execute(\"SELECT price FROM games WHERE name = ?\", (name.lower(),))\n",
    "    result = c.fetchone()\n",
    "    conn.close()\n",
    "    return result[0] if result else None"
   ]
  },
  {
   "cell_type": "code",
   "execution_count": 36,
   "id": "086e3da0",
   "metadata": {},
   "outputs": [
    {
     "data": {
      "text/plain": [
       "150.0"
      ]
     },
     "execution_count": 36,
     "metadata": {},
     "output_type": "execute_result"
    }
   ],
   "source": [
    "get_game_price(\"Stardew Valley\")"
   ]
  },
  {
   "cell_type": "code",
   "execution_count": 37,
   "id": "b4964f47",
   "metadata": {},
   "outputs": [],
   "source": [
    "from autogen_agentchat.agents import AssistantAgent\n",
    "\n",
    "smart_agent = AssistantAgent(\n",
    "    name=\"smart_game_agent\",\n",
    "    model_client=model_client,\n",
    "    system_message=\"You are a helpful assistant for a game. You give short, informative, humorouse answer, including the price of the game\",\n",
    "    model_client_stream=True,\n",
    "    tools=[get_game_price],\n",
    "    reflect_on_tool_use=True # We don't want just return the tool result but able to take continue process after tool has returned\n",
    ")"
   ]
  },
  {
   "cell_type": "code",
   "execution_count": 38,
   "id": "69463cc8",
   "metadata": {},
   "outputs": [
    {
     "name": "stdout",
     "output_type": "stream",
     "text": [
      "[FunctionCall(id='call_sfsrLsfpwjjc1IadsOe0ZYvU', arguments='{\"name\":\"Stardew Valley\"}', name='get_game_price')]\n",
      "[FunctionExecutionResult(content='150.0', name='get_game_price', call_id='call_sfsrLsfpwjjc1IadsOe0ZYvU', is_error=False)]\n"
     ]
    },
    {
     "data": {
      "text/plain": [
       "\"Great choice! Stardew Valley is the perfect escape to a rural paradise where you can farm, mine, and make friends (or date your favorite pixelated characters). It’s currently priced at $150. Just remember to water those crops or they'll turn into sad little brown squares! 🌾😊\""
      ]
     },
     "execution_count": 38,
     "metadata": {},
     "output_type": "execute_result"
    }
   ],
   "source": [
    "response = await smart_agent.on_messages([messages], cancellation_token=CancellationToken())\n",
    "\n",
    "for inner_message in response.inner_messages:\n",
    "    print(inner_message.content)\n",
    "\n",
    "response.chat_message.content"
   ]
  },
  {
   "cell_type": "code",
   "execution_count": null,
   "id": "c5d80259",
   "metadata": {},
   "outputs": [],
   "source": []
  }
 ],
 "metadata": {
  "kernelspec": {
   "display_name": "agents",
   "language": "python",
   "name": "python3"
  },
  "language_info": {
   "codemirror_mode": {
    "name": "ipython",
    "version": 3
   },
   "file_extension": ".py",
   "mimetype": "text/x-python",
   "name": "python",
   "nbconvert_exporter": "python",
   "pygments_lexer": "ipython3",
   "version": "3.12.3"
  }
 },
 "nbformat": 4,
 "nbformat_minor": 5
}
