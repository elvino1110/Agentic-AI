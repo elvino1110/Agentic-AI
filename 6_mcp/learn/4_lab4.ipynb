{
 "cells": [
  {
   "cell_type": "code",
   "execution_count": 1,
   "id": "3d98963f",
   "metadata": {},
   "outputs": [
    {
     "data": {
      "text/plain": [
       "True"
      ]
     },
     "execution_count": 1,
     "metadata": {},
     "output_type": "execute_result"
    }
   ],
   "source": [
    "import os\n",
    "from dotenv import load_dotenv\n",
    "from agents import Agent, Runner, trace, Tool\n",
    "from agents.mcp import MCPServerStdio\n",
    "from IPython.display import Markdown, display\n",
    "from datetime import datetime\n",
    "from accounts_client import read_accounts_resource, read_strategy_resource\n",
    "from accounts import Account\n",
    "\n",
    "load_dotenv(override=True)"
   ]
  },
  {
   "cell_type": "markdown",
   "id": "dbab4584",
   "metadata": {},
   "source": [
    "### Let's start by gathering the MCP params for our trader"
   ]
  },
  {
   "cell_type": "code",
   "execution_count": 2,
   "id": "6f75674a",
   "metadata": {},
   "outputs": [
    {
     "name": "stdout",
     "output_type": "stream",
     "text": [
      "False\n",
      "False\n"
     ]
    }
   ],
   "source": [
    "polygon_api_key = os.getenv(\"POLYGON_API_KEY\")\n",
    "polygon_plan = os.getenv(\"POLYGON_PLAN\")\n",
    "\n",
    "is_paid_polygon = polygon_plan == \"paid\"\n",
    "is_realtime_polygon = polygon_plan == \"realtime\"\n",
    "\n",
    "print(is_paid_polygon)\n",
    "print(is_realtime_polygon)"
   ]
  },
  {
   "cell_type": "code",
   "execution_count": 3,
   "id": "8fcc4a7a",
   "metadata": {},
   "outputs": [],
   "source": [
    "if is_paid_polygon or is_realtime_polygon:\n",
    "    market_mcp = {\"command\": \"uvx\",\"args\": [\"--from\", \"git+https://github.com/polygon-io/mcp_polygon@master\", \"mcp_polygon\"], \"env\": {\"POLYGON_API_KEY\": polygon_api_key}}\n",
    "else:\n",
    "    market_mcp = ({\"command\": \"uv\", \"args\": [\"run\", \"market_server.py\"]})\n",
    "\n",
    "trader_mcp_server_params = [\n",
    "    {\"command\": \"uv\", \"args\": [\"run\", \"accounts_server.py\"]},\n",
    "    {\"command\": \"uv\", \"args\": [\"run\", \"push_server.py\"]},\n",
    "    market_mcp\n",
    "]"
   ]
  },
  {
   "cell_type": "markdown",
   "id": "e35e0ae0",
   "metadata": {},
   "source": [
    "### And now for our researcher"
   ]
  },
  {
   "cell_type": "code",
   "execution_count": 4,
   "id": "eda196a2",
   "metadata": {},
   "outputs": [],
   "source": [
    "researcher_mcp_server_params = [\n",
    "    {\"command\": \"uvx\", \"args\": [\"mcp-server-fetch\"]},\n",
    "]"
   ]
  },
  {
   "cell_type": "markdown",
   "id": "bba39236",
   "metadata": {},
   "source": [
    "### Now create the MCPServerStdio for each"
   ]
  },
  {
   "cell_type": "code",
   "execution_count": 5,
   "id": "8fb4a20c",
   "metadata": {},
   "outputs": [],
   "source": [
    "researcher_mcp_servers = [MCPServerStdio(params, client_session_timeout_seconds=30) for params in researcher_mcp_server_params]\n",
    "trader_mcp_servers = [MCPServerStdio(params, client_session_timeout_seconds=30) for params in trader_mcp_server_params]\n",
    "mcp_servers = trader_mcp_servers + researcher_mcp_servers"
   ]
  },
  {
   "cell_type": "code",
   "execution_count": 6,
   "id": "140dcab7",
   "metadata": {},
   "outputs": [
    {
     "data": {
      "text/plain": [
       "[<agents.mcp.server.MCPServerStdio at 0x7f1baf2c64b0>,\n",
       " <agents.mcp.server.MCPServerStdio at 0x7f1baf2c65a0>,\n",
       " <agents.mcp.server.MCPServerStdio at 0x7f1baf2c6660>,\n",
       " <agents.mcp.server.MCPServerStdio at 0x7f1baf2c65d0>]"
      ]
     },
     "execution_count": 6,
     "metadata": {},
     "output_type": "execute_result"
    }
   ],
   "source": [
    "mcp_servers"
   ]
  },
  {
   "cell_type": "markdown",
   "id": "6eb6ab12",
   "metadata": {},
   "source": [
    "### Now let's make a Researcher Agent to do market research\n",
    "\n",
    "And turn it into a tool - remember how this works for OpenAI Agents SDK, and the difference with handoffs?"
   ]
  },
  {
   "cell_type": "code",
   "execution_count": 7,
   "id": "a1797dc7",
   "metadata": {},
   "outputs": [],
   "source": [
    "async def get_researcher(mcp_servers) -> Agent:\n",
    "    instructions = f\"\"\"You are a financial researcher. You are able to search the web for interesting financial news,\n",
    "look for possible trading opportunities, and help with research.\n",
    "Based on the request, you carry out necessary research and respond with your findings.\n",
    "Take time to make multiple searches to get a comprehensive overview, and then summarize your findings.\n",
    "If there isn't a specific request, then just respond with investment opportunities based on searching latest news.\n",
    "The current datetime is {datetime.now().strftime(\"%Y-%m-%d %H:%M:%S\")}\n",
    "\"\"\"\n",
    "    researcher = Agent(\n",
    "        name=\"Researcher\",\n",
    "        instructions=instructions,\n",
    "        model=\"gpt-4.1-mini\",\n",
    "        mcp_servers=mcp_servers,\n",
    "    )\n",
    "    return researcher"
   ]
  },
  {
   "cell_type": "code",
   "execution_count": 8,
   "id": "e6b404e8",
   "metadata": {},
   "outputs": [],
   "source": [
    "async def get_researcher_tool(mcp_servers) -> Tool:\n",
    "    researcher = await get_researcher(mcp_servers)\n",
    "    return researcher.as_tool(\n",
    "            tool_name=\"Researcher\",\n",
    "            tool_description=\"This tool researches online for news and opportunities, \\\n",
    "                either based on your specific request to look into a certain stock, \\\n",
    "                or generally for notable financial news and opportunities. \\\n",
    "                Describe what kind of research you're looking for.\"\n",
    "        )"
   ]
  },
  {
   "cell_type": "code",
   "execution_count": 10,
   "id": "10ae25f9",
   "metadata": {},
   "outputs": [
    {
     "data": {
      "text/markdown": [
       "Here is the latest summary on Amazon based on current data:\n",
       "\n",
       "- Amazon's stock is trading around $225.34, down about 1.6% recently, with a 52-week range from $161.38 to $242.52.\n",
       "- The market cap stands at approximately $2.4 trillion and the price-to-earnings (P/E) ratio is about 34.4.\n",
       "- Earnings are expected on October 29-30, 2025.\n",
       "- Amazon operates across retail (consumer products), advertising, subscription services, and cloud computing (AWS), with a solid revenue base exceeding $670 billion (TTM).\n",
       "- Some recent market dynamics show a mild decline consistent with broader market pressures like treasury yield jumps and tariff/Fed uncertainties.\n",
       "- Key operational highlights: strong gross margin (~49.6%), net margin (~10.5%), and high return on equity (~25%).\n",
       "- There are mentions of AWS cloud expansion efforts and ongoing e-commerce business strategies.\n",
       "\n",
       "Unfortunately, detailed latest news articles were inaccessible at the moment, but financial indicators suggest Amazon is navigating moderate volatility and focusing on growth areas like cloud services.\n",
       "\n",
       "Would you like me to monitor for breaking news or deeper insights into any specific segment?"
      ],
      "text/plain": [
       "<IPython.core.display.Markdown object>"
      ]
     },
     "metadata": {},
     "output_type": "display_data"
    }
   ],
   "source": [
    "research_question = \"What's the latest news on Amazon?\"\n",
    "\n",
    "for server in researcher_mcp_servers:\n",
    "    await server.connect()\n",
    "researcher = await get_researcher(researcher_mcp_servers)\n",
    "with trace(\"Researcher\"):\n",
    "    result = await Runner.run(researcher, research_question, max_turns=30)\n",
    "display(Markdown(result.final_output))\n",
    "\n"
   ]
  },
  {
   "cell_type": "markdown",
   "id": "62cd2afc",
   "metadata": {},
   "source": [
    "### Look at the trace\n",
    "\n",
    "https://platform.openai.com/traces"
   ]
  },
  {
   "cell_type": "code",
   "execution_count": 12,
   "id": "8b918da9",
   "metadata": {},
   "outputs": [
    {
     "data": {
      "text/markdown": [
       "{\"name\": \"vino\", \"balance\": 10000.0, \"strategy\": \"You are a day trader that aggressively buys and sells shares based on news and market conditions.\", \"holdings\": {}, \"transactions\": [], \"portfolio_value_time_series\": [[\"2025-09-03 15:09:43\", 10000.0]], \"total_portfolio_value\": 10000.0, \"total_profit_loss\": 0.0}"
      ],
      "text/plain": [
       "<IPython.core.display.Markdown object>"
      ]
     },
     "metadata": {},
     "output_type": "display_data"
    },
    {
     "data": {
      "text/markdown": [
       "You are a day trader that aggressively buys and sells shares based on news and market conditions."
      ],
      "text/plain": [
       "<IPython.core.display.Markdown object>"
      ]
     },
     "metadata": {},
     "output_type": "display_data"
    }
   ],
   "source": [
    "ed_initial_strategy = \"You are a day trader that aggressively buys and sells shares based on news and market conditions.\"\n",
    "Account.get(\"Vino\").reset(ed_initial_strategy)\n",
    "\n",
    "display(Markdown(await read_accounts_resource(\"Vino\")))\n",
    "display(Markdown(await read_strategy_resource(\"Vino\")))"
   ]
  },
  {
   "cell_type": "markdown",
   "id": "4b64707e",
   "metadata": {},
   "source": [
    "### And now - to create our Trader Agent"
   ]
  },
  {
   "cell_type": "code",
   "execution_count": 13,
   "id": "3fb619b8",
   "metadata": {},
   "outputs": [],
   "source": [
    "agent_name = \"Vino\"\n",
    "\n",
    "# Using MCP Servers to read resources\n",
    "account_details = await read_accounts_resource(agent_name)\n",
    "strategy = await read_strategy_resource(agent_name)\n",
    "\n",
    "instructions = f\"\"\"\n",
    "You are a trader that manages a portfolio of shares. Your name is {agent_name} and your account is under your name, {agent_name}.\n",
    "You have access to tools that allow you to search the internet for company news, check stock prices, and buy and sell shares.\n",
    "Your investment strategy for your portfolio is:\n",
    "{strategy}\n",
    "Your current holdings and balance is:\n",
    "{account_details}\n",
    "You have the tools to perform a websearch for relevant news and information.\n",
    "You have tools to check stock prices.\n",
    "You have tools to buy and sell shares.\n",
    "You have tools to save memory of companies, research and thinking so far.\n",
    "Please make use of these tools to manage your portfolio. Carry out trades as you see fit; do not wait for instructions or ask for confirmation.\n",
    "\"\"\"\n",
    "\n",
    "prompt = \"\"\"\n",
    "Use your tools to make decisions about your portfolio.\n",
    "Investigate the news and the market, make your decision, make the trades, and respond with a summary of your actions.\n",
    "\"\"\""
   ]
  },
  {
   "cell_type": "code",
   "execution_count": 14,
   "id": "eb9ebc83",
   "metadata": {},
   "outputs": [
    {
     "name": "stdout",
     "output_type": "stream",
     "text": [
      "\n",
      "You are a trader that manages a portfolio of shares. Your name is Vino and your account is under your name, Vino.\n",
      "You have access to tools that allow you to search the internet for company news, check stock prices, and buy and sell shares.\n",
      "Your investment strategy for your portfolio is:\n",
      "You are a day trader that aggressively buys and sells shares based on news and market conditions.\n",
      "Your current holdings and balance is:\n",
      "{\"name\": \"vino\", \"balance\": 10000.0, \"strategy\": \"You are a day trader that aggressively buys and sells shares based on news and market conditions.\", \"holdings\": {}, \"transactions\": [], \"portfolio_value_time_series\": [[\"2025-09-03 15:09:43\", 10000.0], [\"2025-09-03 15:14:21\", 10000.0]], \"total_portfolio_value\": 10000.0, \"total_profit_loss\": 0.0}\n",
      "You have the tools to perform a websearch for relevant news and information.\n",
      "You have tools to check stock prices.\n",
      "You have tools to buy and sell shares.\n",
      "You have tools to save memory of companies, research and thinking so far.\n",
      "Please make use of these tools to manage your portfolio. Carry out trades as you see fit; do not wait for instructions or ask for confirmation.\n",
      "\n"
     ]
    }
   ],
   "source": [
    "print(instructions)"
   ]
  },
  {
   "cell_type": "markdown",
   "id": "a35cf0dc",
   "metadata": {},
   "source": [
    "### And to run our Trader"
   ]
  },
  {
   "cell_type": "code",
   "execution_count": 15,
   "id": "7e7b21de",
   "metadata": {},
   "outputs": [
    {
     "data": {
      "text/markdown": [
       "### Summary of Actions:\n",
       "\n",
       "1. **Market Analysis**: \n",
       "   - Investigated current stock market trends, identifying strong movements in tech stocks, particularly Apple (AAPL) and Tesla (TSLA). Noted Amazon (AMZN) and Netflix (NFLX) experiencing downward pressure post-earnings.\n",
       "\n",
       "2. **Stock Price Checks**: \n",
       "   - Prices at the time of my analysis:\n",
       "     - AAPL: $230.18\n",
       "     - TSLA: $330.02\n",
       "     - AMZN: $225.34\n",
       "     - NFLX: $1214.11\n",
       "\n",
       "3. **Trades Executed**: \n",
       "   - **Buys**:\n",
       "     - Purchased **20 shares of AAPL** at $230.18 based on positive momentum after recent earnings.\n",
       "     - Purchased **10 shares of TSLA** at $330.02, anticipating a rebound due to upcoming delivery numbers.\n",
       "   \n",
       "   - **Sells** (Attempted):\n",
       "     - Attempted to **sell 5 shares of AMZN** but faced an error due to insufficient shares.\n",
       "     - Attempted to **sell 3 shares of NFLX** but faced an error due to insufficient shares.\n",
       "\n",
       "### Current Portfolio Status:\n",
       "- **Holdings**:\n",
       "  - AAPL: 20 shares\n",
       "  - TSLA: 10 shares\n",
       "- **Cash Balance**: $2,096.22\n",
       "- **Total Portfolio Value**: $9,984.22\n",
       "- **Total Profit/Loss**: -$15.78\n",
       "\n",
       "### Next Steps:\n",
       "- Consider additional trades with remaining cash.\n",
       "- Monitor the performance of AAPL and TSLA for potential price movements.\n",
       "- Investigate further trading opportunities in the market, especially focusing on the tech sector and energy stocks. \n",
       "\n",
       "Would you like me to continue searching for new opportunities or execute more trades?"
      ],
      "text/plain": [
       "<IPython.core.display.Markdown object>"
      ]
     },
     "metadata": {},
     "output_type": "display_data"
    }
   ],
   "source": [
    "for server in mcp_servers:\n",
    "    await server.connect()\n",
    "\n",
    "researcher_tool = await get_researcher_tool(researcher_mcp_servers)\n",
    "trader = Agent(\n",
    "    name=agent_name,\n",
    "    instructions=instructions,\n",
    "    tools=[researcher_tool],\n",
    "    mcp_servers=trader_mcp_servers,\n",
    "    model=\"gpt-4o-mini\",\n",
    ")\n",
    "with trace(agent_name):\n",
    "    result = await Runner.run(trader, prompt, max_turns=30)\n",
    "display(Markdown(result.final_output))"
   ]
  },
  {
   "cell_type": "markdown",
   "id": "919bf4a2",
   "metadata": {},
   "source": [
    "### Then go and look at the trace\n",
    "\n",
    "http://platform.openai.com/traces\n"
   ]
  },
  {
   "cell_type": "code",
   "execution_count": 16,
   "id": "2b15dd0e",
   "metadata": {},
   "outputs": [
    {
     "data": {
      "text/plain": [
       "'{\"name\": \"vino\", \"balance\": 2096.224, \"strategy\": \"You are a day trader that aggressively buys and sells shares based on news and market conditions.\", \"holdings\": {\"AAPL\": 20, \"TSLA\": 10}, \"transactions\": [{\"symbol\": \"AAPL\", \"quantity\": 20, \"price\": 230.17944, \"timestamp\": \"2025-09-03 15:15:33\", \"rationale\": \"AAPL is experiencing positive momentum after recent earnings reports. The tech sector is moving along with strong overall market sentiment.\"}, {\"symbol\": \"TSLA\", \"quantity\": 10, \"price\": 330.01872000000003, \"timestamp\": \"2025-09-03 15:15:33\", \"rationale\": \"TSLA shows potential for a rebound with upcoming delivery numbers and market buzz surrounding their new models.\"}], \"portfolio_value_time_series\": [[\"2025-09-03 15:09:43\", 10000.0], [\"2025-09-03 15:14:21\", 10000.0], [\"2025-09-03 15:15:33\", 9990.8112], [\"2025-09-03 15:15:33\", 9984.224], [\"2025-09-03 15:18:06\", 9984.224]], \"total_portfolio_value\": 9984.224, \"total_profit_loss\": -15.77599999999984}'"
      ]
     },
     "execution_count": 16,
     "metadata": {},
     "output_type": "execute_result"
    }
   ],
   "source": [
    "# And let's look at the results of the trading\n",
    "\n",
    "await read_accounts_resource(agent_name)"
   ]
  },
  {
   "cell_type": "markdown",
   "id": "a51eb954",
   "metadata": {},
   "source": [
    "### Now it's time to review the Python module made from this:\n",
    "\n",
    "`mcp_params.py` is where the MCP servers are specified. You'll notice I've brought in some familiar friends: memory and push notifications!\n",
    "\n",
    "`templates.py` is where the instructions and messages are set up (i.e. the System prompts and User prompts)\n",
    "\n",
    "`traders.py` brings it all together.\n",
    "\n",
    "You'll notice I've done something a bit fancy with code like this:\n",
    "\n",
    "```\n",
    "async with AsyncExitStack() as stack:\n",
    "    mcp_servers = [await stack.enter_async_context(MCPServerStdio(params)) for params in mcp_server_params]\n",
    "```\n",
    "\n",
    "This is just a tidy way to combine our \"with\" statements (known as context managers) so that we don't need to do something ugly like this:\n",
    "\n",
    "```\n",
    "async with MCPServerStdio(params=params1) as mcp_server1:\n",
    "    async with MCPServerStdio(params=params2) as mcp_server2:\n",
    "        async with MCPServerStdio(params=params3) as mcp_server3:\n",
    "            mcp_servers = [mcp_server1, mcp_server2, mcp_server3]\n",
    "```\n",
    "\n",
    "But it's equivalent.\n"
   ]
  },
  {
   "cell_type": "code",
   "execution_count": null,
   "id": "600ad97a",
   "metadata": {},
   "outputs": [],
   "source": [
    "from traders import Trader\n"
   ]
  },
  {
   "cell_type": "code",
   "execution_count": null,
   "id": "05e74b62",
   "metadata": {},
   "outputs": [],
   "source": [
    "trader = Trader(\"Vino\")"
   ]
  },
  {
   "cell_type": "code",
   "execution_count": null,
   "id": "038f3527",
   "metadata": {},
   "outputs": [],
   "source": [
    "await trader.run()"
   ]
  },
  {
   "cell_type": "code",
   "execution_count": null,
   "id": "158eef91",
   "metadata": {},
   "outputs": [],
   "source": [
    "await read_accounts_resource(\"Ed\")"
   ]
  },
  {
   "cell_type": "markdown",
   "id": "d2ffc299",
   "metadata": {},
   "source": [
    "### Now look at the trace\n",
    "\n",
    "https://platform.openai.com/traces\n",
    "\n",
    "### How many tools did we use in total?"
   ]
  },
  {
   "cell_type": "code",
   "execution_count": null,
   "id": "bfb063b9",
   "metadata": {},
   "outputs": [],
   "source": [
    "from mcp_params import trader_mcp_server_params, researcher_mcp_server_params\n",
    "\n",
    "all_params = trader_mcp_server_params + researcher_mcp_server_params(\"ed\")\n",
    "\n",
    "count = 0\n",
    "for each_params in all_params:\n",
    "    async with MCPServerStdio(params=each_params, client_session_timeout_seconds=60) as server:\n",
    "        mcp_tools = await server.list_tools()\n",
    "        count += len(mcp_tools)\n",
    "print(f\"We have {len(all_params)} MCP servers, and {count} tools\")"
   ]
  }
 ],
 "metadata": {
  "kernelspec": {
   "display_name": "agents",
   "language": "python",
   "name": "python3"
  },
  "language_info": {
   "codemirror_mode": {
    "name": "ipython",
    "version": 3
   },
   "file_extension": ".py",
   "mimetype": "text/x-python",
   "name": "python",
   "nbconvert_exporter": "python",
   "pygments_lexer": "ipython3",
   "version": "3.12.3"
  }
 },
 "nbformat": 4,
 "nbformat_minor": 5
}
