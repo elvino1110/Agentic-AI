{
 "cells": [
  {
   "cell_type": "markdown",
   "id": "084a9ef4",
   "metadata": {},
   "source": [
    "### Week 6 Day 5\n",
    "\n",
    "THE GRAND FINALE!!\n",
    "\n",
    "# Autonomous Traders\n",
    "\n",
    "An equity trading simulation, with 4 Traders and a Researcher, powered by 44 MCP servers with tools & resources.\n",
    "\n",
    "Time to add a team of traders."
   ]
  },
  {
   "cell_type": "markdown",
   "id": "e4a89c7c",
   "metadata": {},
   "source": [
    "<table style=\"margin: 0; text-align: left; width:100%\">\n",
    "    <tr>\n",
    "        <td style=\"width: 150px; height: 150px; vertical-align: middle;\">\n",
    "            <img src=\"../../assets/tools.png\" width=\"150\" height=\"150\" style=\"display: block;\" />\n",
    "        </td>\n",
    "        <td>\n",
    "            <h2 style=\"color:#00bfff;\">Adding more and more MCP Servers</h2>\n",
    "            <span style=\"color:#00bfff;\">Over time, I plan to keep adding MCP Servers agents and functionality - and you should too! For now I've added Push Notification since it's been a recurring theme through the course.\n",
    "            </span>\n",
    "        </td>\n",
    "    </tr>\n",
    "</table>"
   ]
  },
  {
   "cell_type": "markdown",
   "id": "902db6d5",
   "metadata": {},
   "source": [
    "## Introducing our FOUR traders\n",
    "\n",
    "We have four traders, and they are inspired by 4 titans of the industry.  \n",
    "\n",
    "**Warren**, in homage to Warren Buffett  \n",
    "**George**, in homage to George Soros  \n",
    "**Ray**, in homage to Ray Dalio  \n",
    "**Cathie**, in homage to Cathie Wood\n",
    "\n",
    "They have initial investment strategies that are inspired by their namesakes; but they have the autonomy to change their own strategy over time if they wish, using a tool.\n",
    "\n",
    "\n",
    "Check out the file `reset.py` to read their initial investment theses."
   ]
  },
  {
   "cell_type": "code",
   "execution_count": null,
   "id": "de0db351",
   "metadata": {},
   "outputs": [
    {
     "name": "stderr",
     "output_type": "stream",
     "text": [
      "Bad pipe message: %s [b'\\x1a@GNn)\\x01&$H\\xb0\\r\\x87*\\xcc\\xbc\\xa5d\\x00\\x01|\\x00\\x00\\x00\\x01\\x00\\x02\\x00\\x03\\x00\\x04\\x00\\x05\\x00\\x06\\x00\\x07\\x00\\x08\\x00\\t\\x00\\n\\x00\\x0b\\x00\\x0c\\x00\\r\\x00\\x0e\\x00\\x0f\\x00\\x10\\x00\\x11\\x00\\x12\\x00\\x13\\x00\\x14\\x00\\x15\\x00\\x16\\x00\\x17\\x00\\x18\\x00\\x19\\x00\\x1a\\x00\\x1b\\x00/\\x000\\x001\\x002\\x003\\x004\\x005\\x006\\x007\\x008\\x009\\x00:\\x00;\\x00', b'=\\x00>\\x00?\\x00@\\x00A\\x00B\\x00C\\x00D\\x00E\\x00F\\x00g\\x00h\\x00i\\x00j\\x00k\\x00l\\x00m\\x00\\x84\\x00\\x85\\x00\\x86\\x00\\x87\\x00\\x88\\x00\\x89\\x00\\x96\\x00\\x97\\x00\\x98\\x00\\x99\\x00\\x9a\\x00\\x9b\\x00\\x9c']\n",
      "Bad pipe message: %s [b't`\\xd6?v\\x04\\x9e\\xda\\xfd\\xb1/vN\\xf8J\\x07\\x91\\xaa\\x00\\x01|\\x00\\x00\\x00\\x01\\x00\\x02\\x00\\x03\\x00\\x04\\x00\\x05\\x00\\x06\\x00\\x07\\x00\\x08\\x00\\t\\x00\\n\\x00\\x0b\\x00\\x0c\\x00\\r\\x00\\x0e\\x00\\x0f\\x00\\x10\\x00\\x11\\x00\\x12\\x00\\x13\\x00\\x14\\x00\\x15\\x00\\x16\\x00\\x17\\x00\\x18\\x00\\x19\\x00\\x1a\\x00\\x1b\\x00/\\x000\\x00', b'2\\x003\\x004\\x005\\x006\\x007\\x008\\x009\\x00:\\x00;\\x00<\\x00=\\x00>\\x00?\\x00@\\x00A\\x00B\\x00C\\x00D\\x00E\\x00F\\x00g\\x00h\\x00i\\x00']\n",
      "Bad pipe message: %s [b'k\\x00l\\x00m\\x00\\x84\\x00\\x85\\x00\\x86\\x00\\x87\\x00\\x88\\x00\\x89\\x00\\x96\\x00\\x97\\x00\\x98\\x00\\x99\\x00\\x9a\\x00\\x9b\\x00\\x9c\\x00\\x9d\\x00\\x9e\\x00\\x9f\\x00\\xa0\\x00\\xa1\\x00\\xa2\\x00\\xa3\\x00\\xa4\\x00\\xa5\\x00\\xa6\\x00\\xa7\\x00\\xba\\x00\\xbb\\x00\\xbc\\x00\\xbd\\x00\\xbe\\x00\\xbf\\x00\\xc0\\x00\\xc1\\x00\\xc2\\x00\\xc3\\x00\\xc4\\x00\\xc5\\x13\\x01\\x13\\x02\\x13\\x03\\x13\\x04\\x13\\x05\\xc0\\x01\\xc0\\x02\\xc0\\x03\\xc0\\x04\\xc0\\x05\\xc0\\x06\\xc0\\x07\\xc0\\x08\\xc0\\t']\n",
      "Bad pipe message: %s [b'o\\xe6\\x97\\xdb\\xb4\\xac,\\x9aw\\xeb\\xe6\\xa2N\\x8e+\\xc1gJ\\x00\\x01|\\x00\\x00\\x00\\x01\\x00\\x02\\x00\\x03\\x00\\x04\\x00\\x05\\x00\\x06\\x00\\x07\\x00\\x08\\x00\\t\\x00\\n\\x00\\x0b\\x00\\x0c\\x00\\r\\x00\\x0e\\x00\\x0f\\x00\\x10\\x00\\x11\\x00\\x12\\x00\\x13\\x00\\x14\\x00\\x15\\x00\\x16\\x00\\x17\\x00\\x18\\x00\\x19\\x00\\x1a\\x00\\x1b\\x00/\\x000\\x001\\x002\\x003\\x004\\x005\\x006\\x007\\x008\\x009\\x00:\\x00;\\x00<\\x00=\\x00>\\x00?\\x00@\\x00A\\x00B\\x00C\\x00D\\x00E\\x00F\\x00g\\x00h\\x00i\\x00j\\x00k\\x00l\\x00m\\x00\\x84\\x00\\x85\\x00\\x86\\x00\\x87\\x00\\x88\\x00\\x89\\x00\\x96\\x00\\x97\\x00\\x98\\x00\\x99\\x00\\x9a\\x00\\x9b\\x00\\x9c\\x00\\x9d\\x00\\x9e\\x00\\x9f\\x00\\xa0\\x00\\xa1\\x00\\xa2\\x00\\xa3\\x00\\xa4\\x00\\xa5\\x00\\xa6\\x00\\xa7\\x00\\xba\\x00\\xbb\\x00']\n",
      "Bad pipe message: %s [b\"\\xbd\\x00\\xbe\\x00\\xbf\\x00\\xc0\\x00\\xc1\\x00\\xc2\\x00\\xc3\\x00\\xc4\\x00\\xc5\\x13\\x01\\x13\\x02\\x13\\x03\\x13\\x04\\x13\\x05\\xc0\\x01\\xc0\\x02\\xc0\\x03\\xc0\\x04\\xc0\\x05\\xc0\\x06\\xc0\\x07\\xc0\\x08\\xc0\\t\\xc0\\n\\xc0\\x0b\\xc0\\x0c\\xc0\\r\\xc0\\x0e\\xc0\\x0f\\xc0\\x10\\xc0\\x11\\xc0\\x12\\xc0\\x13\\xc0\\x14\\xc0\\x15\\xc0\\x16\\xc0\\x17\\xc0\\x18\\xc0\\x19\\xc0#\\xc0$\\xc0%\\xc0&\\xc0'\\xc0(\\xc0)\\xc0*\\xc0+\\xc0,\\xc0-\\xc0.\\xc0/\\xc00\\xc01\\xc02\\xc0r\\xc0s\\xc0t\\xc0u\\xc0v\\xc0w\\xc0x\\xc0y\\xc0z\\xc0{\\xc0|\\xc0}\\xc0~\\xc0\\x7f\\xc0\\x80\\xc0\\x81\\xc0\\x82\\xc0\\x83\\xc0\\x84\\xc0\\x85\\xc0\\x86\\xc0\\x87\\xc0\\x88\\xc0\\x89\\xc0\\x8a\\xc0\\x8b\\xc0\\x8c\\xc0\\x8d\\xc0\\x8e\\xc0\\x8f\\xc0\\x90\\xc0\\x91\\xc0\\x92\\xc0\\x93\\xc0\\x94\\xc0\\x95\\xc0\\x96\\xc0\\x97\\xc0\\x98\"]\n"
     ]
    }
   ],
   "source": [
    "from reset import reset_traders\n",
    "\n"
   ]
  },
  {
   "cell_type": "markdown",
   "id": "8e45b4a6",
   "metadata": {},
   "source": [
    "## Revealing the final changes\n",
    "\n",
    "Some new MCP servers - memory and push notification - take a look at `mcp_params.py` and `push_server.py`\n",
    "\n",
    "And this is a cool thing:\n",
    "\n",
    "OpenAI Agents SDK has a nice feature that you can integrate with their Tracing code, so that you can monitor Trace messages in code.\n",
    "\n",
    "See `tracers.py` - I've written a custom tracer that records our Trader activity and stores it in the database, so we can surface the Traders' inner thoughts on our UI."
   ]
  },
  {
   "cell_type": "markdown",
   "id": "3a2dfad2",
   "metadata": {},
   "source": [
    "# AND NOW.. Reveal part 1\n",
    "\n",
    "First, there are some settings that you can optionally add to your .env file:\n",
    "\n",
    "`RUN_EVERY_N_MINUTES=60`  \n",
    "This determines how often the trader agents are run, and it defaults to every 60 minutes if not specified in your .env file.\n",
    "\n",
    "`RUN_EVEN_WHEN_MARKET_IS_CLOSED=False`  \n",
    "This determines if the traders should still run out of hours, and defaults to False if not specified in your .env file.\n",
    "\n",
    "`USE_MANY_MODELS=False`  \n",
    "This determines whether to use DeepSeek, Gemini and Grok in addition to OpenAI, using DeepSeek API and OpenRouter.  \n",
    "It defaults to False if not specified in your .env file, in which case gpt-4o-mini is used throughout.\n",
    "\n",
    "Please make those changes if you wish!\n",
    "\n",
    "Then take a look at the UI code in `app.py`\n",
    "\n",
    "Then, open a new terminal (Shift + Ctrl + Backtick)\n",
    "\n",
    "Change to this directory:  \n",
    "`cd 6_mcp`\n",
    "\n",
    "And run:  \n",
    "`uv run app.py`\n",
    "\n",
    "And take joy in the user interface!"
   ]
  },
  {
   "cell_type": "markdown",
   "id": "0f9cbeca",
   "metadata": {},
   "source": [
    "# AND NOW.. Reveal part 2\n"
   ]
  },
  {
   "cell_type": "markdown",
   "id": "7de65dee",
   "metadata": {},
   "source": [
    "### Now go and look at the engine:\n",
    "\n",
    "`trading_floor.py`\n",
    "\n",
    "It has the super-simple loop that's where the magic happens:\n",
    "\n",
    "\n",
    "```\n",
    "while True:\n",
    "    await asyncio.gather(*[trader.run() for trader in traders])\n",
    "    await asyncio.sleep(RUN_EVERY_N_MINUTES * 60)\n",
    "```\n",
    "\n",
    "You'll also see how it looks for the environment variables.\n",
    "\n",
    "And finally, open a new terminal (Shift + Ctrl + Backtick, or press the Plus on the top right of the Terminals below)\n",
    "\n",
    "Change to this directory:  \n",
    "`cd 6_mcp`\n",
    "\n",
    "And run:  \n",
    "`uv run trading_floor.py`\n",
    "\n",
    "And watch your user interface - see your trading team in action!"
   ]
  },
  {
   "cell_type": "markdown",
   "id": "6542c96e",
   "metadata": {},
   "source": [
    "<table style=\"margin: 0; text-align: left; width:100%\">\n",
    "    <tr>\n",
    "        <td style=\"width: 150px; height: 150px; vertical-align: middle;\">\n",
    "            <img src=\"../../assets/stop.png\" width=\"150\" height=\"150\" style=\"display: block;\" />\n",
    "        </td>\n",
    "        <td>\n",
    "            <h2 style=\"color:#ff7800;\">One last reminder to monitor your APIs</h2>\n",
    "            <span style=\"color:#ff7800;\">This will run on a loop, every hour, or however you specified. You should watch your API usage, and stop this running when you've had enough!<br/>\n",
    "            I find myself watching this happily for hours - and I hope you will too! A huge project that showcases the power of Autonomous Agents.\n",
    "            </span>\n",
    "        </td>\n",
    "    </tr>\n",
    "</table>"
   ]
  },
  {
   "cell_type": "markdown",
   "id": "75743834",
   "metadata": {},
   "source": [
    "<table style=\"margin: 0; text-align: left; width:100%\">\n",
    "    <tr>\n",
    "        <td style=\"width: 150px; height: 150px; vertical-align: middle;\">\n",
    "            <img src=\"../../assets/thanks.png\" width=\"150\" height=\"150\" style=\"display: block;\" />\n",
    "        </td>\n",
    "        <td>\n",
    "            <h2 style=\"color:#00cc00;\">THANK YOU SO SO MUCH!</h2>\n",
    "            <span style=\"color:#00cc00;\">You've reached the conclusion! I'm so grateful that you stuck at it all the way to the end. My editor would smack me if I didn't mention one more time: if you're able to rate the course on Udemy, I'd be super thankful: it's the most important way that Udemy decides whether to show the course to others and it makes a massive difference.<br/><br/>Please do stay in touch and let me know how you get on, and share your journey in this extraordinary field in these extraordinary times. If you've made it this far and somehow resisted connecting with me on LinkedIn - <a href=\"https://www.linkedin.com/in/eddonner/\">here I am</a> one more time! If you wanted to post about your accomplishment on the course, please tag me and I'll weigh in to increase your exposure.<br><br/>Congratulations! \n",
    "            </span>\n",
    "        </td>\n",
    "    </tr>\n",
    "</table>"
   ]
  }
 ],
 "metadata": {
  "kernelspec": {
   "display_name": "agents",
   "language": "python",
   "name": "python3"
  },
  "language_info": {
   "codemirror_mode": {
    "name": "ipython",
    "version": 3
   },
   "file_extension": ".py",
   "mimetype": "text/x-python",
   "name": "python",
   "nbconvert_exporter": "python",
   "pygments_lexer": "ipython3",
   "version": "3.12.3"
  }
 },
 "nbformat": 4,
 "nbformat_minor": 5
}
